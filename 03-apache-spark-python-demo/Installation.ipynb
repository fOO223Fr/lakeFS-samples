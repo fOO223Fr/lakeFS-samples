{
 "cells": [
  {
   "cell_type": "markdown",
   "id": "992ae86c-6505-4461-ac0b-36db2e68543b",
   "metadata": {},
   "source": [
    "# Installation and Setup"
   ]
  },
  {
   "cell_type": "markdown",
   "id": "3bd94662-88a9-41f2-bd31-59ac5daaab2a",
   "metadata": {},
   "source": [
    "# [Using lakeFS with Spark](https://docs.lakefs.io/integrations/spark.html)"
   ]
  },
  {
   "cell_type": "markdown",
   "id": "d5328760-2188-4350-abcd-d7297052a0f2",
   "metadata": {},
   "source": [
    "lakeFS support in Spark has two tiers:\n",
    "\n",
    "    Access lakeFS using the S3A gateway.\n",
    "    Access lakeFS using the lakeFS-specific Hadoop FileSystem.\n",
    "\n",
    "Using the S3A gateway is easier to configure and may be more suitable for legacy or small-scale applications. Using the lakeFS FileSystem requires a somewhat more complex configuration, but offers greatly increased performance."
   ]
  },
  {
   "cell_type": "markdown",
   "id": "b2f4e800-ba91-4c12-a135-f4ed9b5cdc83",
   "metadata": {},
   "source": [
    "## Install S3A gateway\n",
    "\n",
    "S3A depends upon two JARs, alongside hadoop-common and its dependencies: hadoop-aws and aws-java-sdk-bundle JARs\n",
    "\n",
    "The versions of hadoop-client and hadoop-aws must be identical. Run following command to find version number for already installed hadoop-client."
   ]
  },
  {
   "cell_type": "code",
   "execution_count": null,
   "id": "25c0fe3e-a596-4bf0-9de0-956fe8306d0d",
   "metadata": {},
   "outputs": [],
   "source": [
    "! ls -l $SPARK_HOME/jars/hadoop-*"
   ]
  },
  {
   "cell_type": "markdown",
   "id": "25ba980d-64fd-485e-b09f-1fdd2eed62c3",
   "metadata": {
    "tags": []
   },
   "source": [
    "#### If hadoop-client version is not 3.3.2 then change the version numbers in the following command before running it:"
   ]
  },
  {
   "cell_type": "code",
   "execution_count": null,
   "id": "ed77edf8-397a-448b-ac3b-b9f03bd2d34d",
   "metadata": {},
   "outputs": [],
   "source": [
    "! sudo wget -P $SPARK_HOME/jars https://repo1.maven.org/maven2/org/apache/hadoop/hadoop-aws/3.3.2/hadoop-aws-3.3.2.jar"
   ]
  },
  {
   "cell_type": "markdown",
   "id": "b56c0a8a-44c7-44eb-8460-4c4d9f0e43ee",
   "metadata": {
    "tags": []
   },
   "source": [
    "#### Go to https://mvnrepository.com/artifact/org.apache.hadoop/hadoop-aws, click on version number you used above and find verion number for aws-java-sdk-bundle under Compile Dependencies section.\n",
    "\n",
    "#### If version number for aws-java-sdk-bundle is not 1.11.1026 then change the version numbers in the following command before running it:"
   ]
  },
  {
   "cell_type": "code",
   "execution_count": null,
   "id": "bcb63b96-bfa5-498b-bbd0-ae88c8df79c6",
   "metadata": {},
   "outputs": [],
   "source": [
    "! sudo wget -P $SPARK_HOME/jars https://repo1.maven.org/maven2/com/amazonaws/aws-java-sdk-bundle/1.11.1026/aws-java-sdk-bundle-1.11.1026.jar"
   ]
  },
  {
   "cell_type": "markdown",
   "id": "1e2a3326-ae15-4834-9072-e4aa08b1f602",
   "metadata": {},
   "source": [
    "## Install lakeFS Client for Python\n",
    "### lakeFS Client will allow you to interact with lakeFS server from Python"
   ]
  },
  {
   "cell_type": "code",
   "execution_count": null,
   "id": "b286ca34-4140-4c8a-9811-ff785e22fdb6",
   "metadata": {},
   "outputs": [],
   "source": [
    "! sudo pip install lakefs-client"
   ]
  },
  {
   "cell_type": "markdown",
   "id": "3b3950d7-7079-4c46-95ce-3a7b33b40a14",
   "metadata": {},
   "source": [
    "## Once you have successfully installed S3A Gateway and lakeFS Client then open [Spark Demo](./Spark%20Demo.ipynb) notebook and follow the instructions"
   ]
  }
 ],
 "metadata": {
  "kernelspec": {
   "display_name": "Python 3 (ipykernel)",
   "language": "python",
   "name": "python3"
  },
  "language_info": {
   "codemirror_mode": {
    "name": "ipython",
    "version": 3
   },
   "file_extension": ".py",
   "mimetype": "text/x-python",
   "name": "python",
   "nbconvert_exporter": "python",
   "pygments_lexer": "ipython3",
   "version": "3.10.5"
  }
 },
 "nbformat": 4,
 "nbformat_minor": 5
}
