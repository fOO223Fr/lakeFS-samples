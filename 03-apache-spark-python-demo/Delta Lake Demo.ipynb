{
 "cells": [
  {
   "cell_type": "markdown",
   "id": "dbbe0a71-a38c-47d6-a5d6-fad33198407c",
   "metadata": {},
   "source": [
    "# [Integration of lakeFS with Delta Lake](https://docs.lakefs.io/integrations/delta.html)\n",
    "\n",
    "## Use Cases:\n",
    "### 1. Isolating ETL job and atomic promotion to production\n",
    "### 2. Atomic rollback of Multi-Table Transactions"
   ]
  },
  {
   "cell_type": "markdown",
   "id": "d3d3702c-e516-425d-82f7-be57aa45a1fc",
   "metadata": {},
   "source": [
    "## Prerequisites\n",
    "\n",
    "###### This Notebook requires connecting to a lakeFS Server. \n",
    "###### To spin up lakeFS quickly - use the Playground (https://demo.lakefs.io) which provides lakeFS server on-demand with a single click; \n",
    "###### Or, alternatively, refer to lakeFS Quickstart doc (https://docs.lakefs.io/quickstart/installing.html)."
   ]
  },
  {
   "cell_type": "markdown",
   "id": "ba3ae1eb-2aa7-4ce8-bed2-272b7b089d3c",
   "metadata": {},
   "source": [
    "## Setup Task: Change your lakeFS credentials"
   ]
  },
  {
   "cell_type": "code",
   "execution_count": null,
   "id": "97bd1515-f772-46be-851f-ab11a15bb60d",
   "metadata": {},
   "outputs": [],
   "source": [
    "lakefsEndPoint = '<lakeFS Endpoint URL>' # e.g. 'https://playground-name.lakefs-demo.io' or 'http://host.docker.internal:8000' (if lakeFS is running in local Docker container)\n",
    "lakefsAccessKey = '<lakeFS Access Key>'\n",
    "lakefsSecretKey = '<lakeFS Secret Key>'"
   ]
  },
  {
   "cell_type": "markdown",
   "id": "df89e83f-73f2-404b-a5ce-f0bb707b7733",
   "metadata": {},
   "source": [
    "## Setup Task: You can change lakeFS repo name (it can be an existing repo or provide a new repo name)"
   ]
  },
  {
   "cell_type": "code",
   "execution_count": null,
   "id": "bce13c51-c91b-4c05-894e-5a1392b969f8",
   "metadata": {},
   "outputs": [],
   "source": [
    "repo = \"my-repo\""
   ]
  },
  {
   "cell_type": "markdown",
   "id": "843fd92b-bb0b-462c-b1c7-0eea5e403396",
   "metadata": {},
   "source": [
    "## Setup Task: Versioning Information"
   ]
  },
  {
   "cell_type": "code",
   "execution_count": null,
   "id": "557e4076-0019-4c67-bb35-e08aa3467e7d",
   "metadata": {},
   "outputs": [],
   "source": [
    "mainBranch = \"main\"\n",
    "deltaLakeETLBranch = \"delta-lake-etl-branch\"\n",
    "customersTable = \"customers\"\n",
    "ordersTable = \"orders\"\n",
    "orderUpdatesTable = \"order_updates\""
   ]
  },
  {
   "cell_type": "markdown",
   "id": "19d3581f-91cf-407a-8bdf-831986839f2e",
   "metadata": {},
   "source": [
    "## Setup Task: Storage Information - Optional on Playground\n",
    "#### Change the Storage Namespace to a location in the bucket you’ve configured. The storage namespace is a location in the underlying storage where data for this repository will be stored."
   ]
  },
  {
   "cell_type": "code",
   "execution_count": null,
   "id": "e7ae1382-c5ca-464a-8519-5efacf7a8a15",
   "metadata": {},
   "outputs": [],
   "source": [
    "storageNamespace = 's3://<S3 Bucket Name>/'  # e.g. 's3://treeverse-demo-lakefs-storage-production/user_playground-name/my-repo' or 'local://my-bucket'"
   ]
  },
  {
   "cell_type": "markdown",
   "id": "23cf2d78-fe5c-468f-af90-3afde0eebf16",
   "metadata": {},
   "source": [
    "## Setup Task: Run additional [Setup](./deltaLake/deltaLakeSetup.ipynb) tasks here"
   ]
  },
  {
   "cell_type": "code",
   "execution_count": null,
   "id": "ca6e01d0-c0ed-4962-b83a-4a1789ae0d16",
   "metadata": {},
   "outputs": [],
   "source": [
    "%run ./deltaLake/deltaLakeSetup.ipynb"
   ]
  },
  {
   "cell_type": "markdown",
   "id": "c88db614-4f3a-4afa-95b6-e14ff8b6a006",
   "metadata": {},
   "source": [
    "## Create Repository - Optional on Playground or if repository exists"
   ]
  },
  {
   "cell_type": "code",
   "execution_count": null,
   "id": "99618e62-bd2c-41b8-9b20-96827b24a857",
   "metadata": {},
   "outputs": [],
   "source": [
    "client.repositories.create_repository(\n",
    "    repository_creation=models.RepositoryCreation(\n",
    "        name=repo, \n",
    "        storage_namespace=storageNamespace, \n",
    "        default_branch=mainBranch))"
   ]
  },
  {
   "cell_type": "markdown",
   "id": "cbc87fa4-3d84-4c13-a612-b2f14d15d4e6",
   "metadata": {},
   "source": [
    "## For this demo - we'll be utilizing a dataset - [Orion Star - Sports and outdoors RDBMS dataset](https://www.kaggle.com/datasets/chethanp11/orion-star-sports-and-outdoors-rdbms-dataset) from [Kaggle](https://www.kaggle.com/)."
   ]
  },
  {
   "cell_type": "markdown",
   "id": "b1577257-81b2-4971-bafb-5aabfd1e603e",
   "metadata": {},
   "source": [
    "## Create Customers delta table in the main branch (using [CUSTOMER.csv](./data/samples/OrionStar/CUSTOMER.csv) file)"
   ]
  },
  {
   "cell_type": "code",
   "execution_count": null,
   "id": "7229f90d-accb-4f8f-9713-50cd7c8044b5",
   "metadata": {},
   "outputs": [],
   "source": [
    "customersTablePath = f\"s3a://{repo}/{mainBranch}/{customersTable}\"\n",
    "df = spark.read.csv('./data/samples/OrionStar/CUSTOMER.csv',header=True,schema=customersSchema)\n",
    "df.write.format(\"delta\").mode(\"overwrite\").save(customersTablePath)\n",
    "df.show(10)"
   ]
  },
  {
   "cell_type": "markdown",
   "id": "68e404d3-982f-48d3-a96c-b8bf566dab68",
   "metadata": {},
   "source": [
    "## Create Orders delta table in the main branch (using [ORDER_FACT.csv](./data/samples/OrionStar/ORDER_FACT.csv) file)"
   ]
  },
  {
   "cell_type": "code",
   "execution_count": null,
   "id": "172e822c-efb9-4879-b8a6-dd6879f6cf23",
   "metadata": {},
   "outputs": [],
   "source": [
    "ordersTablePath = f\"s3a://{repo}/{mainBranch}/{ordersTable}\"\n",
    "df = spark.read.csv('./data/samples/OrionStar/ORDER_FACT.csv',header=True,schema=ordersSchema)\n",
    "df.write.format(\"delta\").mode(\"overwrite\").save(ordersTablePath)\n",
    "df.show(10)"
   ]
  },
  {
   "cell_type": "markdown",
   "id": "b763c2a9-561c-447c-ae2b-0b8fa13fedb0",
   "metadata": {},
   "source": [
    "## Commit changes and attach some metadata"
   ]
  },
  {
   "cell_type": "code",
   "execution_count": null,
   "id": "d87a83ee-8547-4ed0-81a6-637f6f01838d",
   "metadata": {},
   "outputs": [],
   "source": [
    "client.commits.commit(\n",
    "    repository=repo,\n",
    "    branch=mainBranch,\n",
    "    commit_creation=models.CommitCreation(\n",
    "        message='Added customers and orders Delta tables!', \n",
    "        metadata={'using': 'python_api'}))"
   ]
  },
  {
   "cell_type": "markdown",
   "id": "63ec287f-b340-43be-983f-fad43b024ac5",
   "metadata": {},
   "source": [
    "# ETL Job Starts"
   ]
  },
  {
   "cell_type": "markdown",
   "id": "5fa6a1a9-70c2-4416-b860-97aa1c2a6dfa",
   "metadata": {},
   "source": [
    "## Create a new branch"
   ]
  },
  {
   "cell_type": "code",
   "execution_count": null,
   "id": "9d7daab4-0479-4635-9d8b-9985298a9098",
   "metadata": {},
   "outputs": [],
   "source": [
    "client.branches.create_branch(\n",
    "    repository=repo, \n",
    "    branch_creation=models.BranchCreation(\n",
    "        name=deltaLakeETLBranch, source=mainBranch))"
   ]
  },
  {
   "cell_type": "markdown",
   "id": "6a6e75ca-12c6-4aa9-81f2-e7e3e092a56b",
   "metadata": {},
   "source": [
    "## List the repository branches by using lakeFS Python client API"
   ]
  },
  {
   "cell_type": "code",
   "execution_count": null,
   "id": "9c75b78f-9560-459f-a661-becc4be9ab59",
   "metadata": {},
   "outputs": [],
   "source": [
    "lakefs_demo.print_branches(\n",
    "    client.branches.list_branches(\n",
    "        repository=repo))"
   ]
  },
  {
   "cell_type": "markdown",
   "id": "ce2c7463-b3dd-43da-894b-25dbe92f8af6",
   "metadata": {},
   "source": [
    "## Apply POS (Point of Sale) Transactions to Delta Lake: delete data for a customer on the new branch"
   ]
  },
  {
   "cell_type": "code",
   "execution_count": null,
   "id": "8228df43-a222-44b2-918d-2f4863717156",
   "metadata": {},
   "outputs": [],
   "source": [
    "from delta.tables import *\n",
    "\n",
    "ordersTablePath = f\"s3a://{repo}/{deltaLakeETLBranch}/{ordersTable}\"\n",
    "deltaTable = DeltaTable.forPath(spark, ordersTablePath)\n",
    "deltaTable.delete(\"Customer_ID = 19444\")"
   ]
  },
  {
   "cell_type": "code",
   "execution_count": null,
   "id": "46e19799-93b9-41a5-8764-d2bcc8d2e574",
   "metadata": {},
   "outputs": [],
   "source": [
    "customersTablePath = f\"s3a://{repo}/{deltaLakeETLBranch}/{customersTable}\"\n",
    "deltaTable = DeltaTable.forPath(spark, customersTablePath)\n",
    "deltaTable.delete(\"Customer_ID = 19444\")"
   ]
  },
  {
   "cell_type": "markdown",
   "id": "d889b50b-42ad-4aef-a13e-017c8342a68a",
   "metadata": {},
   "source": [
    "## Apply POS Transactions to Delta Lake: update data for a customer on the new branch"
   ]
  },
  {
   "cell_type": "code",
   "execution_count": null,
   "id": "65386bf4-5218-4fab-9db4-a983aad4320c",
   "metadata": {},
   "outputs": [],
   "source": [
    "customersTablePath = f\"s3a://{repo}/{deltaLakeETLBranch}/{customersTable}\"\n",
    "deltaTable = DeltaTable.forPath(spark, customersTablePath)\n",
    "deltaTable.update(\n",
    "  condition = expr(\"Customer_ID = 63\"),\n",
    "  set = { \"Customer_FirstName\": \"'Jim'\",\n",
    "          \"Customer_Name\": \"'Jim Klisurich'\"})"
   ]
  },
  {
   "cell_type": "markdown",
   "id": "85a9b453-34e4-45be-8b07-59d7ee7f3514",
   "metadata": {},
   "source": [
    "## Apply POS Transactions to Delta Lake: batch upsert (5 updated and 10 new orders in [ORDER_FACT_UPDATES.csv](./data/samples/OrionStar/ORDER_FACT_UPDATES.csv) file)"
   ]
  },
  {
   "cell_type": "code",
   "execution_count": null,
   "id": "e804048d-1b14-4a06-8d31-31e3c4e7af08",
   "metadata": {},
   "outputs": [],
   "source": [
    "ordersTablePath = f\"s3a://{repo}/{deltaLakeETLBranch}/{ordersTable}\"\n",
    "deltaTableOrders = DeltaTable.forPath(spark, ordersTablePath)\n",
    "\n",
    "orderUpdatesTablePath = f\"s3a://{repo}/{deltaLakeETLBranch}/{orderUpdatesTable}\"\n",
    "dfOrderUpdates = spark.read.csv('./data/samples/OrionStar/ORDER_FACT_UPDATES.csv',header=True,schema=ordersSchema)\n",
    "dfOrderUpdates.write.format(\"delta\").mode(\"overwrite\").save(orderUpdatesTablePath)\n",
    "\n",
    "deltaTableOrders.alias('orders') \\\n",
    "  .merge(\n",
    "    dfOrderUpdates.alias('orderUpdates'),\n",
    "    'orders.Order_ID = orderUpdates.Order_ID AND orders.Product_ID = orderUpdates.Product_ID'\n",
    "  ) \\\n",
    "  .whenMatchedUpdate(set =\n",
    "    {\n",
    "      \"Customer_ID\": \"orderUpdates.Customer_ID\",\n",
    "      \"Employee_ID\": \"orderUpdates.Employee_ID\",\n",
    "      \"Street_ID\": \"orderUpdates.Street_ID\",\n",
    "      \"Order_Date\": \"orderUpdates.Order_Date\",\n",
    "      \"Delivery_Date\": \"orderUpdates.Delivery_Date\",\n",
    "      \"Order_ID\": \"orderUpdates.Order_ID\",\n",
    "      \"Order_Type\": \"orderUpdates.Order_Type\",\n",
    "      \"Product_ID\": \"orderUpdates.Product_ID\",\n",
    "      \"Quantity\": \"orderUpdates.Quantity\",\n",
    "      \"Total_Retail_Price\": \"orderUpdates.Total_Retail_Price\",\n",
    "      \"CostPrice_Per_Unit\": \"orderUpdates.CostPrice_Per_Unit\",\n",
    "      \"Discount\": \"orderUpdates.Discount\"\n",
    "    }\n",
    "  ) \\\n",
    "  .whenNotMatchedInsert(values =\n",
    "    {\n",
    "      \"Customer_ID\": \"orderUpdates.Customer_ID\",\n",
    "      \"Employee_ID\": \"orderUpdates.Employee_ID\",\n",
    "      \"Street_ID\": \"orderUpdates.Street_ID\",\n",
    "      \"Order_Date\": \"orderUpdates.Order_Date\",\n",
    "      \"Delivery_Date\": \"orderUpdates.Delivery_Date\",\n",
    "      \"Order_ID\": \"orderUpdates.Order_ID\",\n",
    "      \"Order_Type\": \"orderUpdates.Order_Type\",\n",
    "      \"Product_ID\": \"orderUpdates.Product_ID\",\n",
    "      \"Quantity\": \"orderUpdates.Quantity\",\n",
    "      \"Total_Retail_Price\": \"orderUpdates.Total_Retail_Price\",\n",
    "      \"CostPrice_Per_Unit\": \"orderUpdates.CostPrice_Per_Unit\",\n",
    "      \"Discount\": \"orderUpdates.Discount\"\n",
    "    }\n",
    "  ) \\\n",
    "  .execute()"
   ]
  },
  {
   "cell_type": "markdown",
   "id": "c32ca2cf-970d-4b16-9e4a-181f2bb88fe2",
   "metadata": {},
   "source": [
    "## Data Validation: Compare Customers delta table in the main and new branch"
   ]
  },
  {
   "cell_type": "code",
   "execution_count": null,
   "id": "63499a12-9f23-465a-8655-75a3bb4ccc7e",
   "metadata": {},
   "outputs": [],
   "source": [
    "customersTablePath = f\"s3a://{repo}/{mainBranch}/{customersTable}\"\n",
    "df = spark.read.format(\"delta\").load(customersTablePath).where(\"Customer_ID = 19444 OR Customer_ID = 63\").show()"
   ]
  },
  {
   "cell_type": "code",
   "execution_count": null,
   "id": "dd08a06a-fa95-4a52-a05e-30c602b0069d",
   "metadata": {},
   "outputs": [],
   "source": [
    "customersTablePath = f\"s3a://{repo}/{deltaLakeETLBranch}/{customersTable}\"\n",
    "spark.read.format(\"delta\").load(customersTablePath).where(\"Customer_ID = 19444 OR Customer_ID = 63\").show()"
   ]
  },
  {
   "cell_type": "markdown",
   "id": "b4f31fb4-8bff-4b6d-87bf-3e8d520602c2",
   "metadata": {},
   "source": [
    "## Data Validation: Compare Customers count in the main and new branch"
   ]
  },
  {
   "cell_type": "code",
   "execution_count": null,
   "id": "227b3ac3-fcc6-4da0-b10b-64c5d8f9b1c4",
   "metadata": {},
   "outputs": [],
   "source": [
    "refs = [mainBranch, deltaLakeETLBranch]\n",
    "\n",
    "delta_table_compare_branches(customersTable, refs)"
   ]
  },
  {
   "cell_type": "markdown",
   "id": "f7dec0be-ee1e-471e-9c86-2ca2cc68f65c",
   "metadata": {},
   "source": [
    "## Data Validation: Compare Orders delta table in the main and new branch"
   ]
  },
  {
   "cell_type": "code",
   "execution_count": null,
   "id": "7b1c5019-aca2-4592-ba68-f650b3513348",
   "metadata": {},
   "outputs": [],
   "source": [
    "ordersTablePath = f\"s3a://{repo}/{mainBranch}/{ordersTable}\"\n",
    "df = spark.read.format(\"delta\").load(ordersTablePath).where(\"Customer_ID = 19444\").show()"
   ]
  },
  {
   "cell_type": "code",
   "execution_count": null,
   "id": "207ff757-f9ce-4df0-953a-5e8c0252b1eb",
   "metadata": {},
   "outputs": [],
   "source": [
    "ordersTablePath = f\"s3a://{repo}/{deltaLakeETLBranch}/{ordersTable}\"\n",
    "df = spark.read.format(\"delta\").load(ordersTablePath).where(\"Customer_ID = 19444\").show()"
   ]
  },
  {
   "cell_type": "markdown",
   "id": "da687f13-2d57-423d-b78f-f9e1e6f76bdf",
   "metadata": {},
   "source": [
    "## Data Validation: Compare Orders count in the main and new branch"
   ]
  },
  {
   "cell_type": "code",
   "execution_count": null,
   "id": "0cb6bc56-f461-4717-a747-fda12328d017",
   "metadata": {},
   "outputs": [],
   "source": [
    "refs = [mainBranch, deltaLakeETLBranch]\n",
    "\n",
    "delta_table_compare_branches(ordersTable, refs)"
   ]
  },
  {
   "cell_type": "markdown",
   "id": "3af4ccfe-823a-4f8c-9a6b-3f2bf520787c",
   "metadata": {},
   "source": [
    "## Commit changes and attach some metadata"
   ]
  },
  {
   "cell_type": "code",
   "execution_count": null,
   "id": "09d0eef2-e7fd-4c4f-a8db-d5cb5f12fe63",
   "metadata": {},
   "outputs": [],
   "source": [
    "client.commits.commit(\n",
    "    repository=repo,\n",
    "    branch=deltaLakeETLBranch,\n",
    "    commit_creation=models.CommitCreation(\n",
    "        message='Deleted and updated customers. Deleted and upserted orders.', \n",
    "        metadata={'using': 'python_api'}))"
   ]
  },
  {
   "cell_type": "markdown",
   "id": "b20e4afb-88c7-4a08-9ce8-c991be6f632d",
   "metadata": {},
   "source": [
    "## Diff between the new branch and the source branch"
   ]
  },
  {
   "cell_type": "code",
   "execution_count": null,
   "id": "6fa5d47a-09d5-4ece-9f9b-06402c6e44fc",
   "metadata": {},
   "outputs": [],
   "source": [
    "lakefs_demo.print_diff_refs(\n",
    "    client.refs.diff_refs(\n",
    "        repository=repo,\n",
    "        left_ref=mainBranch,\n",
    "        right_ref=deltaLakeETLBranch))"
   ]
  },
  {
   "cell_type": "markdown",
   "id": "fe2d0f89-44c8-47bb-bcd9-39be49216b63",
   "metadata": {},
   "source": [
    "# ETL Job Completes\n",
    "\n",
    "## Delete new branch if ETL job fails or merge new branch to main branch if ETL job succeeds\n",
    "\n",
    "## Delete new branch if ETL job fails"
   ]
  },
  {
   "cell_type": "code",
   "execution_count": null,
   "id": "b23445ec-65a1-4d32-ad2b-9a486f89d752",
   "metadata": {},
   "outputs": [],
   "source": [
    "client.branches.delete_branch(\n",
    "    repository=repo,\n",
    "    branch=deltaLakeETLBranch)"
   ]
  },
  {
   "cell_type": "markdown",
   "id": "49a28f7a-bd23-4bfc-b3e7-12c35691f942",
   "metadata": {},
   "source": [
    "## Or merge new branch to the main branch if ETL job succeeds (atomic promotion to production)"
   ]
  },
  {
   "cell_type": "code",
   "execution_count": null,
   "id": "e3cba1bc-0e02-4131-b7b7-6ccda7b442ea",
   "metadata": {},
   "outputs": [],
   "source": [
    "client.refs.merge_into_branch(\n",
    "    repository=repo,\n",
    "    source_ref=deltaLakeETLBranch, \n",
    "    destination_branch=mainBranch)"
   ]
  },
  {
   "cell_type": "markdown",
   "id": "abc0f5c7-4eaf-4797-995d-e823e36e2654",
   "metadata": {},
   "source": [
    "## Data Validation: Read data from the main branch"
   ]
  },
  {
   "cell_type": "code",
   "execution_count": null,
   "id": "31a0b706-af96-4737-b625-4900231f2e9f",
   "metadata": {},
   "outputs": [],
   "source": [
    "customersTablePath = f\"s3a://{repo}/{mainBranch}/{customersTable}\"\n",
    "spark.read.format(\"delta\").load(customersTablePath).where(\"Customer_ID = 19444 OR Customer_ID = 63\").show()"
   ]
  },
  {
   "cell_type": "code",
   "execution_count": null,
   "id": "65fa7bd5-9f76-4879-85d2-308473b982b8",
   "metadata": {},
   "outputs": [],
   "source": [
    "ordersTablePath = f\"s3a://{repo}/{mainBranch}/{ordersTable}\"\n",
    "df = spark.read.format(\"delta\").load(ordersTablePath).where(\"Customer_ID = 19444\").show()"
   ]
  },
  {
   "cell_type": "markdown",
   "id": "b4d036ad-5e80-4e11-8e56-87d2c25195ca",
   "metadata": {},
   "source": [
    "## Data Validation: Compare Customers count in the main and new branch"
   ]
  },
  {
   "cell_type": "code",
   "execution_count": null,
   "id": "a1a1f00f-d247-4e31-97f8-7ae6efa5a76a",
   "metadata": {},
   "outputs": [],
   "source": [
    "refs = [mainBranch, deltaLakeETLBranch]\n",
    "\n",
    "delta_table_compare_branches(customersTable, refs)"
   ]
  },
  {
   "cell_type": "markdown",
   "id": "67b363c6-d3a5-4e20-b1f6-6ce078986a40",
   "metadata": {},
   "source": [
    "## Data Validation: Compare Orders count in the main and new branch"
   ]
  },
  {
   "cell_type": "code",
   "execution_count": null,
   "id": "a917cb01-b720-42a2-bf1c-37be203389cd",
   "metadata": {},
   "outputs": [],
   "source": [
    "refs = [mainBranch, deltaLakeETLBranch]\n",
    "\n",
    "delta_table_compare_branches(ordersTable, refs)"
   ]
  },
  {
   "cell_type": "markdown",
   "id": "60260a17-0d22-4b33-a9fe-2bc8d4d0f6c1",
   "metadata": {},
   "source": [
    "## If you merged new branch to the main branch then you can atomically rollback Multi-Table Transactions\n",
    "\n",
    "### Go to lakeFS UI and get the commit ID or copy the 'reference' from the previous merge statement"
   ]
  },
  {
   "cell_type": "code",
   "execution_count": null,
   "id": "d15b46c2-66ca-411c-930b-1f7b513043a3",
   "metadata": {},
   "outputs": [],
   "source": [
    "commit_id = \"<lakeFS Commit Id>\"\n",
    "client.branches.revert_branch(\n",
    "    repository=repo,\n",
    "    branch=mainBranch, \n",
    "    revert_creation=models.RevertCreation(\n",
    "        ref=commit_id, parent_number=1))"
   ]
  },
  {
   "cell_type": "markdown",
   "id": "a889314f-3e63-4a83-bb8e-af5f5f038129",
   "metadata": {},
   "source": [
    "## Data Validation: Read data again from the main branch"
   ]
  },
  {
   "cell_type": "code",
   "execution_count": null,
   "id": "b57615a0-4f6d-4cab-b62d-6f3f6300f1a4",
   "metadata": {},
   "outputs": [],
   "source": [
    "customersTablePath = f\"s3a://{repo}/{mainBranch}/{customersTable}\"\n",
    "spark.read.format(\"delta\").load(customersTablePath).where(\"Customer_ID = 19444 OR Customer_ID = 63\").show()"
   ]
  },
  {
   "cell_type": "code",
   "execution_count": null,
   "id": "bf5d0968-7c85-406a-96b8-66a97335ce7e",
   "metadata": {},
   "outputs": [],
   "source": [
    "ordersTablePath = f\"s3a://{repo}/{mainBranch}/{ordersTable}\"\n",
    "df = spark.read.format(\"delta\").load(ordersTablePath).where(\"Customer_ID = 19444\").show()"
   ]
  },
  {
   "cell_type": "markdown",
   "id": "2de098bc-c6bc-45d7-8bbe-f45d6055006c",
   "metadata": {},
   "source": [
    "## Data Validation: Compare Customers count in the main and new branch"
   ]
  },
  {
   "cell_type": "code",
   "execution_count": null,
   "id": "d8a001aa-327d-4d4e-ac39-03bf73d2828f",
   "metadata": {},
   "outputs": [],
   "source": [
    "refs = [mainBranch, deltaLakeETLBranch]\n",
    "\n",
    "delta_table_compare_branches(customersTable, refs)"
   ]
  },
  {
   "cell_type": "markdown",
   "id": "5f96f041-4cc1-4172-9c14-f4fc910da1ef",
   "metadata": {},
   "source": [
    "## Data Validation: Compare Orders count in the main and new branch"
   ]
  },
  {
   "cell_type": "code",
   "execution_count": null,
   "id": "4189462d-364a-40ac-8b06-4590b8d8fad1",
   "metadata": {},
   "outputs": [],
   "source": [
    "refs = [mainBranch, deltaLakeETLBranch]\n",
    "\n",
    "delta_table_compare_branches(ordersTable, refs)"
   ]
  },
  {
   "cell_type": "markdown",
   "id": "557472bd-39ed-43d3-a00a-ed69ed8ab280",
   "metadata": {},
   "source": [
    "## More Questions?\n",
    "\n",
    "###### Join the lakeFS Slack group - https://lakefs.io/slack"
   ]
  }
 ],
 "metadata": {
  "kernelspec": {
   "display_name": "Python 3 (ipykernel)",
   "language": "python",
   "name": "python3"
  },
  "language_info": {
   "codemirror_mode": {
    "name": "ipython",
    "version": 3
   },
   "file_extension": ".py",
   "mimetype": "text/x-python",
   "name": "python",
   "nbconvert_exporter": "python",
   "pygments_lexer": "ipython3",
   "version": "3.10.4"
  }
 },
 "nbformat": 4,
 "nbformat_minor": 5
}
