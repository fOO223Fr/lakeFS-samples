{
 "cells": [
  {
   "cell_type": "markdown",
   "id": "9b2c8fa0-1702-411a-b11c-3190679bf31c",
   "metadata": {},
   "source": [
    "# Use Case: Reprocess and Backfill Data with new ETL logic"
   ]
  },
  {
   "cell_type": "markdown",
   "id": "7a24fa50-8557-4a9e-8463-f093ce8d2bf9",
   "metadata": {},
   "source": [
    "## Import Python packages"
   ]
  },
  {
   "cell_type": "code",
   "execution_count": null,
   "id": "b8bfe84c-fce2-4be0-8314-073c6b9aa1d6",
   "metadata": {},
   "outputs": [],
   "source": [
    "import datetime\n",
    "import lakefs_client\n",
    "import os"
   ]
  },
  {
   "cell_type": "markdown",
   "id": "a7ede096-1b84-4b59-bdd1-2608ced6be51",
   "metadata": {},
   "source": [
    "## Working with the lakeFS Python client API"
   ]
  },
  {
   "cell_type": "code",
   "execution_count": null,
   "id": "468e98e4-7e06-4373-b36b-f1763cc7755d",
   "metadata": {},
   "outputs": [],
   "source": [
    "%xmode Minimal\n",
    "from lakefs_client import models\n",
    "from lakefs_client.client import LakeFSClient\n",
    "\n",
    "# lakeFS credentials and endpoint\n",
    "configuration = lakefs_client.Configuration()\n",
    "configuration.username = lakefsAccessKey\n",
    "configuration.password = lakefsSecretKey\n",
    "configuration.host = lakefsEndPoint\n",
    "\n",
    "client = LakeFSClient(configuration)"
   ]
  },
  {
   "cell_type": "markdown",
   "id": "144747fc-cade-4929-8ae2-d488091ff273",
   "metadata": {},
   "source": [
    "## Verify lakeFS credentials by getting lakeFS version"
   ]
  },
  {
   "cell_type": "code",
   "execution_count": null,
   "id": "20525e09-3b2a-4ac1-827f-c0d87a6b0f47",
   "metadata": {},
   "outputs": [],
   "source": [
    "print(\"Verifying lakeFS credentials\")\n",
    "client.config.get_lake_fs_version()\n",
    "print(\"lakeFS credentials verified\")"
   ]
  },
  {
   "cell_type": "markdown",
   "id": "64b53725-95e6-4c78-9e17-fa271424a3d4",
   "metadata": {},
   "source": [
    "## S3A Gateway configuration"
   ]
  },
  {
   "cell_type": "code",
   "execution_count": null,
   "id": "b5886ad4-d97d-4ab8-a158-9c034fa0e293",
   "metadata": {},
   "outputs": [],
   "source": [
    "from pyspark.context import SparkContext\n",
    "from pyspark.sql.session import SparkSession\n",
    "sc = SparkContext.getOrCreate()\n",
    "spark = SparkSession(sc)\n",
    "\n",
    "sc._jsc.hadoopConfiguration().set(\"fs.s3a.access.key\", lakefsAccessKey)\n",
    "sc._jsc.hadoopConfiguration().set(\"fs.s3a.secret.key\", lakefsSecretKey)\n",
    "sc._jsc.hadoopConfiguration().set(\"fs.s3a.endpoint\", lakefsEndPoint)\n",
    "sc._jsc.hadoopConfiguration().set(\"fs.s3a.path.style.access\", \"true\")"
   ]
  },
  {
   "cell_type": "markdown",
   "id": "a4dcb0be-1bd9-4f02-857a-6c6f06f3e1f3",
   "metadata": {},
   "source": [
    "## Define data file schema"
   ]
  },
  {
   "cell_type": "code",
   "execution_count": null,
   "id": "2db35037-c1a1-4565-9889-08889e0f6dc8",
   "metadata": {},
   "outputs": [],
   "source": [
    "from pyspark.sql.types import DoubleType, StructType, StructField\n",
    "\n",
    "dataFileSchema = StructType([\n",
    "  StructField(\"Apparel_Sales\", DoubleType(), False),\n",
    "  StructField(\"Books_Sales\", DoubleType(), False),\n",
    "  StructField(\"Electronics_Sales\", DoubleType(), False),\n",
    "  StructField(\"Furniture_Sales\", DoubleType(), False),\n",
    "  StructField(\"Toys_Sales\", DoubleType(), False)\n",
    "])"
   ]
  },
  {
   "cell_type": "code",
   "execution_count": null,
   "id": "5c85b64f-d441-4f3c-b34d-27532f300b7f",
   "metadata": {},
   "outputs": [],
   "source": [
    "processedDataFileSchema = StructType([\n",
    "  StructField(\"Apparel_Sales\", DoubleType(), False),\n",
    "  StructField(\"Books_Sales\", DoubleType(), False),\n",
    "  StructField(\"Electronics_Sales\", DoubleType(), False),\n",
    "  StructField(\"Furniture_Sales\", DoubleType(), False),\n",
    "  StructField(\"Toys_Sales\", DoubleType(), False),\n",
    "  StructField(\"Total_Sales\", DoubleType(), False),\n",
    "  StructField(\"Average_Sales_per_Product_Category\", DoubleType(), False)\n",
    "])"
   ]
  }
 ],
 "metadata": {
  "kernelspec": {
   "display_name": "Python 3 (ipykernel)",
   "language": "python",
   "name": "python3"
  },
  "language_info": {
   "codemirror_mode": {
    "name": "ipython",
    "version": 3
   },
   "file_extension": ".py",
   "mimetype": "text/x-python",
   "name": "python",
   "nbconvert_exporter": "python",
   "pygments_lexer": "ipython3",
   "version": "3.10.4"
  }
 },
 "nbformat": 4,
 "nbformat_minor": 5
}
