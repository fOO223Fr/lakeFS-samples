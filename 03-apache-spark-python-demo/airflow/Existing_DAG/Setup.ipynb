{
 "cells": [
  {
   "cell_type": "markdown",
   "id": "9b2c8fa0-1702-411a-b11c-3190679bf31c",
   "metadata": {},
   "source": [
    "# [Integration of lakeFS with Airflow](https://docs.lakefs.io/integrations/airflow.html)\n",
    "\n",
    "## Use Case: Isolating Airflow job run and atomic promotion to production"
   ]
  },
  {
   "cell_type": "markdown",
   "id": "7a24fa50-8557-4a9e-8463-f093ce8d2bf9",
   "metadata": {},
   "source": [
    "## Import Python packages"
   ]
  },
  {
   "cell_type": "code",
   "execution_count": null,
   "id": "b8bfe84c-fce2-4be0-8314-073c6b9aa1d6",
   "metadata": {},
   "outputs": [],
   "source": [
    "import lakefs_client"
   ]
  },
  {
   "cell_type": "markdown",
   "id": "a7ede096-1b84-4b59-bdd1-2608ced6be51",
   "metadata": {},
   "source": [
    "## Working with the lakeFS Python client API\n",
    "\n",
    "###### Note: To learn more about lakeFS Python integration visit https://docs.lakefs.io/integrations/python.html"
   ]
  },
  {
   "cell_type": "code",
   "execution_count": null,
   "id": "468e98e4-7e06-4373-b36b-f1763cc7755d",
   "metadata": {},
   "outputs": [],
   "source": [
    "%xmode Minimal\n",
    "from lakefs_client import models\n",
    "from lakefs_client.client import LakeFSClient\n",
    "\n",
    "# lakeFS credentials and endpoint\n",
    "configuration = lakefs_client.Configuration()\n",
    "configuration.username = lakefsAccessKey\n",
    "configuration.password = lakefsSecretKey\n",
    "configuration.host = lakefsEndPoint\n",
    "\n",
    "client = LakeFSClient(configuration)"
   ]
  },
  {
   "cell_type": "markdown",
   "id": "144747fc-cade-4929-8ae2-d488091ff273",
   "metadata": {},
   "source": [
    "## Verify lakeFS credentials by getting lakeFS version"
   ]
  },
  {
   "cell_type": "code",
   "execution_count": null,
   "id": "20525e09-3b2a-4ac1-827f-c0d87a6b0f47",
   "metadata": {},
   "outputs": [],
   "source": [
    "print(\"Verifying lakeFS credentials\")\n",
    "client.config.get_lake_fs_version()\n",
    "print(\"lakeFS credentials verified\")"
   ]
  },
  {
   "cell_type": "markdown",
   "id": "669f0f3a-da95-4c09-b8b5-4c00380ce913",
   "metadata": {},
   "source": [
    "## Start Airflow"
   ]
  },
  {
   "cell_type": "code",
   "execution_count": 4,
   "id": "3c8ee38e-49b1-423b-8577-d3e802518edf",
   "metadata": {},
   "outputs": [],
   "source": [
    "%%script bash --bg --out script_out --err script_error\n",
    "pkill airflow"
   ]
  },
  {
   "cell_type": "code",
   "execution_count": 4,
   "id": "6641da83-e9ea-4561-9d59-18f95c798fd1",
   "metadata": {},
   "outputs": [],
   "source": [
    "%%script bash --bg --out script_out --err script_error\n",
    "pkill airflow"
   ]
  },
  {
   "cell_type": "code",
   "execution_count": 4,
   "id": "162c611c-d964-40c7-852f-3a526566c83c",
   "metadata": {},
   "outputs": [],
   "source": [
    "%%script bash --bg --out script_out --err script_error\n",
    "pkill airflow"
   ]
  },
  {
   "cell_type": "code",
   "execution_count": 4,
   "id": "33c0f613-c255-410f-9f5f-c3d9eb37d918",
   "metadata": {},
   "outputs": [],
   "source": [
    "%%script bash --bg --out script_out --err script_error\n",
    "pkill airflow"
   ]
  },
  {
   "cell_type": "code",
   "execution_count": 4,
   "id": "bae18802-b39d-4ddc-8010-2223f96051ad",
   "metadata": {},
   "outputs": [],
   "source": [
    "%%script bash --bg --out script_out --err script_error\n",
    "airflow standalone\n",
    "airflow scheduler"
   ]
  },
  {
   "cell_type": "code",
   "execution_count": 4,
   "id": "6af218ac-f25c-475f-ade9-3efc2b353263",
   "metadata": {},
   "outputs": [],
   "source": [
    "%%script bash --bg --out script_out --err script_error\n",
    "airflow scheduler"
   ]
  },
  {
   "cell_type": "code",
   "execution_count": 4,
   "id": "7ceef514-a5a4-4094-910f-2c06ac67f96e",
   "metadata": {},
   "outputs": [],
   "source": [
    "%%script bash --bg --out script_out --err script_error\n",
    "airflow scheduler"
   ]
  },
  {
   "cell_type": "markdown",
   "id": "c9a4729f-5f2e-4327-b79b-fbd78a2c0ad5",
   "metadata": {},
   "source": [
    "## Create Airflow connections for lakeFS"
   ]
  },
  {
   "cell_type": "code",
   "execution_count": null,
   "id": "1d346dbb-8259-4bf0-996b-04c334e46a11",
   "metadata": {},
   "outputs": [],
   "source": [
    "# Wait for Airflow to start\n",
    "! sleep 10\n",
    "\n",
    "! airflow connections delete conn_lakefs\n",
    "lakeFSConnectionCommand = 'airflow connections add conn_lakefs --conn-type=http --conn-host=' + lakefsEndPoint + ' --conn-extra=\\'{\"access_key_id\":\"' + lakefsAccessKey + '\",\"secret_access_key\":\"' + lakefsSecretKey + '\"}\\''\n",
    "! $lakeFSConnectionCommand"
   ]
  },
  {
   "cell_type": "markdown",
   "id": "7021c36a-4a47-41c5-a000-b5708d53ee33",
   "metadata": {},
   "source": [
    "## Set Airflow variables which are used by the demo workflow"
   ]
  },
  {
   "cell_type": "code",
   "execution_count": null,
   "id": "7012d111-e45b-4030-96da-6f270437fef5",
   "metadata": {},
   "outputs": [],
   "source": [
    "! airflow variables set lakefsAccessKey $lakefsAccessKey\n",
    "! airflow variables set lakefsSecretKey $lakefsSecretKey\n",
    "! airflow variables set lakefsEndPoint $lakefsEndPoint\n",
    "! airflow variables set repo $repo\n",
    "! airflow variables set sourceBranch $sourceBranch\n",
    "! airflow variables set newBranch $newBranch\n",
    "! airflow variables set conn_lakefs 'conn_lakefs'"
   ]
  }
 ],
 "metadata": {
  "kernelspec": {
   "display_name": "Python 3 (ipykernel)",
   "language": "python",
   "name": "python3"
  },
  "language_info": {
   "codemirror_mode": {
    "name": "ipython",
    "version": 3
   },
   "file_extension": ".py",
   "mimetype": "text/x-python",
   "name": "python",
   "nbconvert_exporter": "python",
   "pygments_lexer": "ipython3",
   "version": "3.10.4"
  }
 },
 "nbformat": 4,
 "nbformat_minor": 5
}
