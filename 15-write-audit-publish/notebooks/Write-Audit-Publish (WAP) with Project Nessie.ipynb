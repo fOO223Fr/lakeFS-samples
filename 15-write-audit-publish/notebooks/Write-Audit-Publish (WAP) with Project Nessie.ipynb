{
 "cells": [
  {
   "cell_type": "markdown",
   "id": "e8e13cd9",
   "metadata": {},
   "source": [
    "<img src=\"https://projectnessie.org/img/nessie.svg\" alt=\"lakeFS logo\" width=200/> "
   ]
  },
  {
   "cell_type": "markdown",
   "id": "78797e22",
   "metadata": {},
   "source": [
    "## Write-Audit-Publish (WAP) pattern with Nessie"
   ]
  },
  {
   "cell_type": "markdown",
   "id": "0f89a51c",
   "metadata": {},
   "source": [
    "**New to Write-Audit-Publish? This [talk](https://www.youtube.com/watch?v=fXHdeBnpXrg&t=1001s) explains it well.**\n",
    "\n",
    "[@rmoff](https://twitter.com/rmoff/) "
   ]
  },
  {
   "cell_type": "markdown",
   "id": "7d979dfe",
   "metadata": {},
   "source": [
    "# Setup & Initialisation"
   ]
  },
  {
   "cell_type": "code",
   "execution_count": 1,
   "id": "45b87dc4",
   "metadata": {
    "collapsed": true,
    "jupyter": {
     "outputs_hidden": true
    },
    "tags": []
   },
   "outputs": [
    {
     "name": "stdout",
     "output_type": "stream",
     "text": [
      "Collecting pynessie==0.30.0\n",
      "  Downloading pynessie-0.30.0-py2.py3-none-any.whl (55 kB)\n",
      "\u001b[2K     \u001b[90m━━━━━━━━━━━━━━━━━━━━━━━━━━━━━━━━━━━━━━━━\u001b[0m \u001b[32m55.7/55.7 kB\u001b[0m \u001b[31m1.9 MB/s\u001b[0m eta \u001b[36m0:00:00\u001b[0m\n",
      "\u001b[?25hCollecting findspark\n",
      "  Downloading findspark-2.0.1-py2.py3-none-any.whl (4.4 kB)\n",
      "Collecting confuse==1.7.0\n",
      "  Downloading confuse-1.7.0-py2.py3-none-any.whl (25 kB)\n",
      "Requirement already satisfied: botocore in /opt/conda/lib/python3.10/site-packages (from pynessie==0.30.0) (1.29.135)\n",
      "Collecting desert\n",
      "  Downloading desert-2022.9.22-py3-none-any.whl (10 kB)\n",
      "Requirement already satisfied: python-dateutil in /opt/conda/lib/python3.10/site-packages (from pynessie==0.30.0) (2.8.2)\n",
      "Requirement already satisfied: requests in /opt/conda/lib/python3.10/site-packages (from pynessie==0.30.0) (2.28.2)\n",
      "Collecting marshmallow\n",
      "  Downloading marshmallow-3.19.0-py3-none-any.whl (49 kB)\n",
      "\u001b[2K     \u001b[90m━━━━━━━━━━━━━━━━━━━━━━━━━━━━━━━━━━━━━━━━\u001b[0m \u001b[32m49.1/49.1 kB\u001b[0m \u001b[31m5.0 MB/s\u001b[0m eta \u001b[36m0:00:00\u001b[0m\n",
      "\u001b[?25hCollecting requests-aws4auth\n",
      "  Downloading requests_aws4auth-1.2.3-py2.py3-none-any.whl (24 kB)\n",
      "Requirement already satisfied: Click<9.0.0,>6.0.0 in /opt/conda/lib/python3.10/site-packages (from pynessie==0.30.0) (8.1.3)\n",
      "Collecting simplejson\n",
      "  Downloading simplejson-3.19.1-cp310-cp310-manylinux_2_17_aarch64.manylinux2014_aarch64.whl (138 kB)\n",
      "\u001b[2K     \u001b[90m━━━━━━━━━━━━━━━━━━━━━━━━━━━━━━━━━━━━━━━\u001b[0m \u001b[32m138.6/138.6 kB\u001b[0m \u001b[31m4.0 MB/s\u001b[0m eta \u001b[36m0:00:00\u001b[0m\n",
      "\u001b[?25hCollecting marshmallow-oneofschema\n",
      "  Downloading marshmallow_oneofschema-3.0.1-py2.py3-none-any.whl (5.8 kB)\n",
      "Requirement already satisfied: attrs in /opt/conda/lib/python3.10/site-packages (from pynessie==0.30.0) (22.2.0)\n",
      "Requirement already satisfied: pyyaml in /opt/conda/lib/python3.10/site-packages (from confuse==1.7.0->pynessie==0.30.0) (6.0)\n",
      "Requirement already satisfied: urllib3<1.27,>=1.25.4 in /opt/conda/lib/python3.10/site-packages (from botocore->pynessie==0.30.0) (1.26.15)\n",
      "Requirement already satisfied: jmespath<2.0.0,>=0.7.1 in /opt/conda/lib/python3.10/site-packages (from botocore->pynessie==0.30.0) (1.0.1)\n",
      "Requirement already satisfied: six>=1.5 in /opt/conda/lib/python3.10/site-packages (from python-dateutil->pynessie==0.30.0) (1.16.0)\n",
      "Collecting typing-inspect\n",
      "  Downloading typing_inspect-0.8.0-py3-none-any.whl (8.7 kB)\n",
      "Requirement already satisfied: packaging>=17.0 in /opt/conda/lib/python3.10/site-packages (from marshmallow->pynessie==0.30.0) (23.0)\n",
      "Requirement already satisfied: idna<4,>=2.5 in /opt/conda/lib/python3.10/site-packages (from requests->pynessie==0.30.0) (3.4)\n",
      "Requirement already satisfied: charset-normalizer<4,>=2 in /opt/conda/lib/python3.10/site-packages (from requests->pynessie==0.30.0) (3.1.0)\n",
      "Requirement already satisfied: certifi>=2017.4.17 in /opt/conda/lib/python3.10/site-packages (from requests->pynessie==0.30.0) (2022.12.7)\n",
      "Requirement already satisfied: typing-extensions>=3.7.4 in /opt/conda/lib/python3.10/site-packages (from typing-inspect->desert->pynessie==0.30.0) (4.5.0)\n",
      "Collecting mypy-extensions>=0.3.0\n",
      "  Downloading mypy_extensions-1.0.0-py3-none-any.whl (4.7 kB)\n",
      "Installing collected packages: findspark, simplejson, mypy-extensions, marshmallow, confuse, typing-inspect, requests-aws4auth, marshmallow-oneofschema, desert, pynessie\n",
      "Successfully installed confuse-1.7.0 desert-2022.9.22 findspark-2.0.1 marshmallow-3.19.0 marshmallow-oneofschema-3.0.1 mypy-extensions-1.0.0 pynessie-0.30.0 requests-aws4auth-1.2.3 simplejson-3.19.1 typing-inspect-0.8.0\n"
     ]
    }
   ],
   "source": [
    "import sys\n",
    "!{sys.executable} -m pip install pynessie==0.30.0"
   ]
  },
  {
   "cell_type": "markdown",
   "id": "4e4e906a",
   "metadata": {},
   "source": [
    "## Set up Spark "
   ]
  },
  {
   "cell_type": "code",
   "execution_count": 2,
   "id": "fbbb1ab3",
   "metadata": {
    "tags": []
   },
   "outputs": [
    {
     "name": "stdout",
     "output_type": "stream",
     "text": [
      "Spark Running\n"
     ]
    },
    {
     "data": {
      "text/html": [
       "\n",
       "            <div>\n",
       "                <p><b>SparkSession - in-memory</b></p>\n",
       "                \n",
       "        <div>\n",
       "            <p><b>SparkContext</b></p>\n",
       "\n",
       "            <p><a href=\"http://c14e4921142e:4040\">Spark UI</a></p>\n",
       "\n",
       "            <dl>\n",
       "              <dt>Version</dt>\n",
       "                <dd><code>v3.3.2</code></dd>\n",
       "              <dt>Master</dt>\n",
       "                <dd><code>local[*]</code></dd>\n",
       "              <dt>AppName</dt>\n",
       "                <dd><code>pyspark-shell</code></dd>\n",
       "            </dl>\n",
       "        </div>\n",
       "        \n",
       "            </div>\n",
       "        "
      ],
      "text/plain": [
       "<pyspark.sql.session.SparkSession at 0xffff55ba4970>"
      ]
     },
     "execution_count": 2,
     "metadata": {},
     "output_type": "execute_result"
    }
   ],
   "source": [
    "import os\n",
    "from pyspark.sql import *\n",
    "from pyspark import SparkConf\n",
    "import pynessie\n",
    "\n",
    "conf = SparkConf()\n",
    "conf.set(\"spark.jars.packages\",\"org.apache.iceberg:iceberg-spark-runtime-3.3_2.12:1.2.0,org.projectnessie.nessie-integrations:nessie-spark-extensions-3.3_2.12:0.58.1\")\n",
    "conf.set(\"spark.sql.execution.pyarrow.enabled\", \"true\")\n",
    "conf.set(\"spark.sql.catalog.rmoff\", \"org.apache.iceberg.spark.SparkCatalog\")\n",
    "conf.set(\"spark.sql.catalog.rmoff.catalog-impl\", \"org.apache.iceberg.nessie.NessieCatalog\")\n",
    "conf.set(\"spark.sql.catalog.rmoff.warehouse\",  \"file://\" + os.getcwd() + \"/spark_warehouse/iceberg\")\n",
    "conf.set(\"spark.sql.catalog.rmoff.uri\", \"http://nessie:19120/api/v1\")\n",
    "conf.set(\"spark.sql.catalog.rmoff.ref\", \"main\")\n",
    "conf.set(\"spark.sql.extensions\",\"org.apache.iceberg.spark.extensions.IcebergSparkSessionExtensions,org.projectnessie.spark.extensions.NessieSparkSessionExtensions\")\n",
    "\n",
    "spark = SparkSession.builder.config(conf=conf).getOrCreate()\n",
    "print(\"Spark Running\")\n",
    "spark"
   ]
  },
  {
   "cell_type": "markdown",
   "id": "eceeaa9b",
   "metadata": {},
   "source": [
    "## Load test data"
   ]
  },
  {
   "cell_type": "code",
   "execution_count": 3,
   "id": "ad496308",
   "metadata": {
    "tags": []
   },
   "outputs": [],
   "source": [
    "spark.read.option(\"inferSchema\",\"true\").option(\"multiline\",\"true\").json(\"/home/jovyan/data/nyc_film_permits.json\").createOrReplaceTempView(\"permits_src\")"
   ]
  },
  {
   "cell_type": "code",
   "execution_count": 4,
   "id": "8827299b",
   "metadata": {
    "tags": []
   },
   "outputs": [
    {
     "data": {
      "text/html": [
       "<table>\n",
       "    <tr>\n",
       "        <th>borough</th>\n",
       "        <th>permit_cnt</th>\n",
       "    </tr>\n",
       "    <tr>\n",
       "        <td>Queens</td>\n",
       "        <td>168</td>\n",
       "    </tr>\n",
       "    <tr>\n",
       "        <td>Brooklyn</td>\n",
       "        <td>334</td>\n",
       "    </tr>\n",
       "    <tr>\n",
       "        <td>Staten Island</td>\n",
       "        <td>7</td>\n",
       "    </tr>\n",
       "    <tr>\n",
       "        <td>Manhattan</td>\n",
       "        <td>463</td>\n",
       "    </tr>\n",
       "    <tr>\n",
       "        <td>Bronx</td>\n",
       "        <td>28</td>\n",
       "    </tr>\n",
       "</table>"
      ],
      "text/plain": [
       "+---------------+------------+\n",
       "|       borough | permit_cnt |\n",
       "+---------------+------------+\n",
       "|        Queens |        168 |\n",
       "|      Brooklyn |        334 |\n",
       "| Staten Island |          7 |\n",
       "|     Manhattan |        463 |\n",
       "|         Bronx |         28 |\n",
       "+---------------+------------+"
      ]
     },
     "execution_count": 4,
     "metadata": {},
     "output_type": "execute_result"
    }
   ],
   "source": [
    "%%sql\n",
    "SELECT borough, count(*) permit_cnt\n",
    "FROM permits_src\n",
    "GROUP BY borough"
   ]
  },
  {
   "cell_type": "markdown",
   "id": "3114eec3",
   "metadata": {},
   "source": [
    "## Write test data to Iceberg files "
   ]
  },
  {
   "cell_type": "code",
   "execution_count": 5,
   "id": "3143e7e1",
   "metadata": {
    "tags": []
   },
   "outputs": [
    {
     "data": {
      "text/html": [
       "<table>\n",
       "    <tr>\n",
       "    </tr>\n",
       "</table>"
      ],
      "text/plain": [
       "++\n",
       "||\n",
       "++\n",
       "++"
      ]
     },
     "execution_count": 5,
     "metadata": {},
     "output_type": "execute_result"
    }
   ],
   "source": [
    "%%sql \n",
    "\n",
    "CREATE TABLE rmoff.permits USING ICEBERG\n",
    "AS SELECT * FROM permits_src"
   ]
  },
  {
   "cell_type": "markdown",
   "id": "a0bc6fd3",
   "metadata": {},
   "source": [
    "#### Inspect Iceberg metadata"
   ]
  },
  {
   "cell_type": "code",
   "execution_count": 6,
   "id": "df9f12ae",
   "metadata": {
    "tags": []
   },
   "outputs": [
    {
     "data": {
      "text/html": [
       "<table>\n",
       "    <tr>\n",
       "        <th>content</th>\n",
       "        <th>file_path</th>\n",
       "        <th>file_format</th>\n",
       "        <th>spec_id</th>\n",
       "        <th>record_count</th>\n",
       "        <th>file_size_in_bytes</th>\n",
       "        <th>column_sizes</th>\n",
       "        <th>value_counts</th>\n",
       "        <th>null_value_counts</th>\n",
       "        <th>nan_value_counts</th>\n",
       "        <th>lower_bounds</th>\n",
       "        <th>upper_bounds</th>\n",
       "        <th>key_metadata</th>\n",
       "        <th>split_offsets</th>\n",
       "        <th>equality_ids</th>\n",
       "        <th>sort_order_id</th>\n",
       "        <th>readable_metrics</th>\n",
       "    </tr>\n",
       "    <tr>\n",
       "        <td>0</td>\n",
       "        <td>file:/home/jovyan/work/spark_warehouse/iceberg/permits_58ac8dc8-9b89-4875-be83-6035d042fcdd/data/00000-3-bef8af72-2d04-459c-bbe6-010b6dc84cb7-00001.parquet</td>\n",
       "        <td>PARQUET</td>\n",
       "        <td>0</td>\n",
       "        <td>1000</td>\n",
       "        <td>51115</td>\n",
       "        <td>{1: 483, 2: 474, 3: 1183, 4: 119, 5: 2736, 6: 5023, 7: 142, 8: 2348, 9: 343, 10: 26704, 11: 1487, 12: 2462, 13: 745, 14: 2358}</td>\n",
       "        <td>{1: 1000, 2: 1000, 3: 1000, 4: 1000, 5: 1000, 6: 1000, 7: 1000, 8: 1000, 9: 1000, 10: 1000, 11: 1000, 12: 1000, 13: 1000, 14: 1000}</td>\n",
       "        <td>{1: 0, 2: 0, 3: 0, 4: 0, 5: 0, 6: 0, 7: 0, 8: 0, 9: 0, 10: 0, 11: 0, 12: 0, 13: 0, 14: 0}</td>\n",
       "        <td>{}</td>\n",
       "        <td>{1: bytearray(b&#x27;Bronx&#x27;), 2: bytearray(b&#x27;Commercial&#x27;), 3: bytearray(b&#x27;0, 2, 3&#x27;), 4: bytearray(b&#x27;United States of&#x27;), 5: bytearray(b&#x27;2022-11-04T22:00&#x27;), 6: bytearray(b&#x27;2022-11-02T13:34&#x27;), 7: bytearray(b&quot;Mayor\\&#x27;s Office o&quot;), 8: bytearray(b&#x27;678909&#x27;), 9: bytearray(b&#x27;DCAS Prep/Shoot/&#x27;), 10: bytearray(b&#x27;1 AVENUE between&#x27;), 11: bytearray(b&#x27;0, 10&#x27;), 12: bytearray(b&#x27;2022-11-03T00:00&#x27;), 13: bytearray(b&#x27;Cable-episodic&#x27;), 14: bytearray(b&#x27;0, 10011&#x27;)}</td>\n",
       "        <td>{1: bytearray(b&#x27;Staten Island&#x27;), 2: bytearray(b&#x27;WEB&#x27;), 3: bytearray(b&#x27;9&#x27;), 4: bytearray(b&#x27;United States og&#x27;), 5: bytearray(b&#x27;2023-02-20T18:01&#x27;), 6: bytearray(b&#x27;2023-01-18T14:35&#x27;), 7: bytearray(b&quot;Mayor\\&#x27;s Office p&quot;), 8: bytearray(b&#x27;691875&#x27;), 9: bytearray(b&#x27;Theater Load in!&#x27;), 10: bytearray(b&#x27;WYTHE AVENUE beu&#x27;), 11: bytearray(b&#x27;94&#x27;), 12: bytearray(b&#x27;2023-01-20T13:01&#x27;), 13: bytearray(b&#x27;Variety&#x27;), 14: bytearray(b&#x27;11693, 11694&#x27;)}</td>\n",
       "        <td>None</td>\n",
       "        <td>[4]</td>\n",
       "        <td>None</td>\n",
       "        <td>0</td>\n",
       "        <td>Row(borough=Row(column_size=483, value_count=1000, null_value_count=0, nan_value_count=None, lower_bound=&#x27;Bronx&#x27;, upper_bound=&#x27;Staten Island&#x27;), category=Row(column_size=474, value_count=1000, null_value_count=0, nan_value_count=None, lower_bound=&#x27;Commercial&#x27;, upper_bound=&#x27;WEB&#x27;), communityboard_s=Row(column_size=1183, value_count=1000, null_value_count=0, nan_value_count=None, lower_bound=&#x27;0, 2, 3&#x27;, upper_bound=&#x27;9&#x27;), country=Row(column_size=119, value_count=1000, null_value_count=0, nan_value_count=None, lower_bound=&#x27;United States of&#x27;, upper_bound=&#x27;United States og&#x27;), enddatetime=Row(column_size=2736, value_count=1000, null_value_count=0, nan_value_count=None, lower_bound=&#x27;2022-11-04T22:00&#x27;, upper_bound=&#x27;2023-02-20T18:01&#x27;), enteredon=Row(column_size=5023, value_count=1000, null_value_count=0, nan_value_count=None, lower_bound=&#x27;2022-11-02T13:34&#x27;, upper_bound=&#x27;2023-01-18T14:35&#x27;), eventagency=Row(column_size=142, value_count=1000, null_value_count=0, nan_value_count=None, lower_bound=&quot;Mayor&#x27;s Office o&quot;, upper_bound=&quot;Mayor&#x27;s Office p&quot;), eventid=Row(column_size=2348, value_count=1000, null_value_count=0, nan_value_count=None, lower_bound=&#x27;678909&#x27;, upper_bound=&#x27;691875&#x27;), eventtype=Row(column_size=343, value_count=1000, null_value_count=0, nan_value_count=None, lower_bound=&#x27;DCAS Prep/Shoot/&#x27;, upper_bound=&#x27;Theater Load in!&#x27;), parkingheld=Row(column_size=26704, value_count=1000, null_value_count=0, nan_value_count=None, lower_bound=&#x27;1 AVENUE between&#x27;, upper_bound=&#x27;WYTHE AVENUE beu&#x27;), policeprecinct_s=Row(column_size=1487, value_count=1000, null_value_count=0, nan_value_count=None, lower_bound=&#x27;0, 10&#x27;, upper_bound=&#x27;94&#x27;), startdatetime=Row(column_size=2462, value_count=1000, null_value_count=0, nan_value_count=None, lower_bound=&#x27;2022-11-03T00:00&#x27;, upper_bound=&#x27;2023-01-20T13:01&#x27;), subcategoryname=Row(column_size=745, value_count=1000, null_value_count=0, nan_value_count=None, lower_bound=&#x27;Cable-episodic&#x27;, upper_bound=&#x27;Variety&#x27;), zipcode_s=Row(column_size=2358, value_count=1000, null_value_count=0, nan_value_count=None, lower_bound=&#x27;0, 10011&#x27;, upper_bound=&#x27;11693, 11694&#x27;))</td>\n",
       "    </tr>\n",
       "</table>"
      ],
      "text/plain": [
       "+---------+-------------------------------------------------------------------------------------------------------------------------------------------------------------+-------------+---------+--------------+--------------------+--------------------------------------------------------------------------------------------------------------------------------+-------------------------------------------------------------------------------------------------------------------------------------+-------------------------------------------------------------------------------------------+------------------+---------------------------------------------------------------------------------------------------------------------------------------------------------------------------------------------------------------------------------------------------------------------------------------------------------------------------------------------------------------------------------------------------------------------------------------------------------+----------------------------------------------------------------------------------------------------------------------------------------------------------------------------------------------------------------------------------------------------------------------------------------------------------------------------------------------------------------------------------------------------------------------------------------------+--------------+---------------+--------------+---------------+--------------------------------------------------------------------------------------------------------------------------------------------------------------------------------------------------------------------------------------------------------------------------------------------------------------------------------------------------------------------------------------------------------------------------------------------------------------------------------------------------------------------------------------------------------------------------------------------------------------------------------------------------------------------------------------------------------------------------------------------------------------------------------------------------------------------------------------------------------------------------------------------------------------------------------------------------------------------------------------------------------------------------------------------------------------------------------------------------------------------------------------------------------------------------------------------------------------------------------------------------------------------------------------------------------------------------------------------------------------------------------------------------------------------------------------------------------------------------------------------------------------------------------------------------------------------------------------------------------------------------------------------------------------------------------------------------------------------------------------------------------------------------------------------------------------------------------------------------------------------------------------------------------------------------------------------------------------------------------------------------------------------------------------------------------------------------------------------------------------------------------------------------------------------------------+\n",
       "| content |                                                                                                                                                   file_path | file_format | spec_id | record_count | file_size_in_bytes |                                                                                                                   column_sizes |                                                                                                                        value_counts |                                                                         null_value_counts | nan_value_counts |                                                                                                                                                                                                                                                                                                                                                                                                                                            lower_bounds |                                                                                                                                                                                                                                                                                                                                                                                                                                 upper_bounds | key_metadata | split_offsets | equality_ids | sort_order_id |                                                                                                                                                                                                                                                                                                                                                                                                                                                                                                                                                                                                                                                                                                                                                                                                                                                                                                                                                                                                                                                                                                                                                                                                                                                                                                                                                                                                                                                                                                                                                                                                                                                                                                                                                                                                                                                                                                                                                                                                                                                                                                                                                               readable_metrics |\n",
       "+---------+-------------------------------------------------------------------------------------------------------------------------------------------------------------+-------------+---------+--------------+--------------------+--------------------------------------------------------------------------------------------------------------------------------+-------------------------------------------------------------------------------------------------------------------------------------+-------------------------------------------------------------------------------------------+------------------+---------------------------------------------------------------------------------------------------------------------------------------------------------------------------------------------------------------------------------------------------------------------------------------------------------------------------------------------------------------------------------------------------------------------------------------------------------+----------------------------------------------------------------------------------------------------------------------------------------------------------------------------------------------------------------------------------------------------------------------------------------------------------------------------------------------------------------------------------------------------------------------------------------------+--------------+---------------+--------------+---------------+--------------------------------------------------------------------------------------------------------------------------------------------------------------------------------------------------------------------------------------------------------------------------------------------------------------------------------------------------------------------------------------------------------------------------------------------------------------------------------------------------------------------------------------------------------------------------------------------------------------------------------------------------------------------------------------------------------------------------------------------------------------------------------------------------------------------------------------------------------------------------------------------------------------------------------------------------------------------------------------------------------------------------------------------------------------------------------------------------------------------------------------------------------------------------------------------------------------------------------------------------------------------------------------------------------------------------------------------------------------------------------------------------------------------------------------------------------------------------------------------------------------------------------------------------------------------------------------------------------------------------------------------------------------------------------------------------------------------------------------------------------------------------------------------------------------------------------------------------------------------------------------------------------------------------------------------------------------------------------------------------------------------------------------------------------------------------------------------------------------------------------------------------------------------------------+\n",
       "|       0 | file:/home/jovyan/work/spark_warehouse/iceberg/permits_58ac8dc8-9b89-4875-be83-6035d042fcdd/data/00000-3-bef8af72-2d04-459c-bbe6-010b6dc84cb7-00001.parquet |     PARQUET |       0 |         1000 |              51115 | {1: 483, 2: 474, 3: 1183, 4: 119, 5: 2736, 6: 5023, 7: 142, 8: 2348, 9: 343, 10: 26704, 11: 1487, 12: 2462, 13: 745, 14: 2358} | {1: 1000, 2: 1000, 3: 1000, 4: 1000, 5: 1000, 6: 1000, 7: 1000, 8: 1000, 9: 1000, 10: 1000, 11: 1000, 12: 1000, 13: 1000, 14: 1000} | {1: 0, 2: 0, 3: 0, 4: 0, 5: 0, 6: 0, 7: 0, 8: 0, 9: 0, 10: 0, 11: 0, 12: 0, 13: 0, 14: 0} |               {} | {1: bytearray(b'Bronx'), 2: bytearray(b'Commercial'), 3: bytearray(b'0, 2, 3'), 4: bytearray(b'United States of'), 5: bytearray(b'2022-11-04T22:00'), 6: bytearray(b'2022-11-02T13:34'), 7: bytearray(b\"Mayor\\'s Office o\"), 8: bytearray(b'678909'), 9: bytearray(b'DCAS Prep/Shoot/'), 10: bytearray(b'1 AVENUE between'), 11: bytearray(b'0, 10'), 12: bytearray(b'2022-11-03T00:00'), 13: bytearray(b'Cable-episodic'), 14: bytearray(b'0, 10011')} | {1: bytearray(b'Staten Island'), 2: bytearray(b'WEB'), 3: bytearray(b'9'), 4: bytearray(b'United States og'), 5: bytearray(b'2023-02-20T18:01'), 6: bytearray(b'2023-01-18T14:35'), 7: bytearray(b\"Mayor\\'s Office p\"), 8: bytearray(b'691875'), 9: bytearray(b'Theater Load in!'), 10: bytearray(b'WYTHE AVENUE beu'), 11: bytearray(b'94'), 12: bytearray(b'2023-01-20T13:01'), 13: bytearray(b'Variety'), 14: bytearray(b'11693, 11694')} |         None |           [4] |         None |             0 | Row(borough=Row(column_size=483, value_count=1000, null_value_count=0, nan_value_count=None, lower_bound='Bronx', upper_bound='Staten Island'), category=Row(column_size=474, value_count=1000, null_value_count=0, nan_value_count=None, lower_bound='Commercial', upper_bound='WEB'), communityboard_s=Row(column_size=1183, value_count=1000, null_value_count=0, nan_value_count=None, lower_bound='0, 2, 3', upper_bound='9'), country=Row(column_size=119, value_count=1000, null_value_count=0, nan_value_count=None, lower_bound='United States of', upper_bound='United States og'), enddatetime=Row(column_size=2736, value_count=1000, null_value_count=0, nan_value_count=None, lower_bound='2022-11-04T22:00', upper_bound='2023-02-20T18:01'), enteredon=Row(column_size=5023, value_count=1000, null_value_count=0, nan_value_count=None, lower_bound='2022-11-02T13:34', upper_bound='2023-01-18T14:35'), eventagency=Row(column_size=142, value_count=1000, null_value_count=0, nan_value_count=None, lower_bound=\"Mayor's Office o\", upper_bound=\"Mayor's Office p\"), eventid=Row(column_size=2348, value_count=1000, null_value_count=0, nan_value_count=None, lower_bound='678909', upper_bound='691875'), eventtype=Row(column_size=343, value_count=1000, null_value_count=0, nan_value_count=None, lower_bound='DCAS Prep/Shoot/', upper_bound='Theater Load in!'), parkingheld=Row(column_size=26704, value_count=1000, null_value_count=0, nan_value_count=None, lower_bound='1 AVENUE between', upper_bound='WYTHE AVENUE beu'), policeprecinct_s=Row(column_size=1487, value_count=1000, null_value_count=0, nan_value_count=None, lower_bound='0, 10', upper_bound='94'), startdatetime=Row(column_size=2462, value_count=1000, null_value_count=0, nan_value_count=None, lower_bound='2022-11-03T00:00', upper_bound='2023-01-20T13:01'), subcategoryname=Row(column_size=745, value_count=1000, null_value_count=0, nan_value_count=None, lower_bound='Cable-episodic', upper_bound='Variety'), zipcode_s=Row(column_size=2358, value_count=1000, null_value_count=0, nan_value_count=None, lower_bound='0, 10011', upper_bound='11693, 11694')) |\n",
       "+---------+-------------------------------------------------------------------------------------------------------------------------------------------------------------+-------------+---------+--------------+--------------------+--------------------------------------------------------------------------------------------------------------------------------+-------------------------------------------------------------------------------------------------------------------------------------+-------------------------------------------------------------------------------------------+------------------+---------------------------------------------------------------------------------------------------------------------------------------------------------------------------------------------------------------------------------------------------------------------------------------------------------------------------------------------------------------------------------------------------------------------------------------------------------+----------------------------------------------------------------------------------------------------------------------------------------------------------------------------------------------------------------------------------------------------------------------------------------------------------------------------------------------------------------------------------------------------------------------------------------------+--------------+---------------+--------------+---------------+--------------------------------------------------------------------------------------------------------------------------------------------------------------------------------------------------------------------------------------------------------------------------------------------------------------------------------------------------------------------------------------------------------------------------------------------------------------------------------------------------------------------------------------------------------------------------------------------------------------------------------------------------------------------------------------------------------------------------------------------------------------------------------------------------------------------------------------------------------------------------------------------------------------------------------------------------------------------------------------------------------------------------------------------------------------------------------------------------------------------------------------------------------------------------------------------------------------------------------------------------------------------------------------------------------------------------------------------------------------------------------------------------------------------------------------------------------------------------------------------------------------------------------------------------------------------------------------------------------------------------------------------------------------------------------------------------------------------------------------------------------------------------------------------------------------------------------------------------------------------------------------------------------------------------------------------------------------------------------------------------------------------------------------------------------------------------------------------------------------------------------------------------------------------------------+"
      ]
     },
     "execution_count": 6,
     "metadata": {},
     "output_type": "execute_result"
    }
   ],
   "source": [
    "%sql SELECT * FROM rmoff.permits.files"
   ]
  },
  {
   "cell_type": "code",
   "execution_count": 7,
   "id": "4a493930",
   "metadata": {
    "tags": []
   },
   "outputs": [
    {
     "data": {
      "text/html": [
       "<table>\n",
       "    <tr>\n",
       "        <th>made_current_at</th>\n",
       "        <th>snapshot_id</th>\n",
       "        <th>parent_id</th>\n",
       "        <th>is_current_ancestor</th>\n",
       "    </tr>\n",
       "    <tr>\n",
       "        <td>2023-05-18 11:39:45.960000</td>\n",
       "        <td>8814055265607444574</td>\n",
       "        <td>None</td>\n",
       "        <td>True</td>\n",
       "    </tr>\n",
       "</table>"
      ],
      "text/plain": [
       "+----------------------------+---------------------+-----------+---------------------+\n",
       "|            made_current_at |         snapshot_id | parent_id | is_current_ancestor |\n",
       "+----------------------------+---------------------+-----------+---------------------+\n",
       "| 2023-05-18 11:39:45.960000 | 8814055265607444574 |      None |                True |\n",
       "+----------------------------+---------------------+-----------+---------------------+"
      ]
     },
     "execution_count": 7,
     "metadata": {},
     "output_type": "execute_result"
    }
   ],
   "source": [
    "%sql SELECT * FROM rmoff.permits.history"
   ]
  },
  {
   "cell_type": "code",
   "execution_count": 8,
   "id": "13f312d0",
   "metadata": {
    "tags": []
   },
   "outputs": [
    {
     "data": {
      "text/html": [
       "<table>\n",
       "    <tr>\n",
       "        <th>committed_at</th>\n",
       "        <th>snapshot_id</th>\n",
       "        <th>parent_id</th>\n",
       "        <th>operation</th>\n",
       "        <th>manifest_list</th>\n",
       "        <th>summary</th>\n",
       "    </tr>\n",
       "    <tr>\n",
       "        <td>2023-05-18 11:39:45.960000</td>\n",
       "        <td>8814055265607444574</td>\n",
       "        <td>None</td>\n",
       "        <td>append</td>\n",
       "        <td>file:/home/jovyan/work/spark_warehouse/iceberg/permits_58ac8dc8-9b89-4875-be83-6035d042fcdd/metadata/snap-8814055265607444574-1-64b8551b-511c-4f7d-a313-17bcb858d42c.avro</td>\n",
       "        <td>{&#x27;spark.app.id&#x27;: &#x27;local-1684409978518&#x27;, &#x27;changed-partition-count&#x27;: &#x27;1&#x27;, &#x27;added-data-files&#x27;: &#x27;1&#x27;, &#x27;total-equality-deletes&#x27;: &#x27;0&#x27;, &#x27;added-records&#x27;: &#x27;1000&#x27;, &#x27;total-position-deletes&#x27;: &#x27;0&#x27;, &#x27;added-files-size&#x27;: &#x27;51115&#x27;, &#x27;total-delete-files&#x27;: &#x27;0&#x27;, &#x27;total-files-size&#x27;: &#x27;51115&#x27;, &#x27;total-records&#x27;: &#x27;1000&#x27;, &#x27;total-data-files&#x27;: &#x27;1&#x27;}</td>\n",
       "    </tr>\n",
       "</table>"
      ],
      "text/plain": [
       "+----------------------------+---------------------+-----------+-----------+---------------------------------------------------------------------------------------------------------------------------------------------------------------------------+--------------------------------------------------------------------------------------------------------------------------------------------------------------------------------------------------------------------------------------------------------------------------------------------------------------------------------+\n",
       "|               committed_at |         snapshot_id | parent_id | operation |                                                                                                                                                             manifest_list |                                                                                                                                                                                                                                                                                                                        summary |\n",
       "+----------------------------+---------------------+-----------+-----------+---------------------------------------------------------------------------------------------------------------------------------------------------------------------------+--------------------------------------------------------------------------------------------------------------------------------------------------------------------------------------------------------------------------------------------------------------------------------------------------------------------------------+\n",
       "| 2023-05-18 11:39:45.960000 | 8814055265607444574 |      None |    append | file:/home/jovyan/work/spark_warehouse/iceberg/permits_58ac8dc8-9b89-4875-be83-6035d042fcdd/metadata/snap-8814055265607444574-1-64b8551b-511c-4f7d-a313-17bcb858d42c.avro | {'spark.app.id': 'local-1684409978518', 'changed-partition-count': '1', 'added-data-files': '1', 'total-equality-deletes': '0', 'added-records': '1000', 'total-position-deletes': '0', 'added-files-size': '51115', 'total-delete-files': '0', 'total-files-size': '51115', 'total-records': '1000', 'total-data-files': '1'} |\n",
       "+----------------------------+---------------------+-----------+-----------+---------------------------------------------------------------------------------------------------------------------------------------------------------------------------+--------------------------------------------------------------------------------------------------------------------------------------------------------------------------------------------------------------------------------------------------------------------------------------------------------------------------------+"
      ]
     },
     "execution_count": 8,
     "metadata": {},
     "output_type": "execute_result"
    }
   ],
   "source": [
    "%sql SELECT * FROM rmoff.permits.snapshots"
   ]
  },
  {
   "cell_type": "markdown",
   "id": "dd3c5e94",
   "metadata": {},
   "source": [
    "# The Setup"
   ]
  },
  {
   "cell_type": "markdown",
   "id": "c8ac1043",
   "metadata": {},
   "source": [
    "## Create Nessie branch "
   ]
  },
  {
   "cell_type": "code",
   "execution_count": 9,
   "id": "6eb07626",
   "metadata": {
    "tags": []
   },
   "outputs": [],
   "source": [
    "branch='etl_job_42'"
   ]
  },
  {
   "cell_type": "code",
   "execution_count": 10,
   "id": "8351cf07",
   "metadata": {
    "tags": []
   },
   "outputs": [
    {
     "data": {
      "text/html": [
       "<table>\n",
       "    <tr>\n",
       "        <th>refType</th>\n",
       "        <th>name</th>\n",
       "        <th>hash</th>\n",
       "    </tr>\n",
       "    <tr>\n",
       "        <td>Branch</td>\n",
       "        <td>etl_job_42</td>\n",
       "        <td>7452f561669eb46a52e5a55b431a9d6d57ac9b06632c93b00802e7404546c6bd</td>\n",
       "    </tr>\n",
       "</table>"
      ],
      "text/plain": [
       "+---------+------------+------------------------------------------------------------------+\n",
       "| refType |       name |                                                             hash |\n",
       "+---------+------------+------------------------------------------------------------------+\n",
       "|  Branch | etl_job_42 | 7452f561669eb46a52e5a55b431a9d6d57ac9b06632c93b00802e7404546c6bd |\n",
       "+---------+------------+------------------------------------------------------------------+"
      ]
     },
     "execution_count": 10,
     "metadata": {},
     "output_type": "execute_result"
    }
   ],
   "source": [
    "%sql CREATE BRANCH {branch} IN rmoff FROM main"
   ]
  },
  {
   "cell_type": "markdown",
   "id": "3beacc72",
   "metadata": {},
   "source": [
    "### Use the new branch for reading and writing"
   ]
  },
  {
   "cell_type": "markdown",
   "id": "6f43a4af",
   "metadata": {},
   "source": [
    "#### Now change the `REFERENCE`"
   ]
  },
  {
   "cell_type": "code",
   "execution_count": 11,
   "id": "3d230c6c",
   "metadata": {
    "tags": []
   },
   "outputs": [
    {
     "data": {
      "text/html": [
       "<table>\n",
       "    <tr>\n",
       "        <th>refType</th>\n",
       "        <th>name</th>\n",
       "        <th>hash</th>\n",
       "    </tr>\n",
       "    <tr>\n",
       "        <td>Branch</td>\n",
       "        <td>etl_job_42</td>\n",
       "        <td>7452f561669eb46a52e5a55b431a9d6d57ac9b06632c93b00802e7404546c6bd</td>\n",
       "    </tr>\n",
       "</table>"
      ],
      "text/plain": [
       "+---------+------------+------------------------------------------------------------------+\n",
       "| refType |       name |                                                             hash |\n",
       "+---------+------------+------------------------------------------------------------------+\n",
       "|  Branch | etl_job_42 | 7452f561669eb46a52e5a55b431a9d6d57ac9b06632c93b00802e7404546c6bd |\n",
       "+---------+------------+------------------------------------------------------------------+"
      ]
     },
     "execution_count": 11,
     "metadata": {},
     "output_type": "execute_result"
    }
   ],
   "source": [
    "%sql USE REFERENCE {branch} IN rmoff"
   ]
  },
  {
   "cell_type": "markdown",
   "id": "f5ab667f",
   "metadata": {},
   "source": [
    "### Show list of references in Nessie"
   ]
  },
  {
   "cell_type": "code",
   "execution_count": 12,
   "id": "a6ae4b95",
   "metadata": {
    "tags": []
   },
   "outputs": [
    {
     "data": {
      "text/html": [
       "<table>\n",
       "    <tr>\n",
       "        <th>refType</th>\n",
       "        <th>name</th>\n",
       "        <th>hash</th>\n",
       "    </tr>\n",
       "    <tr>\n",
       "        <td>Branch</td>\n",
       "        <td>etl_job_42</td>\n",
       "        <td>7452f561669eb46a52e5a55b431a9d6d57ac9b06632c93b00802e7404546c6bd</td>\n",
       "    </tr>\n",
       "    <tr>\n",
       "        <td>Branch</td>\n",
       "        <td>main</td>\n",
       "        <td>7452f561669eb46a52e5a55b431a9d6d57ac9b06632c93b00802e7404546c6bd</td>\n",
       "    </tr>\n",
       "</table>"
      ],
      "text/plain": [
       "+---------+------------+------------------------------------------------------------------+\n",
       "| refType |       name |                                                             hash |\n",
       "+---------+------------+------------------------------------------------------------------+\n",
       "|  Branch | etl_job_42 | 7452f561669eb46a52e5a55b431a9d6d57ac9b06632c93b00802e7404546c6bd |\n",
       "|  Branch |       main | 7452f561669eb46a52e5a55b431a9d6d57ac9b06632c93b00802e7404546c6bd |\n",
       "+---------+------------+------------------------------------------------------------------+"
      ]
     },
     "execution_count": 12,
     "metadata": {},
     "output_type": "execute_result"
    }
   ],
   "source": [
    "%sql LIST REFERENCES IN rmoff"
   ]
  },
  {
   "cell_type": "markdown",
   "id": "886ac446",
   "metadata": {},
   "source": [
    "### Check that we still see the same data"
   ]
  },
  {
   "cell_type": "code",
   "execution_count": 13,
   "id": "bfab197f",
   "metadata": {
    "tags": []
   },
   "outputs": [
    {
     "data": {
      "text/html": [
       "<table>\n",
       "    <tr>\n",
       "        <th>borough</th>\n",
       "        <th>permit_cnt</th>\n",
       "    </tr>\n",
       "    <tr>\n",
       "        <td>Queens</td>\n",
       "        <td>168</td>\n",
       "    </tr>\n",
       "    <tr>\n",
       "        <td>Bronx</td>\n",
       "        <td>28</td>\n",
       "    </tr>\n",
       "    <tr>\n",
       "        <td>Manhattan</td>\n",
       "        <td>463</td>\n",
       "    </tr>\n",
       "    <tr>\n",
       "        <td>Brooklyn</td>\n",
       "        <td>334</td>\n",
       "    </tr>\n",
       "    <tr>\n",
       "        <td>Staten Island</td>\n",
       "        <td>7</td>\n",
       "    </tr>\n",
       "</table>"
      ],
      "text/plain": [
       "+---------------+------------+\n",
       "|       borough | permit_cnt |\n",
       "+---------------+------------+\n",
       "|        Queens |        168 |\n",
       "|         Bronx |         28 |\n",
       "|     Manhattan |        463 |\n",
       "|      Brooklyn |        334 |\n",
       "| Staten Island |          7 |\n",
       "+---------------+------------+"
      ]
     },
     "execution_count": 13,
     "metadata": {},
     "output_type": "execute_result"
    }
   ],
   "source": [
    "%sql SELECT borough, count(*) permit_cnt FROM rmoff.permits GROUP BY borough"
   ]
  },
  {
   "cell_type": "markdown",
   "id": "2ddc4ff7",
   "metadata": {},
   "source": [
    "# Write"
   ]
  },
  {
   "cell_type": "markdown",
   "id": "d88056be",
   "metadata": {},
   "source": [
    "Update the dataframe to remove rows matching predicate. "
   ]
  },
  {
   "cell_type": "code",
   "execution_count": 14,
   "id": "82d21f90",
   "metadata": {
    "tags": []
   },
   "outputs": [
    {
     "data": {
      "text/html": [
       "<table>\n",
       "    <tr>\n",
       "    </tr>\n",
       "</table>"
      ],
      "text/plain": [
       "++\n",
       "||\n",
       "++\n",
       "++"
      ]
     },
     "execution_count": 14,
     "metadata": {},
     "output_type": "execute_result"
    }
   ],
   "source": [
    "%sql DELETE FROM rmoff.permits WHERE borough='Manhattan'"
   ]
  },
  {
   "cell_type": "markdown",
   "id": "3f6c3a04",
   "metadata": {},
   "source": [
    "## Inspecting the staged/unpublished data"
   ]
  },
  {
   "cell_type": "markdown",
   "id": "9c09de33",
   "metadata": {},
   "source": [
    "### Staged/unpublished data"
   ]
  },
  {
   "cell_type": "markdown",
   "id": "d73e5ba8",
   "metadata": {},
   "source": [
    "#### The changes are reflected in the table:"
   ]
  },
  {
   "cell_type": "code",
   "execution_count": 15,
   "id": "cabb818c",
   "metadata": {
    "tags": []
   },
   "outputs": [
    {
     "data": {
      "text/html": [
       "<table>\n",
       "    <tr>\n",
       "        <th>borough</th>\n",
       "        <th>permit_cnt</th>\n",
       "    </tr>\n",
       "    <tr>\n",
       "        <td>Queens</td>\n",
       "        <td>168</td>\n",
       "    </tr>\n",
       "    <tr>\n",
       "        <td>Bronx</td>\n",
       "        <td>28</td>\n",
       "    </tr>\n",
       "    <tr>\n",
       "        <td>Brooklyn</td>\n",
       "        <td>334</td>\n",
       "    </tr>\n",
       "    <tr>\n",
       "        <td>Staten Island</td>\n",
       "        <td>7</td>\n",
       "    </tr>\n",
       "</table>"
      ],
      "text/plain": [
       "+---------------+------------+\n",
       "|       borough | permit_cnt |\n",
       "+---------------+------------+\n",
       "|        Queens |        168 |\n",
       "|         Bronx |         28 |\n",
       "|      Brooklyn |        334 |\n",
       "| Staten Island |          7 |\n",
       "+---------------+------------+"
      ]
     },
     "execution_count": 15,
     "metadata": {},
     "output_type": "execute_result"
    }
   ],
   "source": [
    "%sql SELECT borough, count(*) permit_cnt FROM rmoff.permits GROUP BY borough"
   ]
  },
  {
   "cell_type": "markdown",
   "id": "60e26a26",
   "metadata": {},
   "source": [
    "### Published data"
   ]
  },
  {
   "cell_type": "markdown",
   "id": "9e5a4eb7",
   "metadata": {},
   "source": [
    "The data on the `main` branch remains unchanged. We can validate this by running a query against the data, specifying `main` as the branch using the `@<branch>` suffix:"
   ]
  },
  {
   "cell_type": "code",
   "execution_count": 16,
   "id": "6fefa576",
   "metadata": {
    "tags": []
   },
   "outputs": [
    {
     "data": {
      "text/html": [
       "<table>\n",
       "    <tr>\n",
       "        <th>borough</th>\n",
       "        <th>permit_cnt</th>\n",
       "    </tr>\n",
       "    <tr>\n",
       "        <td>Queens</td>\n",
       "        <td>168</td>\n",
       "    </tr>\n",
       "    <tr>\n",
       "        <td>Bronx</td>\n",
       "        <td>28</td>\n",
       "    </tr>\n",
       "    <tr>\n",
       "        <td>Manhattan</td>\n",
       "        <td>463</td>\n",
       "    </tr>\n",
       "    <tr>\n",
       "        <td>Brooklyn</td>\n",
       "        <td>334</td>\n",
       "    </tr>\n",
       "    <tr>\n",
       "        <td>Staten Island</td>\n",
       "        <td>7</td>\n",
       "    </tr>\n",
       "</table>"
      ],
      "text/plain": [
       "+---------------+------------+\n",
       "|       borough | permit_cnt |\n",
       "+---------------+------------+\n",
       "|        Queens |        168 |\n",
       "|         Bronx |         28 |\n",
       "|     Manhattan |        463 |\n",
       "|      Brooklyn |        334 |\n",
       "| Staten Island |          7 |\n",
       "+---------------+------------+"
      ]
     },
     "execution_count": 16,
     "metadata": {},
     "output_type": "execute_result"
    }
   ],
   "source": [
    "%sql SELECT borough, count(*) permit_cnt FROM rmoff.`permits@main` GROUP BY borough"
   ]
  },
  {
   "cell_type": "markdown",
   "id": "a58244fc",
   "metadata": {},
   "source": [
    "# Audit "
   ]
  },
  {
   "cell_type": "markdown",
   "id": "590d8ce7",
   "metadata": {},
   "source": [
    "At the moment the data is written to the audit branch (`etl_job_42`), but not published to `main`. \n",
    "\n",
    "How you audit the data is up to you. The nice thing about the data being staged is that you can do it within the same ETL job, or have another tool do it.\n",
    "\n",
    "Here's a very simple example of doing in Python. We're going to programatically check that only the four expected boroughs remain in the data.\n",
    "\n",
    "First, we define those that are expected:"
   ]
  },
  {
   "cell_type": "code",
   "execution_count": 17,
   "id": "62d6b827",
   "metadata": {
    "tags": []
   },
   "outputs": [],
   "source": [
    "expected_boroughs = {\"Queens\", \"Brooklyn\", \"Bronx\", \"Staten Island\"}"
   ]
  },
  {
   "cell_type": "markdown",
   "id": "3c05b9a5",
   "metadata": {},
   "source": [
    "Then we get a set of the actual boroughs in the staged data"
   ]
  },
  {
   "cell_type": "code",
   "execution_count": 18,
   "id": "77abc608",
   "metadata": {
    "tags": []
   },
   "outputs": [],
   "source": [
    "distinct_boroughs = spark.sql(\"SELECT DISTINCT borough FROM rmoff.permits\").toLocalIterator()\n",
    "boroughs = {row[0] for row in distinct_boroughs}"
   ]
  },
  {
   "cell_type": "markdown",
   "id": "81156579",
   "metadata": {},
   "source": [
    "Now we do two checks:\n",
    "\n",
    "1. Compare the length of the expected vs actual set\n",
    "2. Check that the two sets when unioned are still the same length. This is necessary, since the first test isn't sufficient alone"
   ]
  },
  {
   "cell_type": "code",
   "execution_count": 19,
   "id": "c91668d4",
   "metadata": {
    "tags": []
   },
   "outputs": [
    {
     "name": "stdout",
     "output_type": "stream",
     "text": [
      "Audit has passed 🙌🏻\n"
     ]
    }
   ],
   "source": [
    "if (   (len(boroughs)          != len(expected_boroughs)) \\\n",
    "      or (len(boroughs)          != len(set.union(boroughs, expected_boroughs))) \\\n",
    "      or (len(expected_boroughs) != len(set.union(boroughs, expected_boroughs)))):\n",
    "    raise ValueError(f\"Audit failed, borough set does not match expected boroughs: {boroughs} != {expected_boroughs}\")\n",
    "else:\n",
    "    print(f\"Audit has passed 🙌🏻\")"
   ]
  },
  {
   "cell_type": "markdown",
   "id": "d19526bb",
   "metadata": {},
   "source": [
    "# Publish"
   ]
  },
  {
   "cell_type": "markdown",
   "id": "6dc07949",
   "metadata": {},
   "source": [
    "Publishing data in Nessie means merging the audit branch back into `main`, making it available to anyone working with the data in that branch."
   ]
  },
  {
   "cell_type": "code",
   "execution_count": 20,
   "id": "dd0375e9",
   "metadata": {
    "tags": []
   },
   "outputs": [
    {
     "data": {
      "text/html": [
       "<table>\n",
       "    <tr>\n",
       "        <th>name</th>\n",
       "        <th>hash</th>\n",
       "    </tr>\n",
       "    <tr>\n",
       "        <td>main</td>\n",
       "        <td>d17ddb4c5ef4b321497bd41dc8e8b2a41327ea1df1290e8cdb0ee3d32da74294</td>\n",
       "    </tr>\n",
       "</table>"
      ],
      "text/plain": [
       "+------+------------------------------------------------------------------+\n",
       "| name |                                                             hash |\n",
       "+------+------------------------------------------------------------------+\n",
       "| main | d17ddb4c5ef4b321497bd41dc8e8b2a41327ea1df1290e8cdb0ee3d32da74294 |\n",
       "+------+------------------------------------------------------------------+"
      ]
     },
     "execution_count": 20,
     "metadata": {},
     "output_type": "execute_result"
    }
   ],
   "source": [
    "%sql MERGE BRANCH {branch} INTO main IN rmoff"
   ]
  },
  {
   "cell_type": "markdown",
   "id": "d38524dd",
   "metadata": {},
   "source": [
    "## Inspecting the published data"
   ]
  },
  {
   "cell_type": "code",
   "execution_count": 21,
   "id": "0c3dbf77",
   "metadata": {
    "tags": []
   },
   "outputs": [
    {
     "data": {
      "text/html": [
       "<table>\n",
       "    <tr>\n",
       "        <th>borough</th>\n",
       "        <th>permit_cnt</th>\n",
       "    </tr>\n",
       "    <tr>\n",
       "        <td>Queens</td>\n",
       "        <td>168</td>\n",
       "    </tr>\n",
       "    <tr>\n",
       "        <td>Bronx</td>\n",
       "        <td>28</td>\n",
       "    </tr>\n",
       "    <tr>\n",
       "        <td>Manhattan</td>\n",
       "        <td>463</td>\n",
       "    </tr>\n",
       "    <tr>\n",
       "        <td>Brooklyn</td>\n",
       "        <td>334</td>\n",
       "    </tr>\n",
       "    <tr>\n",
       "        <td>Staten Island</td>\n",
       "        <td>7</td>\n",
       "    </tr>\n",
       "</table>"
      ],
      "text/plain": [
       "+---------------+------------+\n",
       "|       borough | permit_cnt |\n",
       "+---------------+------------+\n",
       "|        Queens |        168 |\n",
       "|         Bronx |         28 |\n",
       "|     Manhattan |        463 |\n",
       "|      Brooklyn |        334 |\n",
       "| Staten Island |          7 |\n",
       "+---------------+------------+"
      ]
     },
     "execution_count": 21,
     "metadata": {},
     "output_type": "execute_result"
    }
   ],
   "source": [
    "%sql SELECT borough, count(*) permit_cnt FROM rmoff.`permits@main` GROUP BY borough"
   ]
  },
  {
   "cell_type": "markdown",
   "id": "37af8102",
   "metadata": {},
   "source": [
    "You can also change the REFERENCE context back to `main` and query the table directly"
   ]
  },
  {
   "cell_type": "code",
   "execution_count": 22,
   "id": "6b4fef6a",
   "metadata": {
    "tags": []
   },
   "outputs": [
    {
     "data": {
      "text/html": [
       "<table>\n",
       "    <tr>\n",
       "        <th>refType</th>\n",
       "        <th>name</th>\n",
       "        <th>hash</th>\n",
       "    </tr>\n",
       "    <tr>\n",
       "        <td>Branch</td>\n",
       "        <td>main</td>\n",
       "        <td>d17ddb4c5ef4b321497bd41dc8e8b2a41327ea1df1290e8cdb0ee3d32da74294</td>\n",
       "    </tr>\n",
       "</table>"
      ],
      "text/plain": [
       "+---------+------+------------------------------------------------------------------+\n",
       "| refType | name |                                                             hash |\n",
       "+---------+------+------------------------------------------------------------------+\n",
       "|  Branch | main | d17ddb4c5ef4b321497bd41dc8e8b2a41327ea1df1290e8cdb0ee3d32da74294 |\n",
       "+---------+------+------------------------------------------------------------------+"
      ]
     },
     "execution_count": 22,
     "metadata": {},
     "output_type": "execute_result"
    }
   ],
   "source": [
    "%sql USE REFERENCE main IN rmoff"
   ]
  },
  {
   "cell_type": "code",
   "execution_count": 23,
   "id": "a735db09",
   "metadata": {
    "tags": []
   },
   "outputs": [
    {
     "data": {
      "text/html": [
       "<table>\n",
       "    <tr>\n",
       "        <th>borough</th>\n",
       "        <th>permit_cnt</th>\n",
       "    </tr>\n",
       "    <tr>\n",
       "        <td>Queens</td>\n",
       "        <td>168</td>\n",
       "    </tr>\n",
       "    <tr>\n",
       "        <td>Bronx</td>\n",
       "        <td>28</td>\n",
       "    </tr>\n",
       "    <tr>\n",
       "        <td>Brooklyn</td>\n",
       "        <td>334</td>\n",
       "    </tr>\n",
       "    <tr>\n",
       "        <td>Staten Island</td>\n",
       "        <td>7</td>\n",
       "    </tr>\n",
       "</table>"
      ],
      "text/plain": [
       "+---------------+------------+\n",
       "|       borough | permit_cnt |\n",
       "+---------------+------------+\n",
       "|        Queens |        168 |\n",
       "|         Bronx |         28 |\n",
       "|      Brooklyn |        334 |\n",
       "| Staten Island |          7 |\n",
       "+---------------+------------+"
      ]
     },
     "execution_count": 23,
     "metadata": {},
     "output_type": "execute_result"
    }
   ],
   "source": [
    "%sql SELECT borough, count(*) permit_cnt FROM rmoff.permits GROUP BY borough"
   ]
  },
  {
   "cell_type": "markdown",
   "id": "7482b2db",
   "metadata": {},
   "source": [
    "# Where Next?"
   ]
  },
  {
   "cell_type": "markdown",
   "id": "814d43a5",
   "metadata": {},
   "source": [
    "* For more information about write-audit-publish see [this talk from Michelle Winters](https://www.youtube.com/watch?v=fXHdeBnpXrg&t=1001s) and [this talk from Sam Redai](https://www.dremio.com/wp-content/uploads/2022/05/Sam-Redai-The-Write-Audit-Publish-Pattern-via-Apache-Iceberg.pdf)."
   ]
  }
 ],
 "metadata": {
  "kernelspec": {
   "display_name": "Python 3 (ipykernel)",
   "language": "python",
   "name": "python3"
  },
  "language_info": {
   "codemirror_mode": {
    "name": "ipython",
    "version": 3
   },
   "file_extension": ".py",
   "mimetype": "text/x-python",
   "name": "python",
   "nbconvert_exporter": "python",
   "pygments_lexer": "ipython3",
   "version": "3.10.10"
  }
 },
 "nbformat": 4,
 "nbformat_minor": 5
}
