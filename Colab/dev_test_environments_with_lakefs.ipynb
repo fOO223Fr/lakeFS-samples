{
  "nbformat": 4,
  "nbformat_minor": 0,
  "metadata": {
    "colab": {
      "provenance": [],
      "collapsed_sections": [
        "J_Rbp5QAosmQ"
      ],
      "toc_visible": true,
      "include_colab_link": true
    },
    "kernelspec": {
      "name": "python3",
      "display_name": "Python 3"
    },
    "language_info": {
      "name": "python"
    }
  },
  "cells": [
    {
      "cell_type": "markdown",
      "metadata": {
        "id": "view-in-github",
        "colab_type": "text"
      },
      "source": [
        "<a href=\"https://colab.research.google.com/github/treeverse/lakeFS-samples/blob/main/Colab/dev_test_environments_with_lakefs.ipynb\" target=\"_parent\"><img src=\"https://colab.research.google.com/assets/colab-badge.svg\" alt=\"Open In Colab\"/></a>"
      ]
    },
    {
      "cell_type": "markdown",
      "source": [
        "# Isolated dev/test environments with lakeFS\n",
        "\n",
        "--- \n",
        "\n",
        "<small>Expected time to complete: **5-10 minutes**</small>\n",
        "\n",
        "--- \n",
        "\n",
        "In this quick tutorial, we will use lakeFS to create a test/dev environment for data."
      ],
      "metadata": {
        "id": "ft3Bp5Jw5IgJ"
      }
    },
    {
      "cell_type": "markdown",
      "source": [
        "## What we'll cover:\n",
        "\n",
        "1. Setting up a [lakeFS playground](https://demo.lakefs.io/) envirotment (preloaded with sample data)\n",
        "1. Using [lakeFS Branches](https://docs.lakefs.io/understand/model.html#branches) to create an isolated, zero-copy environment to experiment on\n",
        "1. Manipulating data on a branch without affecting other branches\n",
        "1. Committing changes as well as undoing changes we didn't like"
      ],
      "metadata": {
        "id": "B8TtTsazeGn8"
      }
    },
    {
      "cell_type": "markdown",
      "source": [
        "## ▶️ Let's get started! \n",
        "\n",
        "Let's start by setting up a lakeFS playground environment! \n",
        "\n",
        "This environment lives for 24h and then automatically destroyed. \n",
        "Please use it only for educational purposes 😊"
      ],
      "metadata": {
        "id": "KOY9q0-K8LDP"
      }
    },
    {
      "cell_type": "code",
      "source": [
        "#@title 🛠️ Create a new lakeFS playground instance { vertical-output: true }\n",
        "\n",
        "# @markdown 👈 Enter your email address and hit the **Run Cell** button\n",
        "\n",
        "import time\n",
        "import sys\n",
        "from google.colab import data_table\n",
        "\n",
        "print('⏳ Installing dependencies... ') \n",
        "\n",
        "!pip install lakefs-playground-utils > /dev/null\n",
        "!wget -qO- https://github.com/treeverse/lakeFS/releases/download/v0.86.0/lakeFS_0.86.0_Linux_x86_64.tar.gz | tar xvz -C /usr/local/bin/ >/dev/null\n",
        "\n",
        "import playground\n",
        "import pandas as pd\n",
        "\n",
        "data_table.enable_dataframe_formatter()\n",
        "pd.set_option('display.max_rows', 1000)\n",
        "\n",
        "print('✅ Dependencies installed!\\n')\n",
        "\n",
        "\n",
        "email = \"\" #@param {type:\"string\"}\n",
        "\n",
        "# @markdown <small>By submitting this form I agree to receive communications from lakeFS</small>\n",
        "\n",
        "if not email or not playground.check_email(email):\n",
        "  print('❌ Invalid e-mail provided')\n",
        "else:\n",
        "  print('⏳ setting up a lakeFS playground environment...')\n",
        "  # Creates a lakeFS playground environment, or returns an existing one\n",
        "  conn = playground.get_or_create(email) \n",
        "  # Sets up a `lakefs://` protocol handler for pandas, \n",
        "  #  pre-configured to read+write from our playground environment\n",
        "  playground.mount(conn) \n",
        "  # Returns An instance of the lakeFS Python SDK. We'll use this later to mess around with branches\n",
        "  client = playground.client(conn)  \n"
      ],
      "metadata": {
        "id": "t6mWb4LD3wtX",
        "cellView": "form"
      },
      "execution_count": null,
      "outputs": []
    },
    {
      "cell_type": "markdown",
      "source": [
        "## 🔎 Let's explore our new environment\n",
        "\n",
        "1. Log into your playground environment using the credentials given above\n",
        "1. You'll notice there's a repository already set up for you, called `my-repo`\n",
        "1. Navigate into `my-repo` - you'll be greeted by the an object browser, defaulting to the **`main`** branch.\n",
        "1. In a production environment, this branch will likely be used by all data consumers. This is assumed to be our \"production\" data environment. Let's be careful not to modify anything here!\n",
        "1. For now, let's get a taste of what's stored here, by reading from it!\n",
        "1. In this example, we'll use [pandas](https://pandas.pydata.org/):\n"
      ],
      "metadata": {
        "id": "f6NIFMrl7UOR"
      }
    },
    {
      "cell_type": "code",
      "source": [
        "# lakeFS URIs adhere to this scheme: lakefs://<REPOSITORY NAME>/<REFERENCE>/<PATH>\n",
        "# where <REFERENCE> could be a branch name, commit ID or tag name!\n",
        "# Let's read a set of parquet files that exist on our main branch:\n",
        "# (data used in this example is a parquet version of the public World Cities Database Population available on Kaggle: https://www.kaggle.com/datasets/arslanali4343/world-cities-database-population-oct2022)\n",
        "df = pd.read_parquet('lakefs://my-repo/main/world-cities-database-population/raw/')\n",
        "_ = df.groupby('region')['population'].sum().plot.pie(figsize=(8,8), legend=True)"
      ],
      "metadata": {
        "id": "DQ7xMQXwuA0R"
      },
      "execution_count": null,
      "outputs": []
    },
    {
      "cell_type": "markdown",
      "source": [
        "## 🪄 Branching\n",
        "\n",
        "Branches in lakeFS are [zero-copy](https://docs.lakefs.io/understand/performance-best-practices.html#zero-copy). \n",
        "\n",
        "Even if we have Petabytes of data on the main branch, creating a new branch takes only milliseconds since it's a metadata only operation.\n",
        "\n",
        "We can create a branch from the lakeFS UI, the [lakectl cli tool](https://docs.lakefs.io/reference/commands.html), the [lakeFS API](https://docs.lakefs.io/reference/api.html) or using [one of the existing SDKs](https://github.com/treeverse/lakeFS/tree/master/clients).\n",
        "\n",
        "---\n",
        "\n",
        "For the sake of this example, let's see how this is done through the `lakectl` CLI as well as the [Python SDK](https://docs.lakefs.io/integrations/python.html):\n",
        "\n"
      ],
      "metadata": {
        "id": "ip7WDzDsP1lV"
      }
    },
    {
      "cell_type": "code",
      "source": [
        "# Using lakectl\n",
        "!lakectl branch list lakefs://my-repo/\n",
        "\n",
        "# Using the Python SDK\n",
        "client.branches.list_branches(repository='my-repo').get('results')"
      ],
      "metadata": {
        "id": "-rZbGlN-Q0FQ"
      },
      "execution_count": null,
      "outputs": []
    },
    {
      "cell_type": "markdown",
      "source": [
        "Cool, so we can see that we have a `main` branch that points to a commit.\n",
        "Let's create a new branch and examine this again:"
      ],
      "metadata": {
        "id": "pT68r1WUZ6Oa"
      }
    },
    {
      "cell_type": "code",
      "source": [
        "!lakectl branch create lakefs://my-repo/my-dev-branch --source lakefs://my-repo/main\n",
        "\n",
        "# 🧐 What do you think this will return?\n",
        "!lakectl branch list lakefs://my-repo/"
      ],
      "metadata": {
        "id": "6GvA50iRYmZI"
      },
      "execution_count": null,
      "outputs": []
    },
    {
      "cell_type": "markdown",
      "source": [
        "If we look closely, we'll see that our newly created `my-dev-branch` branch has the exact same commit ID as the `main` branch it was derived from! \n",
        "\n",
        "💡 *Branching in lakeFS is a metadata operation, no data was actually copied!*\n",
        "\n",
        "## Let's play around with our dev branch!"
      ],
      "metadata": {
        "id": "lZ6DijRxakF_"
      }
    },
    {
      "cell_type": "code",
      "source": [
        "# Let's read the exact same data, only this time we'll replace `main` with the name of our new branch:\n",
        "df = pd.read_parquet('lakefs://my-repo/my-dev-branch/world-cities-database-population/raw/')\n",
        "_ = df.groupby('region')['population'].sum().plot.pie(figsize=(8,8), legend=True)"
      ],
      "metadata": {
        "id": "cuURQVpEaRwB"
      },
      "execution_count": null,
      "outputs": []
    },
    {
      "cell_type": "markdown",
      "source": [
        "Now, let's mess around with the data! Let's say for the sake of the exercise, We only care about [Megacities](https://en.wikipedia.org/wiki/Megacity) - Those with 10,000,000 residents or more. This will naturally make up only a fraction of the cities.\n",
        "\n",
        "Let's see what this looks like:"
      ],
      "metadata": {
        "id": "-beho34tb9G_"
      }
    },
    {
      "cell_type": "code",
      "source": [
        "# Filter dataframe by population\n",
        "df = df.query('population >= 10_000_000')\n",
        "_ = df.groupby('region')['population'].sum().plot.pie(figsize=(8,8), legend=True)"
      ],
      "metadata": {
        "id": "o-yzkKh_b6IF"
      },
      "execution_count": null,
      "outputs": []
    },
    {
      "cell_type": "code",
      "source": [
        "# Let's remove the old data\n",
        "!lakectl fs rm --recursive lakefs://my-repo/my-dev-branch/world-cities-database-population/raw/\n",
        "\n",
        "# ...and write our clean version\n",
        "df.to_parquet('lakefs://my-repo/my-dev-branch/world-cities-database-population/raw/clean.parquet')"
      ],
      "metadata": {
        "id": "rB-0UWtxdFNq"
      },
      "execution_count": null,
      "outputs": []
    },
    {
      "cell_type": "markdown",
      "source": [
        "## 🧐 Let's see what changed!\n",
        "\n",
        "We can use the [lakeFS Diff API](https://docs.lakefs.io/understand/model.html#version-control) to see what changes were made to a branch:"
      ],
      "metadata": {
        "id": "fbYgYoAPk-BB"
      }
    },
    {
      "cell_type": "code",
      "source": [
        "!lakectl diff lakefs://my-repo/my-dev-branch"
      ],
      "metadata": {
        "id": "Ynkfgqw_lfT-"
      },
      "execution_count": null,
      "outputs": []
    },
    {
      "cell_type": "markdown",
      "source": [
        "Or, for those who prefer a more Python approach:"
      ],
      "metadata": {
        "id": "SSVkEzO3O64-"
      }
    },
    {
      "cell_type": "code",
      "source": [
        "diff = client.branches.diff_branch('my-repo', 'my-dev-branch').get('results')\n",
        "pd.DataFrame([c.to_dict() for c in diff])[['type', 'path']]"
      ],
      "metadata": {
        "id": "AJ2saHtwO56k"
      },
      "execution_count": null,
      "outputs": []
    },
    {
      "cell_type": "markdown",
      "source": [
        "## 😱 Comparing and validating our results\n",
        "\n",
        "Let's compare the table we modified with the one on `main` - we want to make sure that even though we deleted files and rewrote the table on `my-dev-branch`, the data on `main` is unharmed:\n"
      ],
      "metadata": {
        "id": "09WlpfXnmrec"
      }
    },
    {
      "cell_type": "code",
      "source": [
        "main_df = pd.read_parquet('lakefs://my-repo/main/world-cities-database-population/raw/')\n",
        "dev_df  = pd.read_parquet('lakefs://my-repo/my-dev-branch/world-cities-database-population/raw/')\n",
        "\n",
        "print(f'original data size: {len(main_df.index):,} rows. cleaned data size: {len(dev_df.index):,} rows. 😮‍💨')"
      ],
      "metadata": {
        "id": "i5DfS5iGnMSB"
      },
      "execution_count": null,
      "outputs": []
    },
    {
      "cell_type": "markdown",
      "source": [
        "## 💾 Committing\n",
        "\n",
        "We can, at this point, decide if we want to commit this change, which would allow us to return to this current state of the data, or simply revert all uncommitted changes we've made. Let's see committing in action:"
      ],
      "metadata": {
        "id": "wnLdRpekF7iq"
      }
    },
    {
      "cell_type": "code",
      "source": [
        "commit_message = 'I deleted A LOT of rows!' # @param {type:\"string\"}\n",
        "!lakectl commit --no-color lakefs://my-repo/my-dev-branch -m \"{commit_message}\"\n",
        "\n",
        "# Let's also see a log of commits for this branch:\n",
        "commit_log = client.refs.log_commits('my-repo', 'my-dev-branch').get('results')\n",
        "pd.DataFrame([c.to_dict() for c in commit_log])[['message', 'id']]"
      ],
      "metadata": {
        "id": "MFgtTTrkF9ER"
      },
      "execution_count": null,
      "outputs": []
    },
    {
      "cell_type": "markdown",
      "source": [
        "## ↩️ Reverting commits\n",
        "\n",
        "Sometimes we want to go back to a last known good state of the system. This is very useful when we accidently introdudce (and even commit!) a change we're unhappy with. Let's try that:"
      ],
      "metadata": {
        "id": "yRma2gMHIZXS"
      }
    },
    {
      "cell_type": "code",
      "source": [
        "# Using the branch revert command to undo the commit\n",
        "!lakectl branch revert -y lakefs://my-repo/my-dev-branch \"my-dev-branch~0\"\n",
        "\n",
        "# Let's see that log again:\n",
        "commit_log = client.refs.log_commits('my-repo', 'my-dev-branch').get('results')\n",
        "pd.DataFrame([c.to_dict() for c in commit_log])[['message', 'id']]"
      ],
      "metadata": {
        "id": "VwaaAR7GIvzm"
      },
      "execution_count": null,
      "outputs": []
    },
    {
      "cell_type": "markdown",
      "source": [
        "🔎 Let's see a Diff of that Revert commit:"
      ],
      "metadata": {
        "id": "S1LlBALqZmtt"
      }
    },
    {
      "cell_type": "code",
      "source": [
        "# Now, let's see what this new revert commit actually did!\n",
        "# We do this by diffing the current commit with the previous one\n",
        "!lakectl diff lakefs://my-repo/my-dev-branch~1 lakefs://my-repo/my-dev-branch"
      ],
      "metadata": {
        "id": "umO6RVoQZsKw"
      },
      "execution_count": null,
      "outputs": []
    },
    {
      "cell_type": "markdown",
      "source": [
        "As you can see, that `Revert` operation creates a new commit that performs the inverse of the commit we asked to revert: added files are removed, removed files are restored. \n",
        "\n",
        "Let's make sure the data now looks the way we expect it to:"
      ],
      "metadata": {
        "id": "NqL9bjOzNzfq"
      }
    },
    {
      "cell_type": "code",
      "source": [
        "# And we're now back to square one!\n",
        "main_df = pd.read_parquet('lakefs://my-repo/main/world-cities-database-population/raw/')\n",
        "dev_df  = pd.read_parquet('lakefs://my-repo/my-dev-branch/world-cities-database-population/raw/')\n",
        "\n",
        "print(f'main row count {len(main_df.index):,} == my-dev-branch row count {len(dev_df.index):,}')"
      ],
      "metadata": {
        "id": "Tr5X20NrLUwg"
      },
      "execution_count": null,
      "outputs": []
    },
    {
      "cell_type": "markdown",
      "source": [
        "## 🤗 Only one thing left to do - clean up!\n",
        "\n",
        "So now that we've seen how to create new branches and (ab)use them, let's imagine we're unhappy with the change. Not all experiments are succesful so we don't want to apply these changes to our `main` branch.\n",
        "\n",
        "We can, at this point, drop this branch and pretend none of these changes ever happened:\n"
      ],
      "metadata": {
        "id": "Ih9wVfKzn2yO"
      }
    },
    {
      "cell_type": "code",
      "source": [
        "!lakectl branch delete --yes lakefs://my-repo/my-dev-branch \n",
        "!lakectl branch list lakefs://my-repo/"
      ],
      "metadata": {
        "id": "KlRC4IQfnfwl"
      },
      "execution_count": null,
      "outputs": []
    },
    {
      "cell_type": "markdown",
      "source": [
        "## 💪🎉 You've completed this tutorial!\n",
        "\n",
        "We're done! we've successfully read from a lakeFS repository, created a branch, modified data in-place, examined the results and deleted the branch!\n",
        "\n",
        "A real world example might run an entire ETL pipeline using Apache Spark jobs orchestraed by Airflow to do the same on much larger, more complex datasets - but the idea is the same: we use branches to isolate changes without affecting production. No need to copy large amounts of data, maintain these copies or worry about the complexity involved with creating staging environments for data operations.\n",
        "\n",
        "### Next Steps\n",
        "\n",
        "➡️ Read more about [building a Dev/Test isolated environment for data](https://docs.lakefs.io/use_cases/iso_env.html) on the lakeFS docs, including more examples, illustrations and case studies\n",
        "\n",
        "➡️ Run lakeFS locally to get started on your own environment\n",
        "\n",
        "➡️ Get a free trial of [lakeFS Cloud](https://lakefs.cloud/) to start with a secure, servless fully managed lakeFS environment\n",
        "\n",
        "➡️ Try the [📖 CI/CD for data interactive notebook](https://docs.lakefs.io/use_cases/cicd_for_data.html) to learn about using lakeFS to its full extent, ensuring production changes are enforced for quality, best practices and are fully consistent.\n"
      ],
      "metadata": {
        "id": "J_Rbp5QAosmQ"
      }
    }
  ]
}
