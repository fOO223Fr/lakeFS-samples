{
 "cells": [
  {
   "cell_type": "markdown",
   "id": "b1674ec1-9227-4159-a9bc-5000b31f6e12",
   "metadata": {},
   "source": [
    "# [Integration of lakeFS with Airflow](https://docs.lakefs.io/integrations/airflow.html)\n",
    "\n",
    "## Use Case: Isolating Airflow job run and atomic promotion to production"
   ]
  },
  {
   "cell_type": "markdown",
   "id": "cc68e27f-99e2-46d9-8558-717351708c7f",
   "metadata": {},
   "source": [
    "## Prerequisites\n",
    "\n",
    "###### This Notebook requires connecting to a lakeFS Server.\n",
    "###### To spin up lakeFS quickly - use the Playground (https://demo.lakefs.io) which provides lakeFS server on-demand with a single click;\n",
    "###### Or, alternatively, refer to lakeFS Quickstart doc (https://docs.lakefs.io/quickstart/installing.html)."
   ]
  },
  {
   "cell_type": "markdown",
   "id": "16ddc884-bdf5-4fc5-97b1-38662358268c",
   "metadata": {},
   "source": [
    "## Setup Task: Change your lakeFS credentials"
   ]
  },
  {
   "cell_type": "code",
   "execution_count": null,
   "id": "b9a905b0-ab02-426d-8049-7138de6efc31",
   "metadata": {},
   "outputs": [],
   "source": [
    "lakefsEndPoint = '<lakeFS Endpoint URL>' # e.g. 'https://username.aws_region_name.lakefscloud.io'\n",
    "lakefsAccessKey = '<lakeFS Access Key>'\n",
    "lakefsSecretKey = '<lakeFS Secret Key>'"
   ]
  },
  {
   "cell_type": "markdown",
   "id": "85b5ae63-dc9b-43b3-a883-0a3865ad5dc6",
   "metadata": {},
   "source": [
    "## Setup Task: You can change lakeFS repo name (it can be an existing repo or provide another repo name)"
   ]
  },
  {
   "cell_type": "code",
   "execution_count": null,
   "id": "a4a1f393-3346-440f-8083-99aeb6013443",
   "metadata": {},
   "outputs": [],
   "source": [
    "repo = \"airflow-existing-dag-repo\""
   ]
  },
  {
   "cell_type": "markdown",
   "id": "b0f793f5-22f2-43f7-8e5f-f39149703314",
   "metadata": {},
   "source": [
    "## Setup Task: Versioning Information"
   ]
  },
  {
   "cell_type": "code",
   "execution_count": null,
   "id": "c6f3e3d3-df16-4899-a52e-4cbb2892e409",
   "metadata": {},
   "outputs": [],
   "source": [
    "sourceBranch = \"main\"\n",
    "newBranch = \"airflow_demo_existing_dag\""
   ]
  },
  {
   "cell_type": "markdown",
   "id": "adcdeffb-d15f-4d84-87ae-bd2af291758a",
   "metadata": {},
   "source": [
    "## Setup Task: Storage Information\n",
    "#### Change the Storage Namespace to a location in the bucket you’ve configured. The storage namespace is a location in the underlying storage where data for this repository will be stored."
   ]
  },
  {
   "cell_type": "code",
   "execution_count": null,
   "id": "de2bea94-b287-4515-afba-51c2de0df3fe",
   "metadata": {},
   "outputs": [],
   "source": [
    "storageNamespace = 's3://<S3 Bucket Name>/' # e.g. \"s3://username-lakefs-cloud/\""
   ]
  },
  {
   "cell_type": "markdown",
   "id": "fbc69394-47d2-464e-b9ec-ebbd0383422b",
   "metadata": {},
   "source": [
    "## Setup Task: Run additional [Setup](./airflow/Existing_DAG/ExistingDAGSetup.ipynb) tasks here"
   ]
  },
  {
   "cell_type": "code",
   "execution_count": null,
   "id": "43315a02-5e0d-4480-bd35-1dcb82e0e473",
   "metadata": {},
   "outputs": [],
   "source": [
    "%run ./airflow/Existing_DAG/ExistingDAGSetup.ipynb"
   ]
  },
  {
   "cell_type": "markdown",
   "id": "4e4ac852-ac82-45bf-b49a-1323aa673f2d",
   "metadata": {},
   "source": [
    "## Create Repository - Optional if repository exists"
   ]
  },
  {
   "cell_type": "code",
   "execution_count": null,
   "id": "cc44f5c3-6648-4f6b-b639-7ac871734698",
   "metadata": {},
   "outputs": [],
   "source": [
    "client.repositories.create_repository(\n",
    "    repository_creation=models.RepositoryCreation(\n",
    "        name=repo,\n",
    "        storage_namespace=storageNamespace,\n",
    "        default_branch=sourceBranch))"
   ]
  },
  {
   "cell_type": "markdown",
   "id": "cba46998-3a3d-4b52-ba59-6ee5c1893634",
   "metadata": {},
   "source": [
    "## You can review [lakeFS Wrapper DAG](./airflow/dags/lakefs_wrapper_dag.py) and [Airflow ETL Tutorial DAG](./airflow/dags/lakefs_tutorial_taskflow_api_etl.py) programs."
   ]
  },
  {
   "cell_type": "markdown",
   "id": "57bf42ac-9e4a-46a6-a615-16825da83598",
   "metadata": {},
   "source": [
    "## Visualize [lakeFS Wrapper DAG Graph](http://127.0.0.1:8080/dags/lakefs_wrapper_dag/graph) in Airflow UI. Login by using username \"airflow\" and password \"airflow\"."
   ]
  },
  {
   "cell_type": "markdown",
   "id": "b230ad3d-420b-491a-9129-51f99c5e95b2",
   "metadata": {},
   "source": [
    "## Trigger lakeFS Wrapper DAG"
   ]
  },
  {
   "cell_type": "code",
   "execution_count": null,
   "id": "ca0c89a0-d8e7-4689-80a4-9dee7aa0fac1",
   "metadata": {
    "tags": []
   },
   "outputs": [],
   "source": [
    "! airflow dags unpause lakefs_wrapper_dag\n",
    "! airflow dags unpause lakefs_tutorial_taskflow_api_etl\n",
    "! airflow dags trigger lakefs_wrapper_dag"
   ]
  },
  {
   "cell_type": "markdown",
   "id": "897d0e77-8cb9-47fb-81b2-74c96fae10b9",
   "metadata": {},
   "source": [
    "## Visualize [lakeFS Wrapper DAG Graph](http://127.0.0.1:8080/dags/lakefs_wrapper_dag/graph).\n",
    "### Toggle Auto Refresh switch in DAG Graph to see the continuous progress of the workflow.\n",
    "#### Click on any lakeFS related task box, then click on \"lakeFS UI\" button (this URL will take you to applicable branch/commit/data file in lakeFS). You will also find this URL in the Airflow log if you click on Log button and search for \"lakeFS URL\"."
   ]
  },
  {
   "cell_type": "markdown",
   "id": "15dc2bcb-5dc7-4fa4-8e38-78c40acced8c",
   "metadata": {},
   "source": [
    "## More Questions?\n",
    "\n",
    "###### Join the lakeFS Slack group - https://lakefs.io/slack"
   ]
  },
  {
   "cell_type": "code",
   "execution_count": null,
   "id": "ecb6473d-a5c0-41f2-b5d5-6f6dd9d3f337",
   "metadata": {},
   "outputs": [],
   "source": []
  }
 ],
 "metadata": {
  "kernelspec": {
   "display_name": "Python 3 (ipykernel)",
   "language": "python",
   "name": "python3"
  },
  "language_info": {
   "codemirror_mode": {
    "name": "ipython",
    "version": 3
   },
   "file_extension": ".py",
   "mimetype": "text/x-python",
   "name": "python",
   "nbconvert_exporter": "python",
   "pygments_lexer": "ipython3",
   "version": "3.10.4"
  }
 },
 "nbformat": 4,
 "nbformat_minor": 5
}
