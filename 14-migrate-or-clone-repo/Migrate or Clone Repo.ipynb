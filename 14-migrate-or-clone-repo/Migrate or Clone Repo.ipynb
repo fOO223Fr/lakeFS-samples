{
 "cells": [
  {
   "cell_type": "markdown",
   "id": "c4e81663-80e6-4d27-b5d8-788660b20453",
   "metadata": {},
   "source": [
    "# Migrate or clone a lakeFS repository\n",
    "\n",
    "#### Use this notebook if you want to migrate/clone a source repository to a target repository within the same lakeFS environment or in different lakeFS environments\n",
    "#### You can also use this notebook if you would like to test migration/cloning of repositories"
   ]
  },
  {
   "cell_type": "markdown",
   "id": "70041e78-71fc-4222-84eb-adb47f2fec33",
   "metadata": {},
   "source": [
    "## Prerequisites\n",
    "\n",
    "#### 1. Source and a target lakeFS environments (you can [deploy one independently](https://docs.lakefs.io/deploy/) or use the hosted solution [lakeFS Cloud](https://lakefs.cloud)\n",
    "#### 2. Object storage for both source and target repositories"
   ]
  },
  {
   "cell_type": "markdown",
   "id": "a7a39a3a-c7d8-4f56-a56e-b7f67de561ca",
   "metadata": {},
   "source": [
    "## Setup Task: Import required Python packages"
   ]
  },
  {
   "cell_type": "code",
   "execution_count": null,
   "id": "c8fb6261-08b1-4daa-8866-e417f3b1f302",
   "metadata": {},
   "outputs": [],
   "source": [
    "%xmode Minimal\n",
    "import lakefs_client\n",
    "from lakefs_client import models\n",
    "from lakefs_client.client import LakeFSClient\n",
    "import random\n",
    "import os\n",
    "import datetime"
   ]
  },
  {
   "cell_type": "markdown",
   "id": "95cf9ca3-5044-4dc1-90ac-09eb6b1b869c",
   "metadata": {},
   "source": [
    "## Setup Task: Change your lakeFS credentials for the source lakeFS environment"
   ]
  },
  {
   "cell_type": "code",
   "execution_count": null,
   "id": "5483a303-964d-4555-b7df-680adc52d8b7",
   "metadata": {},
   "outputs": [],
   "source": [
    "sourceLakefsEndPoint = '<Source lakeFS Endpoint URL>' # e.g. 'https://username.aws_region_name.lakefscloud.io'\n",
    "sourceLakefsAccessKey = '<Source lakeFS Access Key>'\n",
    "sourceLakefsSecretKey = '<Source lakeFS Secret Key>'"
   ]
  },
  {
   "cell_type": "markdown",
   "id": "a51da4f5-2943-4a00-a412-5a1955317a6f",
   "metadata": {},
   "source": [
    "## Setup Task: Change your lakeFS credentials for the target lakeFS environment\n",
    "\n",
    "#### If your source and target environments are same then use same credentials for target as you specified for the source above"
   ]
  },
  {
   "cell_type": "code",
   "execution_count": null,
   "id": "23f11814-70b4-4a19-adf4-a62306b1c5c1",
   "metadata": {},
   "outputs": [],
   "source": [
    "targetLakefsEndPoint = '<Target lakeFS Endpoint URL>' # e.g. 'https://username.aws_region_name.lakefscloud.io'\n",
    "targetLakefsAccessKey = '<Target lakeFS Access Key>'\n",
    "targetLakefsSecretKey = '<Target lakeFS Secret Key>'"
   ]
  },
  {
   "cell_type": "markdown",
   "id": "21ae19fa-acd8-4aa0-af93-cdd9bed56487",
   "metadata": {},
   "source": [
    "## Setup Task: You can change lakeFS repo names\n",
    "\n",
    "#### Source Repo: It can be an existing source repo. If you don't have an existing source repo then you will create a source repo in this notebook.\n",
    "\n",
    "#### Target Repo: Don't create target repo ahead of time. You will create a target repo in this notebook."
   ]
  },
  {
   "cell_type": "code",
   "execution_count": null,
   "id": "4518a8fc-e5e9-42ec-a0b7-5a000833029c",
   "metadata": {},
   "outputs": [],
   "source": [
    "source_repo_name = \"source-repo\"\n",
    "target_repo_name = \"target-repo\""
   ]
  },
  {
   "cell_type": "markdown",
   "id": "2870b722-e274-4674-bb0c-7854b18dda31",
   "metadata": {},
   "source": [
    "# IMPORTANT: Run next few cells if you are using AWS for lakeFS\n",
    "\n",
    "#### Skip this section and to go Azure section if you are using Azure for lakeFS"
   ]
  },
  {
   "cell_type": "markdown",
   "id": "5cafcfbe-3c32-44ae-b4e3-b1047749de29",
   "metadata": {},
   "source": [
    "## Setup Task: Import AWS CLI package"
   ]
  },
  {
   "cell_type": "code",
   "execution_count": null,
   "id": "039eb7df-5fab-4e42-9bf7-0f3b4b5a3737",
   "metadata": {},
   "outputs": [],
   "source": [
    "from awscliv2.api import AWSAPI"
   ]
  },
  {
   "cell_type": "markdown",
   "id": "d86ee9f0-98d4-406c-9ad8-200a7f97c05d",
   "metadata": {},
   "source": [
    "## Setup Task: Change source and target bucket names\n",
    "\n",
    "#### Buckets should already exist\n",
    "#### If you are testing migration/cloning, you can use the same bucket with different folder for source and target"
   ]
  },
  {
   "cell_type": "code",
   "execution_count": null,
   "id": "3e05f472-271b-465c-ae68-6f888869c1ed",
   "metadata": {},
   "outputs": [],
   "source": [
    "sourceBucket = 'sourceBucketName'\n",
    "targetBucket = 'targetBucketName'"
   ]
  },
  {
   "cell_type": "markdown",
   "id": "514bb5ff-1ee6-4310-a0fd-6ef46a66b06e",
   "metadata": {},
   "source": [
    "## Setup Task: Change AWS credentials\n",
    "#### Provide AWS region and access key information"
   ]
  },
  {
   "cell_type": "code",
   "execution_count": null,
   "id": "e48ec9a2-4a7d-416d-b83e-e7daead9c17e",
   "metadata": {},
   "outputs": [],
   "source": [
    "aws_region = '<AWS region name>' # e.g. us-east-1\n",
    "aws_access_key_id = 'aaaaaaaaaaaaa'\n",
    "aws_secret_access_key = 'bbbbbbbbbbbbbbbbbbbbbbbbbbbbbbbbbb'"
   ]
  },
  {
   "cell_type": "markdown",
   "id": "980c7604-d420-48f4-b1c0-e45b83eef39c",
   "metadata": {},
   "source": [
    "## Setup Task: Set storage namespace variables"
   ]
  },
  {
   "cell_type": "code",
   "execution_count": null,
   "id": "9087d6e7-fae6-45fd-8f45-e22c56de7146",
   "metadata": {},
   "outputs": [],
   "source": [
    "source_storage_namespace = 's3://' + sourceBucket\n",
    "print('Storage Namespace for source Repository: ' + source_storage_namespace)\n",
    "\n",
    "target_storage_namespace = 's3://' + targetBucket\n",
    "print('Storage Namespace for target Repository: ' + target_storage_namespace)"
   ]
  },
  {
   "cell_type": "markdown",
   "id": "457da24d-7644-41fe-bb00-9d3e4c363bb1",
   "metadata": {},
   "source": [
    "## Setup Task: Set AWS credentials for the default profile"
   ]
  },
  {
   "cell_type": "code",
   "execution_count": null,
   "id": "57368f0d-09cd-47df-b7bb-ed4008bca7c6",
   "metadata": {},
   "outputs": [],
   "source": [
    "aws_api = AWSAPI()\n",
    "\n",
    "aws_api.set_credentials(\"default\", aws_access_key_id, aws_secret_access_key, \"\", aws_region)"
   ]
  },
  {
   "cell_type": "markdown",
   "id": "5de0ae50-7cf2-4305-9dbf-b997d8a47f9b",
   "metadata": {},
   "source": [
    "# END OF AWS SECTION"
   ]
  },
  {
   "cell_type": "markdown",
   "id": "14fd40f3-e02c-4c24-8843-1b94ca9cea04",
   "metadata": {},
   "source": [
    "# IMPORTANT: Run next few cells if you are using Azure for lakeFS"
   ]
  },
  {
   "cell_type": "markdown",
   "id": "7609ccaa-3223-4768-8b30-2f41fc3016d3",
   "metadata": {},
   "source": [
    "## Setup Task: Change storage account names and container names for the source & target\n",
    "\n",
    "#### Storage account names can be same for the source and target\n",
    "#### Containers should already exist"
   ]
  },
  {
   "cell_type": "code",
   "execution_count": null,
   "id": "cb418769-35e4-4c13-b6dd-f00be55119ae",
   "metadata": {},
   "outputs": [],
   "source": [
    "source_storage_account_name = 'source_storage_account_name'\n",
    "target_storage_account_name = 'target_storage_account_name'\n",
    "sourceContainer = 'sourceContainer'\n",
    "targetContainer = 'targetContainer'"
   ]
  },
  {
   "cell_type": "markdown",
   "id": "837b00ea-de09-4200-8df1-5fdc7a8e64fd",
   "metadata": {},
   "source": [
    "## Setup Task: Change SAS Tokens\n",
    "\n",
    "#### You will copy data from source Storage Container to the target Storage Container by using the [azcopy](https://learn.microsoft.com/en-us/azure/storage/common/storage-use-azcopy-v10?toc=%2Fazure%2Fstorage%2Fblobs%2Ftoc.json&bc=%2Fazure%2Fstorage%2Fblobs%2Fbreadcrumb%2Ftoc.json) software (which is pre-installed in this container) and you will use Shared Access Signatures (SAS) token to [Authorize azcopy](https://learn.microsoft.com/en-us/azure/storage/common/storage-use-azcopy-v10?toc=%2Fazure%2Fstorage%2Fblobs%2Ftoc.json&bc=%2Fazure%2Fstorage%2Fblobs%2Fbreadcrumb%2Ftoc.json#authorize-azcopy).\n",
    "\n",
    "#### Use this document to [Create SAS tokens for your storage containers](https://learn.microsoft.com/en-us/azure/cognitive-services/translator/document-translation/how-to-guides/create-sas-tokens?tabs=Containers). Select Read and List permissions for Source Container and  Write permission for Target Container when creating SAS Tokens."
   ]
  },
  {
   "cell_type": "code",
   "execution_count": null,
   "id": "e18732d1-5e63-4dbf-90a6-06bb398d8c9f",
   "metadata": {},
   "outputs": [],
   "source": [
    "source_container_SAS_token = 'source_container_SAS_token'"
   ]
  },
  {
   "cell_type": "code",
   "execution_count": null,
   "id": "8fa33e19-8e8a-4371-bc67-db4a05dcb999",
   "metadata": {},
   "outputs": [],
   "source": [
    "target_container_SAS_token = 'target_container_SAS_token'"
   ]
  },
  {
   "cell_type": "markdown",
   "id": "211af765-4613-4942-aa0f-f91c45dc624e",
   "metadata": {},
   "source": [
    "## Setup Task: Set storage namespace variables"
   ]
  },
  {
   "cell_type": "code",
   "execution_count": null,
   "id": "540a76b5-482b-4170-a2f0-079766964a28",
   "metadata": {},
   "outputs": [],
   "source": [
    "source_storage_namespace = 'https://' + source_storage_account_name + '.blob.core.windows.net/' + sourceContainer + '/'\n",
    "print('Storage Namespace for source Repository: ' + source_storage_namespace)\n",
    "\n",
    "target_storage_namespace = 'https://' + target_storage_account_name + '.blob.core.windows.net/' + targetContainer + '/'\n",
    "print('Storage Namespace for target Repository: ' + target_storage_namespace)"
   ]
  },
  {
   "cell_type": "markdown",
   "id": "5f81772f-1538-464f-96e2-52eca01b52e5",
   "metadata": {},
   "source": [
    "# END OF AZURE SECTION"
   ]
  },
  {
   "cell_type": "markdown",
   "id": "42a55daa-fe3c-47ed-b353-e7cd26dc5f57",
   "metadata": {},
   "source": [
    "## Setup Task: Create lakeFS Python client for source lakeFS environment"
   ]
  },
  {
   "cell_type": "code",
   "execution_count": null,
   "id": "25ceb3de-d811-41fa-b117-ce6e15de293a",
   "metadata": {},
   "outputs": [],
   "source": [
    "if not 'sourceClient' in locals():\n",
    "    # lakeFS credentials and endpoint\n",
    "    configuration = lakefs_client.Configuration()\n",
    "    configuration.username = sourceLakefsAccessKey\n",
    "    configuration.password = sourceLakefsSecretKey\n",
    "    configuration.host = sourceLakefsEndPoint\n",
    "\n",
    "    sourceClient = LakeFSClient(configuration)\n",
    "    print(\"Created source lakeFS client.\")"
   ]
  },
  {
   "cell_type": "markdown",
   "id": "e1e05564-131f-4a90-81ca-16dfa1fc2ec4",
   "metadata": {},
   "source": [
    "## Setup Task: Create lakeFS Python client for target lakeFS environment"
   ]
  },
  {
   "cell_type": "code",
   "execution_count": null,
   "id": "b9ffe9b2-5c84-4637-bde6-5ebf40e49d10",
   "metadata": {},
   "outputs": [],
   "source": [
    "if not 'targetClient' in locals():\n",
    "    # lakeFS credentials and endpoint\n",
    "    configuration = lakefs_client.Configuration()\n",
    "    configuration.username = targetLakefsAccessKey\n",
    "    configuration.password = targetLakefsSecretKey\n",
    "    configuration.host = targetLakefsEndPoint\n",
    "\n",
    "    targetClient = LakeFSClient(configuration)\n",
    "    print(\"Created target lakeFS client.\")"
   ]
  },
  {
   "cell_type": "markdown",
   "id": "f0d799bf-b188-4f8f-a4a8-778b57ac1e84",
   "metadata": {},
   "source": [
    "## IMPORTANT: If you don't have an existing source repo then run next few cells to create a sample source repo and populate it with sample data otherwise go to \"Step 1 - Commit Changes\" section"
   ]
  },
  {
   "cell_type": "markdown",
   "id": "c0610dc4-ae03-4130-8986-066692846dbf",
   "metadata": {},
   "source": [
    "## Setup Task: You can change values for these variables or leave as is"
   ]
  },
  {
   "cell_type": "code",
   "execution_count": null,
   "id": "ddf128c6-180b-448a-a671-f1452ce91af0",
   "metadata": {},
   "outputs": [],
   "source": [
    "mainBranch = \"main\"\n",
    "testBranch = \"test\"\n",
    "fileName = \"lakefs_test.csv\" # Don't change this sample data file name (included in this container)"
   ]
  },
  {
   "cell_type": "markdown",
   "id": "30b56465-69c9-4706-9c76-0dd9f26ec648",
   "metadata": {},
   "source": [
    "## Setup Task: Create source repo"
   ]
  },
  {
   "cell_type": "code",
   "execution_count": null,
   "id": "c1a21b01-be73-429d-a8a1-63c6e6320d8e",
   "metadata": {},
   "outputs": [],
   "source": [
    "sourceClient.repositories.create_repository(\n",
    "    repository_creation=models.RepositoryCreation(\n",
    "        name=source_repo_name,\n",
    "        storage_namespace=source_storage_namespace,\n",
    "        default_branch=mainBranch))"
   ]
  },
  {
   "cell_type": "markdown",
   "id": "9ed9509d-cff8-4a2c-9dcc-e8da06b76d39",
   "metadata": {},
   "source": [
    "## Setup Task: Upload sample data file to the main branch"
   ]
  },
  {
   "cell_type": "code",
   "execution_count": null,
   "id": "7ac4fc56-dc62-4cf4-99c5-b8668524b59d",
   "metadata": {},
   "outputs": [],
   "source": [
    "contentToUpload = open(os.path.expanduser('~')+'/'+fileName, 'rb') # Only a single file per upload which must be named \\\\\\\"content\\\\\\\"\n",
    "sourceClient.objects.upload_object(\n",
    "    repository=source_repo_name,\n",
    "    branch=mainBranch,\n",
    "    path=fileName,\n",
    "    content=contentToUpload)"
   ]
  },
  {
   "cell_type": "markdown",
   "id": "c7f12a39-b2e4-42eb-a02c-b81b96c25157",
   "metadata": {},
   "source": [
    "## Setup Task: Randomly create few branches, upload sample data file to few of those branches and commit data in few branches"
   ]
  },
  {
   "cell_type": "code",
   "execution_count": null,
   "id": "483b8e10-90a1-42b0-8612-9de23a7ea814",
   "metadata": {},
   "outputs": [],
   "source": [
    "no_of_branches = random.randint(5, 10)\n",
    "\n",
    "for i in range(no_of_branches):\n",
    "    branch_name = testBranch+datetime.datetime.now().strftime(\"_%Y_%m_%d_%H_%M_%S_%f\")\n",
    "    sourceClient.branches.create_branch(\n",
    "        repository=source_repo_name,\n",
    "        branch_creation=models.BranchCreation(\n",
    "            name=branch_name,\n",
    "            source=mainBranch))\n",
    "    print('Created branch: ' + branch_name)\n",
    "    \n",
    "    upload_object = bool(random.getrandbits(1))\n",
    "    if upload_object:\n",
    "        contentToUpload = open(os.path.expanduser('~')+'/'+fileName, 'rb') # Only a single file per upload which must be named \\\\\\\"content\\\\\\\"\n",
    "        sourceClient.objects.upload_object(\n",
    "            repository=source_repo_name,\n",
    "            branch=branch_name,\n",
    "            path=fileName,\n",
    "            content=contentToUpload)\n",
    "        print('    Data file uploaded to the branch')\n",
    "        \n",
    "        commit_changes = bool(random.getrandbits(1))\n",
    "        if commit_changes:\n",
    "            sourceClient.commits.commit(\n",
    "                repository=source_repo_name,\n",
    "                branch=branch_name,\n",
    "                commit_creation=models.CommitCreation(\n",
    "                    message='Added a file!'))\n",
    "            print('    Changes committed for the branch')\n",
    "            \n",
    "print('Number of branches Created: ' + str(no_of_branches))"
   ]
  },
  {
   "cell_type": "markdown",
   "id": "2533df27-5d88-4c10-9547-5b768391954e",
   "metadata": {},
   "source": [
    "# END OF THE SOURCE REPO CREATION SECTION AND SETUP TASKS"
   ]
  },
  {
   "cell_type": "markdown",
   "id": "8277d49c-570d-4ade-a976-952ce92e4451",
   "metadata": {},
   "source": [
    "# Step 1 - Commit Changes"
   ]
  },
  {
   "cell_type": "markdown",
   "id": "f35130b5-ef88-44c4-a90b-3969784c3259",
   "metadata": {},
   "source": [
    "## IMPORTANT: Uncommitted data is not migrated over so check uncommitted data (this might take time if you have many branches in the source repo)"
   ]
  },
  {
   "cell_type": "code",
   "execution_count": null,
   "id": "37ff37f6-0915-42aa-b8f7-b89bff042240",
   "metadata": {},
   "outputs": [],
   "source": [
    "has_more = True\n",
    "after = \"\"\n",
    "\n",
    "while has_more:\n",
    "    list_branches = sourceClient.branches.list_branches(\n",
    "        repository=source_repo_name,\n",
    "        after=after)\n",
    "\n",
    "    for branch in list_branches.results:\n",
    "        get_diff = sourceClient.branches.diff_branch(\n",
    "            repository=source_repo_name,\n",
    "            branch=branch.id,\n",
    "            amount=1)\n",
    "        if get_diff.results:\n",
    "            print('Branch with uncommitted data: ' + branch.id)\n",
    "\n",
    "    # pagination\n",
    "    has_more = list_branches.pagination.has_more\n",
    "    after = list_branches.pagination.next_offset"
   ]
  },
  {
   "cell_type": "markdown",
   "id": "5129aa0d-9f90-4f38-a2a9-f0111a15bcc1",
   "metadata": {},
   "source": [
    "## OPTIONAL: Commit any uncommitted data in your source repo (this might take time if you have many branches in the source repo)\n",
    "#### If you want, you can manually commit the changes for the branches listed above from the lakeFS UI\n",
    "\n",
    "#### You can run previous command again after finishing this to verify that there are not any uncommitted data any more"
   ]
  },
  {
   "cell_type": "code",
   "execution_count": null,
   "id": "3059fc2d-596b-44c2-8401-2b05da5c517b",
   "metadata": {},
   "outputs": [],
   "source": [
    "has_more = True\n",
    "after = \"\"\n",
    "\n",
    "while has_more:\n",
    "    list_branches = sourceClient.branches.list_branches(\n",
    "        repository=source_repo_name,\n",
    "        after=after)\n",
    "\n",
    "    for branch in list_branches.results:\n",
    "        get_diff = sourceClient.branches.diff_branch(\n",
    "            repository=source_repo_name,\n",
    "            branch=branch.id,\n",
    "            amount=1)\n",
    "        if get_diff.results:\n",
    "            print('Committed changes for Branch: ' + branch.id)\n",
    "            sourceClient.commits.commit(\n",
    "                repository=source_repo_name,\n",
    "                branch=branch.id,\n",
    "                commit_creation=models.CommitCreation(\n",
    "                    message='Added a file!'))\n",
    "    # pagination\n",
    "    has_more = list_branches.pagination.has_more\n",
    "    after = list_branches.pagination.next_offset"
   ]
  },
  {
   "cell_type": "markdown",
   "id": "dc52914e-6ee2-4bf6-99b4-4e254ad38133",
   "metadata": {},
   "source": [
    "# Step 2 - Backup Metadata of Source Repository"
   ]
  },
  {
   "cell_type": "code",
   "execution_count": null,
   "id": "181b79ba-dc92-4a42-8881-498e7ac35e26",
   "metadata": {},
   "outputs": [],
   "source": [
    "dump_refs = sourceClient.refs.dump_refs(\n",
    "    repository=source_repo_name)\n",
    "\n",
    "print(dump_refs)"
   ]
  },
  {
   "cell_type": "markdown",
   "id": "e789b515-2333-4d45-879c-130afbd8ef85",
   "metadata": {},
   "source": [
    "# Step 3 - Copy Data from Source to Target"
   ]
  },
  {
   "cell_type": "markdown",
   "id": "73d1eac2-e5ae-453b-976e-7687e9fd2c6f",
   "metadata": {},
   "source": [
    "#### IMPORTANT: Run if you are using AWS for lakeFS"
   ]
  },
  {
   "cell_type": "code",
   "execution_count": null,
   "id": "5a7bf575-cc71-4b57-9fcf-c09193989492",
   "metadata": {},
   "outputs": [],
   "source": [
    "s3SyncCommand = 'aws s3 sync s3://' + sourceBucket + ' s3://' + targetBucket\n",
    "! $s3SyncCommand"
   ]
  },
  {
   "cell_type": "markdown",
   "id": "7cca2efe-4cd4-4a36-8cf8-cb883776473c",
   "metadata": {},
   "source": [
    "#### IMPORTANT: Run if you are using Azure for lakeFS"
   ]
  },
  {
   "cell_type": "code",
   "execution_count": null,
   "id": "571ceb64-2d63-4ced-87c1-f9aff067a562",
   "metadata": {},
   "outputs": [],
   "source": [
    "azureCopyCommand = \"azcopy copy 'https://\" + source_storage_account_name + \".blob.core.windows.net/\" + sourceContainer + \"?\" + source_container_SAS_token + \\\n",
    "    \"' 'https://\" + target_storage_account_name + \".blob.core.windows.net/\" + targetContainer + \"?\" + target_container_SAS_token + \"' --recursive\"\n",
    "\n",
    "! $azureCopyCommand"
   ]
  },
  {
   "cell_type": "markdown",
   "id": "20314a68-533e-45f3-bd09-ac6be17a34cc",
   "metadata": {},
   "source": [
    "## Step 4 - Create Target Bare Repository"
   ]
  },
  {
   "cell_type": "code",
   "execution_count": null,
   "id": "29e91a48-6601-45d4-a8aa-6c5de808d208",
   "metadata": {},
   "outputs": [],
   "source": [
    "targetClient.repositories.create_repository(\n",
    "    repository_creation=models.RepositoryCreation(\n",
    "        name=target_repo_name,\n",
    "        storage_namespace=target_storage_namespace,\n",
    "        default_branch=mainBranch),\n",
    "    bare=True)"
   ]
  },
  {
   "cell_type": "markdown",
   "id": "95570b12-b39d-41d7-852c-f09dc4b05bdf",
   "metadata": {},
   "source": [
    "## Step 5 - Restore Metadata to Target Repository"
   ]
  },
  {
   "cell_type": "code",
   "execution_count": null,
   "id": "cef6e90a-fd2d-42ff-b1ae-053a619ec560",
   "metadata": {},
   "outputs": [],
   "source": [
    "targetClient.refs.restore_refs(\n",
    "    repository=target_repo_name,\n",
    "    refs_dump=dump_refs)\n",
    "\n",
    "print('Repository migrated')"
   ]
  },
  {
   "cell_type": "markdown",
   "id": "99b1304e-e4db-4d08-9662-c8d4547c3269",
   "metadata": {},
   "source": [
    "## More Questions?\n",
    "\n",
    "###### Join the lakeFS Slack group - https://lakefs.io/slack"
   ]
  },
  {
   "cell_type": "code",
   "execution_count": null,
   "id": "dae0d3db-e675-4b7d-ad4f-67b9cad53583",
   "metadata": {},
   "outputs": [],
   "source": []
  }
 ],
 "metadata": {
  "kernelspec": {
   "display_name": "Python 3 (ipykernel)",
   "language": "python",
   "name": "python3"
  },
  "language_info": {
   "codemirror_mode": {
    "name": "ipython",
    "version": 3
   },
   "file_extension": ".py",
   "mimetype": "text/x-python",
   "name": "python",
   "nbconvert_exporter": "python",
   "pygments_lexer": "ipython3",
   "version": "3.10.4"
  }
 },
 "nbformat": 4,
 "nbformat_minor": 5
}
