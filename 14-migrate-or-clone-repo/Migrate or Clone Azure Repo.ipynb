{
 "cells": [
  {
   "cell_type": "markdown",
   "id": "c4e81663-80e6-4d27-b5d8-788660b20453",
   "metadata": {},
   "source": [
    "# Migrate or clone a lakeFS repository on Azure\n",
    "\n",
    "#### Use this notebook if you want to migrate/clone a source repository to a target repository within the same lakeFS environment or in different lakeFS environments"
   ]
  },
  {
   "cell_type": "markdown",
   "id": "70041e78-71fc-4222-84eb-adb47f2fec33",
   "metadata": {},
   "source": [
    "## Prerequisites\n",
    "\n",
    "#### 1. Source and a target lakeFS environments (you can [deploy one independently](https://docs.lakefs.io/deploy/) or use the hosted solution [lakeFS Cloud](https://lakefs.cloud))\n",
    "#### 2. Source repository\n",
    "#### 3. Storage Container for target repository but don't create target repository ahead of time (you will create a target repo in this notebook)"
   ]
  },
  {
   "cell_type": "markdown",
   "id": "a7a39a3a-c7d8-4f56-a56e-b7f67de561ca",
   "metadata": {},
   "source": [
    "## Setup Task: Import required Python packages"
   ]
  },
  {
   "cell_type": "code",
   "execution_count": null,
   "id": "c8fb6261-08b1-4daa-8866-e417f3b1f302",
   "metadata": {},
   "outputs": [],
   "source": [
    "%xmode Minimal\n",
    "import lakefs_client\n",
    "from lakefs_client import models\n",
    "from lakefs_client.client import LakeFSClient\n",
    "import random\n",
    "import os\n",
    "import datetime"
   ]
  },
  {
   "cell_type": "markdown",
   "id": "95cf9ca3-5044-4dc1-90ac-09eb6b1b869c",
   "metadata": {},
   "source": [
    "## Setup Task: Change your lakeFS credentials for the source lakeFS environment"
   ]
  },
  {
   "cell_type": "code",
   "execution_count": null,
   "id": "5483a303-964d-4555-b7df-680adc52d8b7",
   "metadata": {},
   "outputs": [],
   "source": [
    "sourceLakefsEndPoint = '<Source lakeFS Endpoint URL>' # e.g. 'https://username.aws_region_name.lakefscloud.io'\n",
    "sourceLakefsAccessKey = '<Source lakeFS Access Key>'\n",
    "sourceLakefsSecretKey = '<Source lakeFS Secret Key>'"
   ]
  },
  {
   "cell_type": "markdown",
   "id": "a51da4f5-2943-4a00-a412-5a1955317a6f",
   "metadata": {},
   "source": [
    "## Setup Task: Change your lakeFS credentials for the target lakeFS environment\n",
    "\n",
    "#### If your source and target environments are same then use same credentials for target as you specified for the source above"
   ]
  },
  {
   "cell_type": "code",
   "execution_count": null,
   "id": "23f11814-70b4-4a19-adf4-a62306b1c5c1",
   "metadata": {},
   "outputs": [],
   "source": [
    "targetLakefsEndPoint = '<Target lakeFS Endpoint URL>' # e.g. 'https://username.aws_region_name.lakefscloud.io'\n",
    "targetLakefsAccessKey = '<Target lakeFS Access Key>'\n",
    "targetLakefsSecretKey = '<Target lakeFS Secret Key>'"
   ]
  },
  {
   "cell_type": "markdown",
   "id": "21ae19fa-acd8-4aa0-af93-cdd9bed56487",
   "metadata": {},
   "source": [
    "## Setup Task: Change lakeFS repo names"
   ]
  },
  {
   "cell_type": "code",
   "execution_count": null,
   "id": "4518a8fc-e5e9-42ec-a0b7-5a000833029c",
   "metadata": {},
   "outputs": [],
   "source": [
    "source_repo_name = \"source-repo\"\n",
    "target_repo_name = \"target-repo\""
   ]
  },
  {
   "cell_type": "markdown",
   "id": "a4403f62-8e4e-4a85-8090-241ec0ca9bbd",
   "metadata": {},
   "source": [
    "## Setup Task: Change main/production branch name for the source repo"
   ]
  },
  {
   "cell_type": "code",
   "execution_count": null,
   "id": "de7fd2cf-6183-48da-b400-e45df9c3fc33",
   "metadata": {},
   "outputs": [],
   "source": [
    "source_main_branch = \"main\""
   ]
  },
  {
   "cell_type": "markdown",
   "id": "7609ccaa-3223-4768-8b30-2f41fc3016d3",
   "metadata": {},
   "source": [
    "## Setup Task: Change storage account names and container names for the source & target\n",
    "\n",
    "#### Storage account name can be same for the source and target"
   ]
  },
  {
   "cell_type": "code",
   "execution_count": null,
   "id": "c62890e3-c927-4ee8-badd-d8fd3e1cdc84",
   "metadata": {},
   "outputs": [],
   "source": [
    "source_storage_namespace = 'https://source-storage-account-name.blob.core.windows.net/sourceContainer'\n",
    "target_storage_namespace = 'https://target-storage-account-name.blob.core.windows.net/targetContainer'"
   ]
  },
  {
   "cell_type": "markdown",
   "id": "837b00ea-de09-4200-8df1-5fdc7a8e64fd",
   "metadata": {},
   "source": [
    "## Setup Task: Change SAS Tokens\n",
    "\n",
    "#### You will copy data from source Storage Container to the target Storage Container by using the [azcopy](https://learn.microsoft.com/en-us/azure/storage/common/storage-use-azcopy-v10?toc=%2Fazure%2Fstorage%2Fblobs%2Ftoc.json&bc=%2Fazure%2Fstorage%2Fblobs%2Fbreadcrumb%2Ftoc.json) software (which is pre-installed in this container) and you will use Shared Access Signatures (SAS) token to [Authorize azcopy](https://learn.microsoft.com/en-us/azure/storage/common/storage-use-azcopy-v10?toc=%2Fazure%2Fstorage%2Fblobs%2Ftoc.json&bc=%2Fazure%2Fstorage%2Fblobs%2Fbreadcrumb%2Ftoc.json#authorize-azcopy).\n",
    "\n",
    "#### Use this document to [Create SAS tokens for your storage containers](https://learn.microsoft.com/en-us/azure/cognitive-services/translator/document-translation/how-to-guides/create-sas-tokens?tabs=Containers). Select \"Read\" and \"List\" permissions for Source Container and \"Write\" permission for Target Container while creating SAS Tokens."
   ]
  },
  {
   "cell_type": "code",
   "execution_count": null,
   "id": "e18732d1-5e63-4dbf-90a6-06bb398d8c9f",
   "metadata": {},
   "outputs": [],
   "source": [
    "source_container_SAS_token = 'source_container_SAS_token'"
   ]
  },
  {
   "cell_type": "code",
   "execution_count": null,
   "id": "8fa33e19-8e8a-4371-bc67-db4a05dcb999",
   "metadata": {},
   "outputs": [],
   "source": [
    "target_container_SAS_token = 'target_container_SAS_token'"
   ]
  },
  {
   "cell_type": "markdown",
   "id": "42a55daa-fe3c-47ed-b353-e7cd26dc5f57",
   "metadata": {},
   "source": [
    "## Setup Task: Create lakeFS Python client for source lakeFS environment"
   ]
  },
  {
   "cell_type": "code",
   "execution_count": null,
   "id": "25ceb3de-d811-41fa-b117-ce6e15de293a",
   "metadata": {},
   "outputs": [],
   "source": [
    "if not 'sourceClient' in locals():\n",
    "    # lakeFS credentials and endpoint\n",
    "    configuration = lakefs_client.Configuration()\n",
    "    configuration.username = sourceLakefsAccessKey\n",
    "    configuration.password = sourceLakefsSecretKey\n",
    "    configuration.host = sourceLakefsEndPoint\n",
    "\n",
    "    sourceClient = LakeFSClient(configuration)\n",
    "    print(\"Created source lakeFS client.\")"
   ]
  },
  {
   "cell_type": "markdown",
   "id": "e1e05564-131f-4a90-81ca-16dfa1fc2ec4",
   "metadata": {},
   "source": [
    "## Setup Task: Create lakeFS Python client for target lakeFS environment"
   ]
  },
  {
   "cell_type": "code",
   "execution_count": null,
   "id": "b9ffe9b2-5c84-4637-bde6-5ebf40e49d10",
   "metadata": {},
   "outputs": [],
   "source": [
    "if not 'targetClient' in locals():\n",
    "    # lakeFS credentials and endpoint\n",
    "    configuration = lakefs_client.Configuration()\n",
    "    configuration.username = targetLakefsAccessKey\n",
    "    configuration.password = targetLakefsSecretKey\n",
    "    configuration.host = targetLakefsEndPoint\n",
    "\n",
    "    targetClient = LakeFSClient(configuration)\n",
    "    print(\"Created target lakeFS client.\")"
   ]
  },
  {
   "cell_type": "markdown",
   "id": "8277d49c-570d-4ade-a976-952ce92e4451",
   "metadata": {},
   "source": [
    "# Step 1 - Commit Changes"
   ]
  },
  {
   "cell_type": "markdown",
   "id": "f35130b5-ef88-44c4-a90b-3969784c3259",
   "metadata": {},
   "source": [
    "## IMPORTANT: Uncommitted data is not migrated over so check uncommitted data (this might take time if you have many branches in the source repo)"
   ]
  },
  {
   "cell_type": "code",
   "execution_count": null,
   "id": "37ff37f6-0915-42aa-b8f7-b89bff042240",
   "metadata": {},
   "outputs": [],
   "source": [
    "has_more = True\n",
    "after = \"\"\n",
    "\n",
    "while has_more:\n",
    "    list_branches = sourceClient.branches.list_branches(\n",
    "        repository=source_repo_name,\n",
    "        after=after)\n",
    "\n",
    "    for branch in list_branches.results:\n",
    "        get_diff = sourceClient.branches.diff_branch(\n",
    "            repository=source_repo_name,\n",
    "            branch=branch.id,\n",
    "            amount=1)\n",
    "        if get_diff.results:\n",
    "            print('Branch with uncommitted data: ' + branch.id)\n",
    "\n",
    "    # pagination\n",
    "    has_more = list_branches.pagination.has_more\n",
    "    after = list_branches.pagination.next_offset"
   ]
  },
  {
   "cell_type": "markdown",
   "id": "5129aa0d-9f90-4f38-a2a9-f0111a15bcc1",
   "metadata": {},
   "source": [
    "## OPTIONAL: Commit any uncommitted data in your source repo (this might take time if you have many branches in the source repo)\n",
    "#### If you want, you can manually commit the changes for the branches listed above from the lakeFS UI\n",
    "\n",
    "#### You can run previous command again after finishing this to verify that there are not any uncommitted data any more"
   ]
  },
  {
   "cell_type": "code",
   "execution_count": null,
   "id": "3059fc2d-596b-44c2-8401-2b05da5c517b",
   "metadata": {},
   "outputs": [],
   "source": [
    "has_more = True\n",
    "after = \"\"\n",
    "\n",
    "while has_more:\n",
    "    list_branches = sourceClient.branches.list_branches(\n",
    "        repository=source_repo_name,\n",
    "        after=after)\n",
    "\n",
    "    for branch in list_branches.results:\n",
    "        get_diff = sourceClient.branches.diff_branch(\n",
    "            repository=source_repo_name,\n",
    "            branch=branch.id,\n",
    "            amount=1)\n",
    "        if get_diff.results:\n",
    "            print('Committed changes for Branch: ' + branch.id)\n",
    "            sourceClient.commits.commit(\n",
    "                repository=source_repo_name,\n",
    "                branch=branch.id,\n",
    "                commit_creation=models.CommitCreation(\n",
    "                    message='Added a file!'))\n",
    "    # pagination\n",
    "    has_more = list_branches.pagination.has_more\n",
    "    after = list_branches.pagination.next_offset"
   ]
  },
  {
   "cell_type": "markdown",
   "id": "dc52914e-6ee2-4bf6-99b4-4e254ad38133",
   "metadata": {},
   "source": [
    "# Step 2 - Backup Metadata of Source Repository"
   ]
  },
  {
   "cell_type": "code",
   "execution_count": null,
   "id": "181b79ba-dc92-4a42-8881-498e7ac35e26",
   "metadata": {},
   "outputs": [],
   "source": [
    "dump_refs = sourceClient.refs.dump_refs(\n",
    "    repository=source_repo_name)\n",
    "\n",
    "print(dump_refs)"
   ]
  },
  {
   "cell_type": "markdown",
   "id": "e789b515-2333-4d45-879c-130afbd8ef85",
   "metadata": {},
   "source": [
    "# Step 3 - Copy Data from Source to Target"
   ]
  },
  {
   "cell_type": "code",
   "execution_count": null,
   "id": "571ceb64-2d63-4ced-87c1-f9aff067a562",
   "metadata": {},
   "outputs": [],
   "source": [
    "azureCopyCommand = \"azcopy copy '\" + source_storage_namespace + \"?\" + source_container_SAS_token + \"' '\" + target_storage_namespace + \"?\" + target_container_SAS_token + \"' --recursive\"\n",
    "print(azureCopyCommand)\n",
    "\n",
    "! $azureCopyCommand"
   ]
  },
  {
   "cell_type": "markdown",
   "id": "20314a68-533e-45f3-bd09-ac6be17a34cc",
   "metadata": {},
   "source": [
    "## Step 4 - Create Target Bare Repository"
   ]
  },
  {
   "cell_type": "code",
   "execution_count": null,
   "id": "29e91a48-6601-45d4-a8aa-6c5de808d208",
   "metadata": {},
   "outputs": [],
   "source": [
    "targetClient.repositories.create_repository(\n",
    "    repository_creation=models.RepositoryCreation(\n",
    "        name=target_repo_name,\n",
    "        storage_namespace=target_storage_namespace,\n",
    "        default_branch=source_main_branch),\n",
    "    bare=True)"
   ]
  },
  {
   "cell_type": "markdown",
   "id": "95570b12-b39d-41d7-852c-f09dc4b05bdf",
   "metadata": {},
   "source": [
    "## Step 5 - Restore Metadata to Target Repository"
   ]
  },
  {
   "cell_type": "code",
   "execution_count": null,
   "id": "cef6e90a-fd2d-42ff-b1ae-053a619ec560",
   "metadata": {},
   "outputs": [],
   "source": [
    "targetClient.refs.restore_refs(\n",
    "    repository=target_repo_name,\n",
    "    refs_dump=dump_refs)\n",
    "\n",
    "print('Repository migrated')"
   ]
  },
  {
   "cell_type": "markdown",
   "id": "99b1304e-e4db-4d08-9662-c8d4547c3269",
   "metadata": {},
   "source": [
    "## More Questions?\n",
    "\n",
    "###### Join the lakeFS Slack group - https://lakefs.io/slack"
   ]
  },
  {
   "cell_type": "code",
   "execution_count": null,
   "id": "dae0d3db-e675-4b7d-ad4f-67b9cad53583",
   "metadata": {},
   "outputs": [],
   "source": []
  }
 ],
 "metadata": {
  "kernelspec": {
   "display_name": "Python 3 (ipykernel)",
   "language": "python",
   "name": "python3"
  },
  "language_info": {
   "codemirror_mode": {
    "name": "ipython",
    "version": 3
   },
   "file_extension": ".py",
   "mimetype": "text/x-python",
   "name": "python",
   "nbconvert_exporter": "python",
   "pygments_lexer": "ipython3",
   "version": "3.10.4"
  }
 },
 "nbformat": 4,
 "nbformat_minor": 5
}
