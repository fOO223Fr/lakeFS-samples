{
 "cells": [
  {
   "cell_type": "code",
   "execution_count": 35,
   "metadata": {},
   "outputs": [],
   "source": [
    "def get_img_from_s3(bucket, key):\n",
    "    \n",
    "    bucket = s3_resource.Bucket(bucket)\n",
    "    file_stream = BytesIO()\n",
    "    bucket.Object(key).download_fileobj(file_stream)\n",
    "    np_1d_array = np.frombuffer(file_stream.getbuffer(), dtype=\"uint8\")\n",
    "    img = cv2.imdecode(np_1d_array, cv2.IMREAD_COLOR).copy()\n",
    "    \n",
    "    return resize_img(img)"
   ]
  },
  {
   "cell_type": "code",
   "execution_count": 36,
   "metadata": {},
   "outputs": [],
   "source": [
    "def get_category_list_from_s3(bucket, key, delimiter, n_cats):\n",
    "    \n",
    "    list_resp = s3_client.list_objects_v2(Bucket=bucket, \n",
    "                                          Prefix=key+\"/\",\n",
    "                                         Delimiter=delimiter)\n",
    "    print(\"List_resp\", list_resp)\n",
    "    \n",
    "    category_list = [ x['Prefix'] for x in list_resp['CommonPrefixes'][:n_cats]]\n",
    "    print(category_list)\n",
    "    \n",
    "    return category_list"
   ]
  },
  {
   "cell_type": "code",
   "execution_count": 37,
   "metadata": {},
   "outputs": [],
   "source": [
    "def get_images_and_labels(bucket, category_list, n_images):\n",
    "\n",
    "    img_list = []\n",
    "    labels_list = []\n",
    "    \n",
    "    for index, category in enumerate(category_list):\n",
    "        # breed = category.split(\"/\")[-2]\n",
    "        list_resp = s3_client.list_objects_v2(Bucket=bucket, Prefix=category)\n",
    "\n",
    "        for c in list_resp['Contents'][:n_images]:\n",
    "            key = c['Key']\n",
    "            img = get_img_from_s3(bucket, key)\n",
    "            label = index\n",
    "            \n",
    "            img_list.append(img)\n",
    "            labels_list.append(label)\n",
    "    \n",
    "    images = np.array(img_list)\n",
    "    labels = np.array(labels_list)\n",
    "\n",
    "    # print(\"Images shape = \",images.shape,\"\\nLabels shape = \",labels.shape)\n",
    "    # print(type(images),type(labels))\n",
    "    \n",
    "    return images, labels"
   ]
  },
  {
   "cell_type": "code",
   "execution_count": 38,
   "metadata": {},
   "outputs": [],
   "source": [
    "def load_training_data(params):\n",
    "    \n",
    "    category_list = get_category_list_from_s3(bucket=params['repo_name'],\n",
    "                                         key=params['image_path'],\n",
    "                                         delimiter=params['delimiter'],\n",
    "                                         n_cats=params['n_cats']\n",
    "                                         )\n",
    "    \n",
    "\n",
    "    images, labels = get_images_and_labels(bucket=repo_name,\n",
    "                                             category_list=category_list,\n",
    "                                             n_images=params['n_images'])\n",
    "    \n",
    "    return images, labels"
   ]
  },
  {
   "cell_type": "code",
   "execution_count": 39,
   "metadata": {},
   "outputs": [],
   "source": [
    "def model_load(model_name, bucket_name, key):\n",
    "    \n",
    "    key = f\"{key}/{model_name}\"\n",
    "    \n",
    "    # READ\n",
    "    with tempfile.TemporaryFile() as fp:\n",
    "        s3_client.download_fileobj(Fileobj=fp, Bucket=bucket_name, Key=key)\n",
    "        fp.seek(0)\n",
    "        model = joblib.load(fp)\n",
    "\n",
    "    # DELETE\n",
    "    # s3_client.delete_object(Bucket=bucket_name, Key=key)\n",
    "    \n",
    "    print(type(model))\n",
    "    \n",
    "    return model"
   ]
  },
  {
   "cell_type": "code",
   "execution_count": 40,
   "metadata": {},
   "outputs": [],
   "source": [
    "def model_save(model, model_name, bucket_name, key):\n",
    "    \n",
    "    joblib.dump(model, model_name)\n",
    "    \n",
    "    key = f\"{key}/{model_name}\"\n",
    "    print(model_name, bucket_name, key)\n",
    "\n",
    "    # WRITE\n",
    "    with tempfile.TemporaryFile() as fp:\n",
    "        joblib.dump(model, fp)\n",
    "        fp.seek(0)\n",
    "        s3_client.put_object(Body=fp.read(), Bucket=bucket_name, Key=key)\n",
    "\n",
    "    return"
   ]
  },
  {
   "cell_type": "code",
   "execution_count": 41,
   "metadata": {},
   "outputs": [],
   "source": [
    "def save_metrics(metrics, bucket_name, key):\n",
    "    \n",
    "    data = [(str(metrics['loss']), str(metrics['accuracy']))]\n",
    "\n",
    "    schema = StructType([ \\\n",
    "        StructField(\"loss\",StringType(),True), \\\n",
    "        StructField(\"accuracy\",StringType(),True) \\\n",
    "      ])\n",
    " \n",
    "    df = spark.createDataFrame(data=data,schema=schema)\n",
    "    df.printSchema()\n",
    "    df.show(truncate=False)\n",
    "    \n",
    "    path = f\"s3a://{bucket_name}/{key}\"\n",
    "    df.write.json(path)\n",
    "    return"
   ]
  },
  {
   "cell_type": "code",
   "execution_count": 42,
   "metadata": {},
   "outputs": [],
   "source": [
    "def load_metrics(bucket_name, key):\n",
    "    \n",
    "    path = f\"s3a://{bucket_name}/{key}\"\n",
    "    \n",
    "    df = spark.read.json(path)\n",
    "    metrics = df.collect()[0]\n",
    "    loss = metrics['loss']\n",
    "    accuracy = metrics['accuracy']\n",
    "    return loss, accuracy"
   ]
  }
 ],
 "metadata": {
  "kernelspec": {
   "display_name": "Python 3 (ipykernel)",
   "language": "python",
   "name": "python3"
  },
  "language_info": {
   "codemirror_mode": {
    "name": "ipython",
    "version": 3
   },
   "file_extension": ".py",
   "mimetype": "text/x-python",
   "name": "python",
   "nbconvert_exporter": "python",
   "pygments_lexer": "ipython3",
   "version": "3.10.10"
  },
  "orig_nbformat": 4
 },
 "nbformat": 4,
 "nbformat_minor": 2
}
