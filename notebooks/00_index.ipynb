{
 "cells": [
  {
   "cell_type": "markdown",
   "id": "8373c6cd-8dad-4706-a4d0-421906e774ee",
   "metadata": {},
   "source": [
    "<img src=\"./images/logo.svg\" alt=\"lakeFS logo\" width=300/> \n",
    "\n",
    "All of these notebooks can be run using the provided `docker-compose.yml` (unless otherwise specified)"
   ]
  },
  {
   "cell_type": "markdown",
   "id": "bec505c2-0b01-459a-bdc4-ad49b24830c9",
   "metadata": {},
   "source": [
    "## Sample Notebooks"
   ]
  },
  {
   "cell_type": "markdown",
   "id": "50388995-f6fc-45db-ad36-a7c4c9dac95d",
   "metadata": {},
   "source": [
    "||\n",
    "|-|\n",
    "| [**Creating Dev-Test environments with lakeFS branches**](./dev-test.ipynb) | \n",
    "| [**Data Lineage with lakeFS**](./data-lineage.ipynb) |\n",
    "| [**Displaying diff between Delta Tables**](./delta-diff.ipynb)<br/>See the [accompanying blog article](https://lakefs.io/blog/lakefs-supports-delta-lake-diff/).|\n",
    "| [**Reprocess and Backfill Data with new ETL logic**](./reprocess-backfill-data.ipynb) |\n",
    "| [**Integration of lakeFS with Spark and Python**](./spark_demo.ipynb) |\n",
    "| [**Integration of lakeFS with Delta Lake**](./delta-lake.ipynb) |\n",
    "| [**Import into a lakeFS repository from multiple paths**](./import-multiple-buckets.ipynb) |\n",
    "| [**RBAC demo**](./rbac-demo.ipynb) </br> _lakefS Cloud only_ |"
   ]
  },
  {
   "cell_type": "markdown",
   "id": "ddbc22de-db7e-4117-9a51-151aa493ae78",
   "metadata": {},
   "source": [
    "## Notebooks for Conference Talks"
   ]
  },
  {
   "cell_type": "markdown",
   "id": "ec710ef4-73eb-44ab-ad9e-4857545db867",
   "metadata": {},
   "source": [
    "||\n",
    "|-|\n",
    "| [**Chaos Engineering: Books Demo (Data + AI Summit 2022)**](./chaos-engineering_dais22.ipynb) |"
   ]
  },
  {
   "cell_type": "markdown",
   "id": "82b36558-40cd-46f8-b558-1bf5ae4dc7d6",
   "metadata": {},
   "source": [
    "## Write-Audit-Publish\n",
    "\n",
    "See https://lakefs.io/blog/data-engineering-patterns-write-audit-publish/"
   ]
  },
  {
   "cell_type": "markdown",
   "id": "1c75d922-9107-482e-a6d2-bad230465eeb",
   "metadata": {},
   "source": [
    "||\n",
    "|-|\n",
    "| [**Write-Audit-Publish / lakeFS**](write-audit-publish/wap-lakefs.ipynb) <br/> _With support for heterogeneous data formats and cross-collection consistency_|\n",
    "| [**Write-Audit-Publish / Apache Iceberg**](write-audit-publish/wap-iceberg.ipynb) |\n",
    "| [**Write-Audit-Publish / Delta Lake**](write-audit-publish/wap-delta.ipynb) |\n",
    "| [**Write-Audit-Publish / Apache Hudi**](write-audit-publish/wap-hudi.ipynb) |"
   ]
  },
  {
   "cell_type": "markdown",
   "id": "8e0db947-ff78-40b9-8e7c-a319c28ccf06",
   "metadata": {},
   "source": [
    "## lakeFS Quickstart"
   ]
  },
  {
   "cell_type": "markdown",
   "id": "27c62296-567e-417c-b6eb-45e31b10004b",
   "metadata": {
    "tags": []
   },
   "source": [
    "👉🏻 [⭐**lakeFS Quickstart**⭐](https://docs.lakefs.io/quickstart/)"
   ]
  },
  {
   "cell_type": "markdown",
   "id": "5ece18be-4650-44b2-9785-3facdec304a3",
   "metadata": {},
   "source": [
    "## Got Questions or Want to Chat?\n",
    "\n",
    "**👉🏻 Join the lakeFS Slack group - https://lakefs.io/slack**"
   ]
  }
 ],
 "metadata": {
  "kernelspec": {
   "display_name": "Python 3 (ipykernel)",
   "language": "python",
   "name": "python3"
  },
  "language_info": {
   "codemirror_mode": {
    "name": "ipython",
    "version": 3
   },
   "file_extension": ".py",
   "mimetype": "text/x-python",
   "name": "python",
   "nbconvert_exporter": "python",
   "pygments_lexer": "ipython3",
   "version": "3.10.10"
  }
 },
 "nbformat": 4,
 "nbformat_minor": 5
}
