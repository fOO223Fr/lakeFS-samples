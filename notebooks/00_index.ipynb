{
 "cells": [
  {
   "attachments": {},
   "cell_type": "markdown",
   "id": "8373c6cd-8dad-4706-a4d0-421906e774ee",
   "metadata": {},
   "source": [
    "<img src=\"./images/logo.svg\" alt=\"lakeFS logo\" width=300/> \n",
    "\n",
    "All of these notebooks can be run using the provided `docker-compose.yml` (unless otherwise specified)"
   ]
  },
  {
   "attachments": {},
   "cell_type": "markdown",
   "id": "bec505c2-0b01-459a-bdc4-ad49b24830c9",
   "metadata": {},
   "source": [
    "## Sample Notebooks"
   ]
  },
  {
   "attachments": {},
   "cell_type": "markdown",
   "id": "50388995-f6fc-45db-ad36-a7c4c9dac95d",
   "metadata": {},
   "source": [
    "* [**Integration of lakeFS with Spark and Python**](./spark-demo.ipynb) \n",
    "* [**Creating Dev-Test environments with lakeFS branches**](./dev-test.ipynb) \n",
    "* [**Data Lineage with lakeFS**](./data-lineage.ipynb) \n",
    "* [**Displaying diff between Delta Tables**](./delta-diff.ipynb)<br/>_See also the [accompanying blog](https://lakefs.io/blog/lakefs-supports-delta-lake-diff/)_\n",
    "* [**Only allow specific file formats in data lake**](hooks-demo.ipynb) (with lakeFS hooks)\n",
    "* [**Prevent unintended schema change**](hooks-schema-validation.ipynb) (with lakeFS hooks)\n",
    "* [**Avoid leaking PII data**](hooks-schema-and-pii-validation.ipynb) (shows how to use multiple hooks)\n",
    "* [**Import into a lakeFS repository from multiple paths**](./import-multiple-buckets.ipynb) \n",
    "* [**Integration of lakeFS with Delta Lake**](./delta-lake.ipynb) \n",
    "* [**ML Experimentation 02 (Wine Quality)**](./ml-experimentation-wine-quality-prediction.ipynb)</br>_See also the [accompanying blog](https://lakefs.io/blog/building-an-ml-experimentation-platform-for-easy-reproducibility-using-lakefs/)_\n",
    "* [**RBAC demo**](./rbac-demo.ipynb) </br> _lakefS Cloud only_ \n",
    "* [**Version Control of multi-buckets pipelines**](./version-control-of-multi-buckets-pipelines.ipynb) \n",
    "* [**Reprocess and Backfill Data with new ETL logic**](./reprocess-backfill-data.ipynb) "
   ]
  },
  {
   "attachments": {},
   "cell_type": "markdown",
   "id": "93ba5f85-ec96-4dc6-bc5c-f9313a658112",
   "metadata": {},
   "source": [
    "## Notebooks demonstrating the Write-Audit-Publish pattern\n",
    "\n",
    "See https://lakefs.io/blog/data-engineering-patterns-write-audit-publish/"
   ]
  },
  {
   "attachments": {},
   "cell_type": "markdown",
   "id": "305a0733-ee99-4d4f-8dcf-94b9e9dd9fd5",
   "metadata": {},
   "source": [
    "* [**Write-Audit-Publish / lakeFS**](write-audit-publish/wap-lakefs.ipynb) <br/> _With support for heterogeneous data formats and cross-collection consistency_\n",
    "* [**Write-Audit-Publish / Apache Iceberg**](write-audit-publish/wap-iceberg.ipynb)\n",
    "* [**Write-Audit-Publish / Project Nessie**](write-audit-publish/wap-nessie.ipynb)\n",
    "* [**Write-Audit-Publish / Delta Lake**](write-audit-publish/wap-delta.ipynb)\n",
    "* [**Write-Audit-Publish / Apache Hudi**](write-audit-publish/wap-hudi.ipynb)\n"
   ]
  },
  {
   "attachments": {},
   "cell_type": "markdown",
   "id": "ddbc22de-db7e-4117-9a51-151aa493ae78",
   "metadata": {},
   "source": [
    "## Notebooks for Demos and Conference Talks\n",
    "\n",
    "_These may have existing environment or data requirements; they're included here so that you can see the contents and be inspired by them—but they may not run properly._"
   ]
  },
  {
   "attachments": {},
   "cell_type": "markdown",
   "id": "ec710ef4-73eb-44ab-ad9e-4857545db867",
   "metadata": {},
   "source": [
    "* [**Chaos Engineering: Books Demo (Data + AI Summit 2022)**](./demos-and-talks/chaos-engineering_dais22.ipynb)\n",
    "* [**Delta Lake / lakeFS Multi-table transaction support**](./demos-and-talks/multi-table-transaction-consistency-deltalake-lakefs.ipynb)\n",
    "* [**ML Experimentation 01 (Dogs)**](./demos-and-talks/ml-reproducibility.ipynb)\n",
    "* [**lakeFS ❤️ Azure Synapse**](./demos-and-talks/lakeFSOnSynapse.ipynb)"
   ]
  },
  {
   "attachments": {},
   "cell_type": "markdown",
   "id": "c0de105e-2071-438c-b9fa-5ffe664d47ac",
   "metadata": {},
   "source": [
    "## Standalone demos\n",
    "\n",
    "These need to be run separately as they have dependencies that are not included in the base docker-compose.yml"
   ]
  },
  {
   "attachments": {},
   "cell_type": "markdown",
   "id": "34f482d7-e276-4c4c-b0aa-401371cde0aa",
   "metadata": {
    "tags": []
   },
   "source": [
    "* [**Airflow and lakeFS**](https://github.com/treeverse/lakeFS-samples/blob/main/standalone/airflow-dag-example)\n",
    "* [**How to migrate or clone a lakeFS repo**](https://github.com/treeverse/lakeFS-samples/blob/main/standalone/migrate-or-clone-repo/)\n",
    "* [**Labelbox Integration**](https://github.com/treeverse/lakeFS-samples/blob/main/standalone/labelbox-integration)\n",
    "* [**O'Reilly CI/CD for Data Lakes - lakeFS Course Challenge!**](https://github.com/treeverse/lakeFS-samples/blob/main/standalone/oreilly-cicd-data-lakes)\n",
    "* [**Dagster Integration**](https://github.com/treeverse/lakeFS-samples/blob/main/standalone/dagster-integration)"
   ]
  },
  {
   "attachments": {},
   "cell_type": "markdown",
   "id": "8e0db947-ff78-40b9-8e7c-a319c28ccf06",
   "metadata": {},
   "source": [
    "## lakeFS Quickstart"
   ]
  },
  {
   "attachments": {},
   "cell_type": "markdown",
   "id": "27c62296-567e-417c-b6eb-45e31b10004b",
   "metadata": {
    "tags": []
   },
   "source": [
    "* [⭐**lakeFS Quickstart**⭐](https://docs.lakefs.io/quickstart/)"
   ]
  },
  {
   "attachments": {},
   "cell_type": "markdown",
   "id": "5ece18be-4650-44b2-9785-3facdec304a3",
   "metadata": {},
   "source": [
    "## Got Questions or Want to Chat?\n",
    "\n",
    "**👉🏻 Join the lakeFS Slack group - https://lakefs.io/slack**"
   ]
  }
 ],
 "metadata": {
  "kernelspec": {
   "display_name": "Python 3 (ipykernel)",
   "language": "python",
   "name": "python3"
  },
  "language_info": {
   "codemirror_mode": {
    "name": "ipython",
    "version": 3
   },
   "file_extension": ".py",
   "mimetype": "text/x-python",
   "name": "python",
   "nbconvert_exporter": "python",
   "pygments_lexer": "ipython3",
   "version": "3.10.10"
  }
 },
 "nbformat": 4,
 "nbformat_minor": 5
}
