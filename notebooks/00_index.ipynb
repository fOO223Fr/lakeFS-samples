{
 "cells": [
  {
   "cell_type": "markdown",
   "id": "8373c6cd-8dad-4706-a4d0-421906e774ee",
   "metadata": {},
   "source": [
    "<img src=\"https://docs.lakefs.io/assets/logo.svg\" alt=\"lakeFS logo\" width=300/> \n",
    "\n",
    "# lakeFS Samples"
   ]
  },
  {
   "cell_type": "markdown",
   "id": "1c75d922-9107-482e-a6d2-bad230465eeb",
   "metadata": {},
   "source": [
    "||\n",
    "|-|\n",
    "| [**Creating Dev-Test environments with lakeFS branches**](./dev-test.ipynb) | \n",
    "| [**Integration of lakeFS with Spark and Python**](./dev-test.ipynb) |\n",
    "| [⭐**lakeFS Quickstart**⭐](https://docs.lakefs.io/quickstart/)|"
   ]
  },
  {
   "cell_type": "markdown",
   "id": "5ece18be-4650-44b2-9785-3facdec304a3",
   "metadata": {},
   "source": [
    "## Got Questions or Want to Chat?\n",
    "\n",
    "**👉🏻 Join the lakeFS Slack group - https://lakefs.io/slack**"
   ]
  }
 ],
 "metadata": {
  "kernelspec": {
   "display_name": "Python 3 (ipykernel)",
   "language": "python",
   "name": "python3"
  },
  "language_info": {
   "codemirror_mode": {
    "name": "ipython",
    "version": 3
   },
   "file_extension": ".py",
   "mimetype": "text/x-python",
   "name": "python",
   "nbconvert_exporter": "python",
   "pygments_lexer": "ipython3",
   "version": "3.10.10"
  }
 },
 "nbformat": 4,
 "nbformat_minor": 5
}
