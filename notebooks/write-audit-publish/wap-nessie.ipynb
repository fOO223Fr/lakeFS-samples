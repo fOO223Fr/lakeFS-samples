{
 "cells": [
  {
   "cell_type": "markdown",
   "id": "e8e13cd9",
   "metadata": {},
   "source": [
    "<img src=\"https://projectnessie.org/img/nessie.svg\" alt=\"lakeFS logo\" width=200/> "
   ]
  },
  {
   "cell_type": "markdown",
   "id": "78797e22",
   "metadata": {},
   "source": [
    "## Write-Audit-Publish (WAP) pattern with Nessie"
   ]
  },
  {
   "cell_type": "markdown",
   "id": "0f89a51c",
   "metadata": {},
   "source": [
    "Please see the accompanying blog series for more details: \n",
    "\n",
    "1. [Data Engineering Patterns: Write-Audit-Publish (WAP)](https://lakefs.io/blog/data-engineering-patterns-write-audit-publish)\n",
    "1. [How to Implement Write-Audit-Publish (WAP)](https://lakefs.io/blog/how-to-implement-write-audit-publish)\n",
    "1. [Putting the Write-Audit-Publish Pattern into Practice with lakeFS](https://lakefs.io/blog/write-audit-publish-with-lakefs/)\n",
    "\n",
    "[@rmoff](https://twitter.com/rmoff/) "
   ]
  },
  {
   "cell_type": "markdown",
   "id": "7d979dfe",
   "metadata": {},
   "source": [
    "# Setup & Initialisation"
   ]
  },
  {
   "cell_type": "code",
   "execution_count": null,
   "id": "45b87dc4",
   "metadata": {
    "jupyter": {
     "outputs_hidden": true
    },
    "tags": []
   },
   "outputs": [],
   "source": [
    "import sys\n",
    "!{sys.executable} -m pip install pynessie==0.30.0"
   ]
  },
  {
   "cell_type": "markdown",
   "id": "4e4e906a",
   "metadata": {},
   "source": [
    "## Set up Spark "
   ]
  },
  {
   "cell_type": "code",
   "execution_count": null,
   "id": "fbbb1ab3",
   "metadata": {
    "tags": []
   },
   "outputs": [],
   "source": [
    "import os\n",
    "from pyspark.sql import *\n",
    "from pyspark import SparkConf\n",
    "import pynessie\n",
    "\n",
    "conf = SparkConf()\n",
    "conf.set(\"spark.jars.packages\",\"org.apache.iceberg:iceberg-spark-runtime-3.3_2.12:1.2.0,org.projectnessie.nessie-integrations:nessie-spark-extensions-3.3_2.12:0.58.1\")\n",
    "conf.set(\"spark.sql.execution.pyarrow.enabled\", \"true\")\n",
    "conf.set(\"spark.sql.catalog.rmoff\", \"org.apache.iceberg.spark.SparkCatalog\")\n",
    "conf.set(\"spark.sql.catalog.rmoff.catalog-impl\", \"org.apache.iceberg.nessie.NessieCatalog\")\n",
    "conf.set(\"spark.sql.catalog.rmoff.warehouse\",  \"file://\" + os.getcwd() + \"/spark_warehouse/iceberg\")\n",
    "conf.set(\"spark.sql.catalog.rmoff.uri\", \"http://nessie:19120/api/v1\")\n",
    "conf.set(\"spark.sql.catalog.rmoff.ref\", \"main\")\n",
    "conf.set(\"spark.sql.extensions\",\"org.apache.iceberg.spark.extensions.IcebergSparkSessionExtensions,org.projectnessie.spark.extensions.NessieSparkSessionExtensions\")\n",
    "\n",
    "spark = SparkSession.builder.config(conf=conf).getOrCreate()\n",
    "print(\"Spark Running\")\n",
    "spark"
   ]
  },
  {
   "cell_type": "markdown",
   "id": "eceeaa9b",
   "metadata": {},
   "source": [
    "## Load test data"
   ]
  },
  {
   "cell_type": "code",
   "execution_count": null,
   "id": "ad496308",
   "metadata": {
    "tags": []
   },
   "outputs": [],
   "source": [
    "spark.read.option(\"inferSchema\",\"true\").option(\"multiline\",\"true\").json(\"/data/nyc_film_permits.json\").createOrReplaceTempView(\"permits_src\")"
   ]
  },
  {
   "cell_type": "code",
   "execution_count": null,
   "id": "8827299b",
   "metadata": {
    "tags": []
   },
   "outputs": [],
   "source": [
    "%%sql\n",
    "SELECT borough, count(*) permit_cnt\n",
    "FROM permits_src\n",
    "GROUP BY borough"
   ]
  },
  {
   "cell_type": "markdown",
   "id": "3114eec3",
   "metadata": {},
   "source": [
    "## Write test data to Iceberg files "
   ]
  },
  {
   "cell_type": "code",
   "execution_count": null,
   "id": "3143e7e1",
   "metadata": {
    "tags": []
   },
   "outputs": [],
   "source": [
    "%%sql \n",
    "\n",
    "CREATE TABLE rmoff.permits USING ICEBERG\n",
    "AS SELECT * FROM permits_src"
   ]
  },
  {
   "cell_type": "markdown",
   "id": "a0bc6fd3",
   "metadata": {},
   "source": [
    "#### Inspect Iceberg metadata"
   ]
  },
  {
   "cell_type": "code",
   "execution_count": null,
   "id": "df9f12ae",
   "metadata": {
    "tags": []
   },
   "outputs": [],
   "source": [
    "%sql SELECT * FROM rmoff.permits.files"
   ]
  },
  {
   "cell_type": "code",
   "execution_count": null,
   "id": "4a493930",
   "metadata": {
    "tags": []
   },
   "outputs": [],
   "source": [
    "%sql SELECT * FROM rmoff.permits.history"
   ]
  },
  {
   "cell_type": "code",
   "execution_count": null,
   "id": "13f312d0",
   "metadata": {
    "tags": []
   },
   "outputs": [],
   "source": [
    "%sql SELECT * FROM rmoff.permits.snapshots"
   ]
  },
  {
   "cell_type": "markdown",
   "id": "dd3c5e94",
   "metadata": {},
   "source": [
    "# The Setup"
   ]
  },
  {
   "cell_type": "markdown",
   "id": "c8ac1043",
   "metadata": {},
   "source": [
    "## Create Nessie branch "
   ]
  },
  {
   "cell_type": "code",
   "execution_count": null,
   "id": "6eb07626",
   "metadata": {
    "tags": []
   },
   "outputs": [],
   "source": [
    "branch='etl_job_42'"
   ]
  },
  {
   "cell_type": "code",
   "execution_count": null,
   "id": "8351cf07",
   "metadata": {
    "tags": []
   },
   "outputs": [],
   "source": [
    "%sql CREATE BRANCH {branch} IN rmoff FROM main"
   ]
  },
  {
   "cell_type": "markdown",
   "id": "3beacc72",
   "metadata": {},
   "source": [
    "### Use the new branch for reading and writing"
   ]
  },
  {
   "cell_type": "markdown",
   "id": "6f43a4af",
   "metadata": {},
   "source": [
    "#### Now change the `REFERENCE`"
   ]
  },
  {
   "cell_type": "code",
   "execution_count": null,
   "id": "3d230c6c",
   "metadata": {
    "tags": []
   },
   "outputs": [],
   "source": [
    "%sql USE REFERENCE {branch} IN rmoff"
   ]
  },
  {
   "cell_type": "markdown",
   "id": "f5ab667f",
   "metadata": {},
   "source": [
    "### Show list of references in Nessie"
   ]
  },
  {
   "cell_type": "code",
   "execution_count": null,
   "id": "a6ae4b95",
   "metadata": {
    "tags": []
   },
   "outputs": [],
   "source": [
    "%sql LIST REFERENCES IN rmoff"
   ]
  },
  {
   "cell_type": "markdown",
   "id": "886ac446",
   "metadata": {},
   "source": [
    "### Check that we still see the same data"
   ]
  },
  {
   "cell_type": "code",
   "execution_count": null,
   "id": "bfab197f",
   "metadata": {
    "tags": []
   },
   "outputs": [],
   "source": [
    "%sql SELECT borough, count(*) permit_cnt FROM rmoff.permits GROUP BY borough"
   ]
  },
  {
   "cell_type": "markdown",
   "id": "2ddc4ff7",
   "metadata": {},
   "source": [
    "# Write"
   ]
  },
  {
   "cell_type": "markdown",
   "id": "d88056be",
   "metadata": {},
   "source": [
    "Update the dataframe to remove rows matching predicate. "
   ]
  },
  {
   "cell_type": "code",
   "execution_count": null,
   "id": "82d21f90",
   "metadata": {
    "tags": []
   },
   "outputs": [],
   "source": [
    "%sql DELETE FROM rmoff.permits WHERE borough='Manhattan'"
   ]
  },
  {
   "cell_type": "markdown",
   "id": "3f6c3a04",
   "metadata": {},
   "source": [
    "## Inspecting the staged/unpublished data"
   ]
  },
  {
   "cell_type": "markdown",
   "id": "9c09de33",
   "metadata": {},
   "source": [
    "### Staged/unpublished data"
   ]
  },
  {
   "cell_type": "markdown",
   "id": "d73e5ba8",
   "metadata": {},
   "source": [
    "#### The changes are reflected in the table:"
   ]
  },
  {
   "cell_type": "code",
   "execution_count": null,
   "id": "cabb818c",
   "metadata": {
    "tags": []
   },
   "outputs": [],
   "source": [
    "%sql SELECT borough, count(*) permit_cnt FROM rmoff.permits GROUP BY borough"
   ]
  },
  {
   "cell_type": "markdown",
   "id": "60e26a26",
   "metadata": {},
   "source": [
    "### Published data"
   ]
  },
  {
   "cell_type": "markdown",
   "id": "9e5a4eb7",
   "metadata": {},
   "source": [
    "The data on the `main` branch remains unchanged. We can validate this by running a query against the data, specifying `main` as the branch using the `@<branch>` suffix:"
   ]
  },
  {
   "cell_type": "code",
   "execution_count": null,
   "id": "6fefa576",
   "metadata": {
    "tags": []
   },
   "outputs": [],
   "source": [
    "%sql SELECT borough, count(*) permit_cnt FROM rmoff.`permits@main` GROUP BY borough"
   ]
  },
  {
   "cell_type": "markdown",
   "id": "a58244fc",
   "metadata": {},
   "source": [
    "# Audit "
   ]
  },
  {
   "cell_type": "markdown",
   "id": "590d8ce7",
   "metadata": {},
   "source": [
    "At the moment the data is written to the audit branch (`etl_job_42`), but not published to `main`. \n",
    "\n",
    "How you audit the data is up to you. The nice thing about the data being staged is that you can do it within the same ETL job, or have another tool do it.\n",
    "\n",
    "Here's a very simple example of doing in Python. We're going to programatically check that only the four expected boroughs remain in the data.\n",
    "\n",
    "First, we define those that are expected:"
   ]
  },
  {
   "cell_type": "code",
   "execution_count": null,
   "id": "62d6b827",
   "metadata": {
    "tags": []
   },
   "outputs": [],
   "source": [
    "expected_boroughs = {\"Queens\", \"Brooklyn\", \"Bronx\", \"Staten Island\"}"
   ]
  },
  {
   "cell_type": "markdown",
   "id": "3c05b9a5",
   "metadata": {},
   "source": [
    "Then we get a set of the actual boroughs in the staged data"
   ]
  },
  {
   "cell_type": "code",
   "execution_count": null,
   "id": "77abc608",
   "metadata": {
    "tags": []
   },
   "outputs": [],
   "source": [
    "distinct_boroughs = spark.sql(\"SELECT DISTINCT borough FROM rmoff.permits\").toLocalIterator()\n",
    "boroughs = {row[0] for row in distinct_boroughs}"
   ]
  },
  {
   "cell_type": "markdown",
   "id": "81156579",
   "metadata": {},
   "source": [
    "Now we do two checks:\n",
    "\n",
    "1. Compare the length of the expected vs actual set\n",
    "2. Check that the two sets when unioned are still the same length. This is necessary, since the first test isn't sufficient alone"
   ]
  },
  {
   "cell_type": "code",
   "execution_count": null,
   "id": "c91668d4",
   "metadata": {
    "tags": []
   },
   "outputs": [],
   "source": [
    "if (   (len(boroughs)          != len(expected_boroughs)) \\\n",
    "      or (len(boroughs)          != len(set.union(boroughs, expected_boroughs))) \\\n",
    "      or (len(expected_boroughs) != len(set.union(boroughs, expected_boroughs)))):\n",
    "    raise ValueError(f\"Audit failed, borough set does not match expected boroughs: {boroughs} != {expected_boroughs}\")\n",
    "else:\n",
    "    print(f\"Audit has passed 🙌🏻\")"
   ]
  },
  {
   "cell_type": "markdown",
   "id": "d19526bb",
   "metadata": {},
   "source": [
    "# Publish"
   ]
  },
  {
   "cell_type": "markdown",
   "id": "6dc07949",
   "metadata": {},
   "source": [
    "Publishing data in Nessie means merging the audit branch back into `main`, making it available to anyone working with the data in that branch."
   ]
  },
  {
   "cell_type": "code",
   "execution_count": null,
   "id": "dd0375e9",
   "metadata": {
    "tags": []
   },
   "outputs": [],
   "source": [
    "%sql MERGE BRANCH {branch} INTO main IN rmoff"
   ]
  },
  {
   "cell_type": "markdown",
   "id": "d38524dd",
   "metadata": {},
   "source": [
    "## Inspecting the published data"
   ]
  },
  {
   "cell_type": "code",
   "execution_count": null,
   "id": "0c3dbf77",
   "metadata": {
    "tags": []
   },
   "outputs": [],
   "source": [
    "%sql SELECT borough, count(*) permit_cnt FROM rmoff.`permits@main` GROUP BY borough"
   ]
  },
  {
   "cell_type": "markdown",
   "id": "37af8102",
   "metadata": {},
   "source": [
    "You can also change the REFERENCE context back to `main` and query the table directly"
   ]
  },
  {
   "cell_type": "code",
   "execution_count": null,
   "id": "6b4fef6a",
   "metadata": {
    "tags": []
   },
   "outputs": [],
   "source": [
    "%sql USE REFERENCE main IN rmoff"
   ]
  },
  {
   "cell_type": "code",
   "execution_count": null,
   "id": "a735db09",
   "metadata": {
    "tags": []
   },
   "outputs": [],
   "source": [
    "%sql SELECT borough, count(*) permit_cnt FROM rmoff.permits GROUP BY borough"
   ]
  },
  {
   "cell_type": "markdown",
   "id": "7482b2db",
   "metadata": {},
   "source": [
    "# Where Next?"
   ]
  },
  {
   "cell_type": "markdown",
   "id": "814d43a5",
   "metadata": {},
   "source": [
    "* For more information about write-audit-publish see [this talk from Michelle Winters](https://www.youtube.com/watch?v=fXHdeBnpXrg&t=1001s) and [this talk from Sam Redai](https://www.dremio.com/wp-content/uploads/2022/05/Sam-Redai-The-Write-Audit-Publish-Pattern-via-Apache-Iceberg.pdf)."
   ]
  }
 ],
 "metadata": {
  "kernelspec": {
   "display_name": "Python 3 (ipykernel)",
   "language": "python",
   "name": "python3"
  },
  "language_info": {
   "codemirror_mode": {
    "name": "ipython",
    "version": 3
   },
   "file_extension": ".py",
   "mimetype": "text/x-python",
   "name": "python",
   "nbconvert_exporter": "python",
   "pygments_lexer": "ipython3",
   "version": "3.10.10"
  }
 },
 "nbformat": 4,
 "nbformat_minor": 5
}
