{
 "cells": [
  {
   "attachments": {},
   "cell_type": "markdown",
   "id": "9b2c8fa0-1702-411a-b11c-3190679bf31c",
   "metadata": {},
   "source": [
    "# Use Case: Reprocess and Backfill Data with new ETL logic"
   ]
  },
  {
   "attachments": {},
   "cell_type": "markdown",
   "id": "49c7cd60-8a5a-4f90-9f2b-527093844411",
   "metadata": {},
   "source": [
    "## Create branch"
   ]
  },
  {
   "cell_type": "code",
   "execution_count": null,
   "id": "cce638f4-f63e-45d4-a3b5-1dcf85ddf1bc",
   "metadata": {},
   "outputs": [],
   "source": [
    "lakefs.branches.create_branch(\n",
    "    repository=repo.id,\n",
    "    branch_creation=BranchCreation(\n",
    "        name=reprocessBranch,\n",
    "        source=mainBranch))\n",
    "\n",
    "print(\"🟩 Created \" + reprocessBranch + \" branch from main branch\")"
   ]
  },
  {
   "attachments": {},
   "cell_type": "markdown",
   "id": "36965b2e-4f15-48ad-b51b-98c70630f841",
   "metadata": {},
   "source": [
    "## Read data"
   ]
  },
  {
   "cell_type": "code",
   "execution_count": null,
   "id": "6ab7840b-0f94-4b78-9804-7dddcf0b9981",
   "metadata": {},
   "outputs": [],
   "source": [
    "print(\"\\n🟩 Reading data from \" + reprocessBranch + \" branch\")\n",
    "dataPath = f\"s3a://{repo.id}/{reprocessBranch}/{processedFileName}\"\n",
    "\n",
    "df = spark.read.format(\"csv\").schema(processedDataFileSchema).load(dataPath)\n",
    "df = df.drop(\"Total_Sales\")\n",
    "df = df.drop(\"Average_Sales_per_Product_Category\")\n",
    "df.show()"
   ]
  },
  {
   "attachments": {},
   "cell_type": "markdown",
   "id": "437b52d8-2399-403f-b024-9eb5fb8801ee",
   "metadata": {},
   "source": [
    "## Fix ETL logic"
   ]
  },
  {
   "cell_type": "code",
   "execution_count": null,
   "id": "ffc4601f-dd37-446a-bdda-ed6fb7938a9b",
   "metadata": {},
   "outputs": [],
   "source": [
    "print(\"🟩 Processed data with correct value for Average field\")\n",
    "\n",
    "# Calculate total\n",
    "df = df.withColumn('Total_Sales', df.Apparel_Sales + df.Books_Sales + df.Electronics_Sales + df.Furniture_Sales + df.Toys_Sales)\n",
    "# Calculate average but average calculation is wrong (divided by 4 instead of 5)\n",
    "df = df.withColumn('Average_Sales_per_Product_Category', (df.Total_Sales)/5)\n",
    "df.cache()\n",
    "df.show()"
   ]
  },
  {
   "attachments": {},
   "cell_type": "markdown",
   "id": "4cff360f-69c6-4abc-9454-addae4a07a44",
   "metadata": {},
   "source": [
    "## Overwrite processed data"
   ]
  },
  {
   "cell_type": "code",
   "execution_count": null,
   "id": "91c2ee19-77c8-4bb6-acba-8dc0518810ea",
   "metadata": {},
   "outputs": [],
   "source": [
    "newDataPath = f\"s3a://{repo.id}/{reprocessBranch}/{processedFileName}\"\n",
    "\n",
    "df.write.format(\"csv\").mode(\"overwrite\").save(newDataPath)\n",
    "\n",
    "print(\"🟩 Overwrote processed data to \" + reprocessBranch + \" branch\")"
   ]
  },
  {
   "attachments": {},
   "cell_type": "markdown",
   "id": "b2faa4ae-b2e4-47ab-b51f-b61d9ed4d846",
   "metadata": {},
   "source": [
    "## Commit changes and attach new Git code URL"
   ]
  },
  {
   "cell_type": "code",
   "execution_count": null,
   "id": "9817772e-0e3c-40c1-8a99-cf2da42ede71",
   "metadata": {},
   "outputs": [],
   "source": [
    "gitURL = 'https://github.com/treeverse/lakeFS-samples/blob/main/03-apache-spark-python-demo/Airflow/etl_task2_1.py'\n",
    "lakefs.commits.commit(\n",
    "    repository=repo.id,\n",
    "    branch=reprocessBranch,\n",
    "    commit_creation=CommitCreation(\n",
    "        message='Fixed ETL job',\n",
    "        metadata={'Git URL': gitURL}))\n",
    "\n",
    "print(\"\\n🟩 Committed \" + reprocessBranch + \" branch and added Git URL for the new ETL logic as a metadata\")\n",
    "print(\"Example Git URL: \" + gitURL)"
   ]
  },
  {
   "attachments": {},
   "cell_type": "markdown",
   "id": "6fc7c991-05e9-4adb-a071-c8e43f6181d7",
   "metadata": {},
   "source": [
    "## Diff between the reprocess branch and the main branch"
   ]
  },
  {
   "cell_type": "code",
   "execution_count": null,
   "id": "08216aa6-c39e-46a8-aaac-d1e2a0f89d79",
   "metadata": {},
   "outputs": [],
   "source": [
    "print(\"\\n🟩 Diff between \" + reprocessBranch + \" branch and the main branch\")\n",
    "\n",
    "results = map(\n",
    "    lambda n:[n.path,n.path_type,n.size_bytes,n.type],\n",
    "    lakefs.refs.diff_refs(\n",
    "        repository=repo.id,\n",
    "        left_ref=mainBranch,\n",
    "        right_ref=reprocessBranch).results)\n",
    "\n",
    "from tabulate import tabulate\n",
    "print(tabulate(\n",
    "    results,\n",
    "    headers=['Path','Path Type','Size(Bytes)','Type']))\n",
    "\n",
    "print(\"\\n🟩 🟩 Process finished 🟩 🟩\")"
   ]
  },
  {
   "cell_type": "code",
   "execution_count": null,
   "id": "e74fc3f9-6339-4a39-bd9e-d6badcd9e958",
   "metadata": {},
   "outputs": [],
   "source": []
  }
 ],
 "metadata": {
  "kernelspec": {
   "display_name": "Python 3 (ipykernel)",
   "language": "python",
   "name": "python3"
  },
  "language_info": {
   "codemirror_mode": {
    "name": "ipython",
    "version": 3
   },
   "file_extension": ".py",
   "mimetype": "text/x-python",
   "name": "python",
   "nbconvert_exporter": "python",
   "pygments_lexer": "ipython3",
   "version": "3.10.4"
  }
 },
 "nbformat": 4,
 "nbformat_minor": 5
}
