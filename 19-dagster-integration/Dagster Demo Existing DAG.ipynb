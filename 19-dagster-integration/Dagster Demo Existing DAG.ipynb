{
 "cells": [
  {
   "cell_type": "markdown",
   "id": "5dca6366-4919-422b-80df-b064c912f7cc",
   "metadata": {},
   "source": [
    "# Integration of lakeFS with Dagster\n",
    "\n",
    "## Use Case: Isolating Dagster job run and atomic promotion to production"
   ]
  },
  {
   "cell_type": "markdown",
   "id": "4fd17299-c6c0-4cad-b3aa-6d1cc9ccee0c",
   "metadata": {},
   "source": [
    "## Prerequisites\n",
    "\n",
    "###### This Notebook requires connecting to a lakeFS Server.\n",
    "###### To spin up lakeFS quickly - use the Playground (https://demo.lakefs.io) which provides lakeFS server on-demand with a single click;\n",
    "###### Or, alternatively, refer to lakeFS Quickstart doc (https://docs.lakefs.io/quickstart/installing.html)."
   ]
  },
  {
   "cell_type": "markdown",
   "id": "a4684d64-8ec4-404e-b8de-c3b9f962338e",
   "metadata": {},
   "source": [
    "## Setup Task: Change your lakeFS credentials"
   ]
  },
  {
   "cell_type": "code",
   "execution_count": null,
   "id": "baa44b9e-2f32-4325-ba78-f679c6409107",
   "metadata": {},
   "outputs": [],
   "source": [
    "lakefsEndPoint = '<lakeFS Endpoint URL>' # e.g. 'https://username.aws_region_name.lakefscloud.io'\n",
    "lakefsAccessKey = '<lakeFS Access Key>'\n",
    "lakefsSecretKey = '<lakeFS Secret Key>'"
   ]
  },
  {
   "cell_type": "markdown",
   "id": "290db5bf-307f-4cbd-8938-8dda01104c71",
   "metadata": {},
   "source": [
    "## Setup Task: You can change lakeFS repo name (it can be an existing repo or provide another repo name)"
   ]
  },
  {
   "cell_type": "code",
   "execution_count": null,
   "id": "6ef219a0-f8a6-46c8-b60c-e82ec162ece6",
   "metadata": {},
   "outputs": [],
   "source": [
    "repo = \"dagster-existing-dag-repo\""
   ]
  },
  {
   "cell_type": "markdown",
   "id": "991031b2-6f54-4c09-8f31-9a02d72a536e",
   "metadata": {},
   "source": [
    "## Setup Task: Versioning Information"
   ]
  },
  {
   "cell_type": "code",
   "execution_count": null,
   "id": "61bcf856-75c0-4feb-9c0f-e9bf6f3f5201",
   "metadata": {},
   "outputs": [],
   "source": [
    "sourceBranch = \"main\"\n",
    "newBranch = \"dagster_demo_existing_dag\""
   ]
  },
  {
   "cell_type": "markdown",
   "id": "2ba1f48c-7ee1-4523-9c4f-e43caed2e3b3",
   "metadata": {},
   "source": [
    "## Setup Task: Storage Information\n",
    "#### Change the Storage Namespace to a location in the bucket you’ve configured. The storage namespace is a location in the underlying storage where data for this repository will be stored."
   ]
  },
  {
   "cell_type": "code",
   "execution_count": null,
   "id": "2c21feaf-e597-4bdd-ad1d-d34cc0e4317b",
   "metadata": {},
   "outputs": [],
   "source": [
    "storageNamespace = 's3://<S3 Bucket Name>/' # e.g. \"s3://username-lakefs-cloud/\""
   ]
  },
  {
   "cell_type": "markdown",
   "id": "4578cea3-8e3f-4f21-bc71-9d2bc044f6ea",
   "metadata": {},
   "source": [
    "## Setup Task: Import Python packages"
   ]
  },
  {
   "cell_type": "code",
   "execution_count": null,
   "id": "6bade844-ca7b-47d5-a571-9b1f46c18d2a",
   "metadata": {},
   "outputs": [],
   "source": [
    "from dagster import execute_job, RunConfig\n",
    "from jobs.Existing_DAG.lakefs_wrapper_dag import lakefs_wrapper_dag, LakeFSOpConfig"
   ]
  },
  {
   "cell_type": "markdown",
   "id": "d78b0abd-fad0-4825-94a7-be9681a65eae",
   "metadata": {},
   "source": [
    "## Setup Task: Set environment variables"
   ]
  },
  {
   "cell_type": "code",
   "execution_count": null,
   "id": "4b6355ad-8bc8-4a83-9394-5c86144d5320",
   "metadata": {},
   "outputs": [],
   "source": [
    "import os\n",
    "os.environ[\"LAKEFS_ENDPOINT\"] = lakefsEndPoint\n",
    "os.environ[\"LAKEFS_CREDENTIALS_ACCESS_KEY_ID\"] = lakefsAccessKey\n",
    "os.environ[\"LAKEFS_CREDENTIALS_SECRET_ACCESS_KEY\"] = lakefsSecretKey"
   ]
  },
  {
   "cell_type": "markdown",
   "id": "5c3d7178-31c6-4be4-a7d5-7d774f08f3d1",
   "metadata": {},
   "source": [
    "## Working with the lakeFS Python client API\n",
    "\n",
    "###### Note: To learn more about lakeFS Python integration visit https://docs.lakefs.io/integrations/python.html"
   ]
  },
  {
   "cell_type": "code",
   "execution_count": null,
   "id": "bebe3e09-395f-4eab-b4c1-123f74063581",
   "metadata": {},
   "outputs": [],
   "source": [
    "%xmode Minimal\n",
    "if not 'client' in locals():\n",
    "    import lakefs_client\n",
    "    from lakefs_client import models\n",
    "    from lakefs_client.client import LakeFSClient\n",
    "\n",
    "    # lakeFS credentials and endpoint\n",
    "    configuration = lakefs_client.Configuration()\n",
    "    configuration.username = lakefsAccessKey\n",
    "    configuration.password = lakefsSecretKey\n",
    "    configuration.host = lakefsEndPoint\n",
    "\n",
    "    client = LakeFSClient(configuration)\n",
    "    print(\"Created lakeFS client.\")"
   ]
  },
  {
   "cell_type": "markdown",
   "id": "bb1b6e97-e7dd-4eec-8c90-fb38330965cf",
   "metadata": {},
   "source": [
    "## Create Repository - Optional if repository exists"
   ]
  },
  {
   "cell_type": "code",
   "execution_count": null,
   "id": "18a2b7ef-e8ca-4dfe-97a7-234f713b9d17",
   "metadata": {},
   "outputs": [],
   "source": [
    "client.repositories.create_repository(\n",
    "    repository_creation=models.RepositoryCreation(\n",
    "        name=repo,\n",
    "        storage_namespace=storageNamespace,\n",
    "        default_branch=sourceBranch))"
   ]
  },
  {
   "cell_type": "markdown",
   "id": "dbd7a439-59fc-46b3-b634-b564c0bca692",
   "metadata": {},
   "source": [
    "## You can review [lakeFS Wrapper DAG](./jobs/Existing_DAG/lakefs_wrapper_dag.py) and [Dagster ETL DAG](./jobs/Existing_DAG/lakefs_tutorial_taskflow_api_etl.py) programs."
   ]
  },
  {
   "cell_type": "markdown",
   "id": "4c2141af-0751-4979-b68b-0e76a3402167",
   "metadata": {},
   "source": [
    "## Execute lakeFS Wrapper DAG"
   ]
  },
  {
   "cell_type": "code",
   "execution_count": null,
   "id": "7c8a920d-2791-487a-b344-37cba65f2d7b",
   "metadata": {},
   "outputs": [],
   "source": [
    "job_result = lakefs_wrapper_dag.execute_in_process(\n",
    "    run_config=RunConfig(\n",
    "        {\n",
    "            \"create_etl_branch\": LakeFSOpConfig(repo=repo, sourceBranch=sourceBranch, newBranch=newBranch),\n",
    "            \"trigger_existing_dag\": LakeFSOpConfig(repo=repo, sourceBranch=sourceBranch, newBranch=newBranch),\n",
    "            \"commit_etl_branch\": LakeFSOpConfig(repo=repo, sourceBranch=sourceBranch, newBranch=newBranch),\n",
    "            \"merge_etl_branch\": LakeFSOpConfig(repo=repo, sourceBranch=sourceBranch, newBranch=newBranch),\n",
    "        }\n",
    "    )\n",
    ")"
   ]
  },
  {
   "cell_type": "markdown",
   "id": "e157012c-f7ea-4808-be52-86eb68610a9a",
   "metadata": {},
   "source": [
    "## More Questions?\n",
    "\n",
    "###### Join the lakeFS Slack group - https://lakefs.io/slack"
   ]
  },
  {
   "cell_type": "code",
   "execution_count": null,
   "id": "cfb4a3db-e63d-4b73-b253-65cbba440971",
   "metadata": {},
   "outputs": [],
   "source": []
  }
 ],
 "metadata": {
  "kernelspec": {
   "display_name": "Python 3 (ipykernel)",
   "language": "python",
   "name": "python3"
  },
  "language_info": {
   "codemirror_mode": {
    "name": "ipython",
    "version": 3
   },
   "file_extension": ".py",
   "mimetype": "text/x-python",
   "name": "python",
   "nbconvert_exporter": "python",
   "pygments_lexer": "ipython3",
   "version": "3.10.4"
  }
 },
 "nbformat": 4,
 "nbformat_minor": 5
}
