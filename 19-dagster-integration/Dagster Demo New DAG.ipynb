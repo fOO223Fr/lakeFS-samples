{
 "cells": [
  {
   "cell_type": "markdown",
   "id": "5dca6366-4919-422b-80df-b064c912f7cc",
   "metadata": {},
   "source": [
    "# Integration of lakeFS with Dagster\n",
    "\n",
    "## Use Case: Troubleshooting production issues"
   ]
  },
  {
   "cell_type": "markdown",
   "id": "4fd17299-c6c0-4cad-b3aa-6d1cc9ccee0c",
   "metadata": {},
   "source": [
    "## Prerequisites\n",
    "\n",
    "###### This Notebook requires connecting to a lakeFS Server.\n",
    "###### You can either install lakeFS Server locally(https://docs.lakefs.io/quickstart.html), or spin up for free on the lakeFS cloud (https://lakefs.cloud)."
   ]
  },
  {
   "cell_type": "markdown",
   "id": "a4684d64-8ec4-404e-b8de-c3b9f962338e",
   "metadata": {},
   "source": [
    "## Setup Task: Change your lakeFS credentials"
   ]
  },
  {
   "cell_type": "code",
   "execution_count": null,
   "id": "baa44b9e-2f32-4325-ba78-f679c6409107",
   "metadata": {},
   "outputs": [],
   "source": [
    "lakefsEndPoint = '<lakeFS Endpoint URL>' # e.g. 'https://username.aws_region_name.lakefscloud.io'\n",
    "lakefsAccessKey = '<lakeFS Access Key>'\n",
    "lakefsSecretKey = '<lakeFS Secret Key>'"
   ]
  },
  {
   "cell_type": "markdown",
   "id": "290db5bf-307f-4cbd-8938-8dda01104c71",
   "metadata": {},
   "source": [
    "## Setup Task: You can change lakeFS repo name (it can be an existing repo or provide another repo name)"
   ]
  },
  {
   "cell_type": "code",
   "execution_count": null,
   "id": "6ef219a0-f8a6-46c8-b60c-e82ec162ece6",
   "metadata": {},
   "outputs": [],
   "source": [
    "repo_name = \"dagster-new-dag-repo\""
   ]
  },
  {
   "cell_type": "markdown",
   "id": "2ba1f48c-7ee1-4523-9c4f-e43caed2e3b3",
   "metadata": {},
   "source": [
    "## Setup Task: Storage Information\n",
    "#### Change the Storage Namespace to a location in the bucket you’ve configured. The storage namespace is a location in the underlying storage where data for this repository will be stored."
   ]
  },
  {
   "cell_type": "code",
   "execution_count": null,
   "id": "2c21feaf-e597-4bdd-ad1d-d34cc0e4317b",
   "metadata": {},
   "outputs": [],
   "source": [
    "storageNamespace = 's3://<S3 Bucket Name>/' # e.g. \"s3://username-lakefs-cloud/\""
   ]
  },
  {
   "cell_type": "markdown",
   "id": "5fea3d03-8553-498f-b632-d94cd83869b3",
   "metadata": {},
   "source": [
    "## Setup Task: Run additional [Setup](./jobs/New_DAG/NewDAGSetup.ipynb) tasks here"
   ]
  },
  {
   "cell_type": "code",
   "execution_count": null,
   "id": "d65a34b1-9d2d-42d6-ad82-f9d8d8b14863",
   "metadata": {},
   "outputs": [],
   "source": [
    "%run ./jobs/New_DAG/NewDAGSetup.ipynb"
   ]
  },
  {
   "cell_type": "markdown",
   "id": "dbd7a439-59fc-46b3-b634-b564c0bca692",
   "metadata": {},
   "source": [
    "## You can review [lakeFS New DAG](./jobs/New_DAG/lakefs_new_dag.py) program"
   ]
  },
  {
   "cell_type": "markdown",
   "id": "4c2141af-0751-4979-b68b-0e76a3402167",
   "metadata": {},
   "source": [
    "## Launch and run lakeFS New DAG (it will take around 30 seconds to run the DAG)\n",
    "#### Click on any URLs generated in the output log. These URLs will take you to applicable branch/commit/data file in lakeFS. You will also find these URLs in the Dagster logs."
   ]
  },
  {
   "cell_type": "code",
   "execution_count": null,
   "id": "daf5c288-14fd-4a8d-8f05-c9e7dbc405a1",
   "metadata": {},
   "outputs": [],
   "source": [
    "date_time = datetime.datetime.now()\n",
    "newBranchTS = newBranch + date_time.strftime(\"_%Y%m%dT%H%M%S\")\n",
    "\n",
    "launchRunCommand = 'dagster job launch -f ./jobs/New_DAG/lakefs_new_dag.py --job lakefs_new_dag \\\n",
    "--config-json \\'{\"resources\": {\"variables\": {\"config\": {\"repo\": \"' + repo_name + '\", \"sourceBranch\": \"' + \\\n",
    "sourceBranch + '\", \"newBranch\": \"' + newBranchTS + '\", \"newPath\": \"' + newPath + '\", \"fileName\": \"' + fileName + '\"}}}}\\' \\\n",
    "--run-id ' + newBranchTS\n",
    "\n",
    "!! $launchRunCommand"
   ]
  },
  {
   "cell_type": "markdown",
   "id": "34ac4c2b-aecf-4789-8602-496a13b0b37f",
   "metadata": {},
   "source": [
    "## Run following cell to generate the Dagit UI URL"
   ]
  },
  {
   "cell_type": "code",
   "execution_count": null,
   "id": "a7bbe680-66b8-479d-9cca-41827c235aa2",
   "metadata": {},
   "outputs": [],
   "source": [
    "from IPython.display import Markdown as md\n",
    "\n",
    "md(\"Click [here to visualize lakeFS New DAG Graph](http://127.0.0.1:3000/runs/%s) in Dagit UI\"%(newBranchTS))"
   ]
  },
  {
   "cell_type": "markdown",
   "id": "0e454fd3-df2c-4da8-8c77-ecfbc23ac8fc",
   "metadata": {},
   "source": [
    "## Now use the latest or new file. This file has bad data, and it will cause DAG to fail."
   ]
  },
  {
   "cell_type": "code",
   "execution_count": null,
   "id": "0d915e65-fce4-473a-b151-eba6fd6c0dec",
   "metadata": {},
   "outputs": [],
   "source": [
    "fileName = \"lakefs_test_latest_file.csv\""
   ]
  },
  {
   "cell_type": "markdown",
   "id": "2824ba87-c923-4739-824c-864d136ebb35",
   "metadata": {},
   "source": [
    "## Launch and run lakeFS New DAG again by using the latest file\n",
    "\n",
    "#### Operation \"etl_task3\" will fail in this case. You will notice following exception:\n",
    "#### \"Column _c4 not found in schema struct<_c0:string,_c1:string,_c2:string,_c3:string>\"\n",
    "\n",
    "#### This exception happens because column \"_c4\" (or 5th column) is missing in the latest file."
   ]
  },
  {
   "cell_type": "code",
   "execution_count": null,
   "id": "af91bc12-84f7-4585-83a7-d82ff5e0962e",
   "metadata": {},
   "outputs": [],
   "source": [
    "date_time = datetime.datetime.now()\n",
    "newBranchTSLatest = newBranch + date_time.strftime(\"_%Y%m%dT%H%M%S\")\n",
    "\n",
    "launchRunCommand = 'dagster job launch -f ./jobs/New_DAG/lakefs_new_dag.py --job lakefs_new_dag \\\n",
    "--config-json \\'{\"resources\": {\"variables\": {\"config\": {\"repo\": \"' + repo_name + '\", \"sourceBranch\": \"' + \\\n",
    "sourceBranch + '\", \"newBranch\": \"' + newBranchTSLatest + '\", \"newPath\": \"' + newPath + '\", \"fileName\": \"' + fileName + '\"}}}}\\' \\\n",
    "--run-id ' + newBranchTSLatest\n",
    "\n",
    "!! $launchRunCommand"
   ]
  },
  {
   "cell_type": "markdown",
   "id": "0584d743-de2f-4d5e-8c3a-07aa81f2a0e7",
   "metadata": {},
   "source": [
    "## Run following cell to generate the Dagit UI URL"
   ]
  },
  {
   "cell_type": "code",
   "execution_count": null,
   "id": "bf3ff15b-5010-47be-88fa-f7f3aa167670",
   "metadata": {},
   "outputs": [],
   "source": [
    "from IPython.display import Markdown as md\n",
    "\n",
    "md(\"Click [here to visualize lakeFS New DAG Graph](http://127.0.0.1:3000/runs/%s) in Dagit UI\"%(newBranchTSLatest))"
   ]
  },
  {
   "cell_type": "markdown",
   "id": "e157012c-f7ea-4808-be52-86eb68610a9a",
   "metadata": {},
   "source": [
    "## More Questions?\n",
    "\n",
    "###### Join the lakeFS Slack group - https://lakefs.io/slack"
   ]
  },
  {
   "cell_type": "code",
   "execution_count": null,
   "id": "cfb4a3db-e63d-4b73-b253-65cbba440971",
   "metadata": {},
   "outputs": [],
   "source": []
  }
 ],
 "metadata": {
  "kernelspec": {
   "display_name": "Python 3 (ipykernel)",
   "language": "python",
   "name": "python3"
  },
  "language_info": {
   "codemirror_mode": {
    "name": "ipython",
    "version": 3
   },
   "file_extension": ".py",
   "mimetype": "text/x-python",
   "name": "python",
   "nbconvert_exporter": "python",
   "pygments_lexer": "ipython3",
   "version": "3.10.4"
  }
 },
 "nbformat": 4,
 "nbformat_minor": 5
}
