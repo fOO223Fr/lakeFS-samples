{
 "cells": [
  {
   "cell_type": "markdown",
   "id": "9b2c8fa0-1702-411a-b11c-3190679bf31c",
   "metadata": {},
   "source": [
    "# Use Case: Reprocess and Backfill Data with new ETL logic"
   ]
  },
  {
   "cell_type": "markdown",
   "id": "cb064efa-724c-46a1-843e-44c2c6e98741",
   "metadata": {},
   "source": [
    "## Create Ingestion Branch"
   ]
  },
  {
   "cell_type": "code",
   "execution_count": null,
   "id": "c5d956a4-f31b-4123-bb07-f5e42c254edc",
   "metadata": {},
   "outputs": [],
   "source": [
    "branch_date_time = datetime.datetime.now().strftime(\"_%Y-%m-%d_%H-%M-%S\")\n",
    "latestIngestBranch = ingestBranch + branch_date_time\n",
    "\n",
    "branchIngest = repo.branch(latestIngestBranch).create(source_reference=mainBranch, exist_ok=True)\n",
    "\n",
    "print(\"🟩 Created ingestion branch: \" + latestIngestBranch)"
   ]
  },
  {
   "cell_type": "markdown",
   "id": "70239947-a305-4f3a-a275-c9a528bafce6",
   "metadata": {},
   "source": [
    "## Ingest data file"
   ]
  },
  {
   "cell_type": "code",
   "execution_count": null,
   "id": "d2c1d011-b1ae-444b-88da-bf79f5eb00b8",
   "metadata": {},
   "outputs": [],
   "source": [
    "contentToUpload = open(f\"/data/{fileName}\", 'r').read()\n",
    "branchIngest.object(fileName).upload(data=contentToUpload, mode='wb', pre_sign=False)\n",
    "\n",
    "print(\"🟩 Ingested data file: \" + fileName)"
   ]
  },
  {
   "cell_type": "markdown",
   "id": "ddd6f1a5-16f3-4954-b18e-294df65a0cc0",
   "metadata": {},
   "source": [
    "## Read data"
   ]
  },
  {
   "cell_type": "code",
   "execution_count": null,
   "id": "562dce4b-59b4-460d-9414-753980fbd944",
   "metadata": {},
   "outputs": [],
   "source": [
    "print(\"\\n🟩 Reading data from ingestion branch\")\n",
    "dataPath = f\"s3a://{repo.id}/{latestIngestBranch}/{fileName}\"\n",
    "\n",
    "df = spark.read.format(\"csv\").schema(dataFileSchema).load(dataPath)\n",
    "df.show()"
   ]
  },
  {
   "cell_type": "markdown",
   "id": "03340ab0-b598-40a8-bd46-3c5fff47c017",
   "metadata": {},
   "source": [
    "## ETL Logic\n",
    "\n",
    "### Calculate average but average calculation is wrong (divided by 4 instead of 5)"
   ]
  },
  {
   "cell_type": "code",
   "execution_count": null,
   "id": "b670d469-77cd-4868-a39b-03fcc13a1531",
   "metadata": {},
   "outputs": [],
   "source": [
    "print(\"🟩 Processed data with wrong value for Average field. Average value is Total divided 4 instead of dividing by 5\")\n",
    "\n",
    "# Calculate total\n",
    "df = df.withColumn('Total_Sales', df.Apparel_Sales + df.Books_Sales + df.Electronics_Sales + df.Furniture_Sales + df.Toys_Sales)\n",
    "# Calculate average but average calculation is wrong (divided by 4 instead of 5)\n",
    "df = df.withColumn('Average_Sales_per_Product_Category', (df.Total_Sales)/4)\n",
    "df.show()"
   ]
  },
  {
   "cell_type": "markdown",
   "id": "ece286cc-7527-4cca-94a3-197566f9b044",
   "metadata": {},
   "source": [
    "## Append processed data"
   ]
  },
  {
   "cell_type": "code",
   "execution_count": null,
   "id": "b11c25a1-49ce-41c3-9be5-8025e85c5924",
   "metadata": {},
   "outputs": [],
   "source": [
    "newDataPath = f\"s3a://{repo.id}/{latestIngestBranch}/{processedFileName}\"\n",
    "\n",
    "df.write.format(\"csv\").mode(\"append\").save(newDataPath)\n",
    "print(\"🟩 Appended processed data to ingestion branch\")"
   ]
  },
  {
   "cell_type": "markdown",
   "id": "ed1629fe-2b8d-442b-bb42-9a9e1779875e",
   "metadata": {},
   "source": [
    "## Commit changes and attach Git code URL"
   ]
  },
  {
   "cell_type": "code",
   "execution_count": null,
   "id": "87b1708e-7d0a-413c-85c9-d5266cde2e20",
   "metadata": {},
   "outputs": [],
   "source": [
    "gitURL = 'https://github.com/treeverse/lakeFS-samples/blob/main/01_standalone_examples/airflow-01/airflow/New_DAG/etl_task1.py'\n",
    "branchIngest.commit(message='Committed by ETL job',\n",
    "    metadata={'Git URL': gitURL})\n",
    "\n",
    "print(\"\\n🟩 Committed ingestion branch and added Git URL for the ETL logic as a metadata\")\n",
    "print(\"Example Git URL: \" + gitURL)"
   ]
  },
  {
   "cell_type": "markdown",
   "id": "c1f3b0f2-2550-4a51-910d-96901a983a4c",
   "metadata": {},
   "source": [
    "## Merge ingest branch to main branch"
   ]
  },
  {
   "cell_type": "code",
   "execution_count": null,
   "id": "6901307e-1513-4133-a365-aa6cc292e377",
   "metadata": {},
   "outputs": [],
   "source": [
    "branchIngest.merge_into(branchMain)\n",
    "\n",
    "print(\"\\n🟩 Merged ingestion branch to main branch\")\n",
    "print(\"\\n🟩 🟩 ETL job finished 🟩 🟩 \")"
   ]
  },
  {
   "cell_type": "code",
   "execution_count": null,
   "id": "e74fc3f9-6339-4a39-bd9e-d6badcd9e958",
   "metadata": {},
   "outputs": [],
   "source": []
  }
 ],
 "metadata": {
  "kernelspec": {
   "display_name": "Python 3 (ipykernel)",
   "language": "python",
   "name": "python3"
  },
  "language_info": {
   "codemirror_mode": {
    "name": "ipython",
    "version": 3
   },
   "file_extension": ".py",
   "mimetype": "text/x-python",
   "name": "python",
   "nbconvert_exporter": "python",
   "pygments_lexer": "ipython3",
   "version": "3.10.10"
  }
 },
 "nbformat": 4,
 "nbformat_minor": 5
}
