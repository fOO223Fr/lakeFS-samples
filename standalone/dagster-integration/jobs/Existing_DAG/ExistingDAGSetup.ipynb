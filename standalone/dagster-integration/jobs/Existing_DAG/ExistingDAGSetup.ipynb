{
 "cells": [
  {
   "cell_type": "markdown",
   "id": "ae466381-fdeb-404e-8f8f-d2540c9986b9",
   "metadata": {},
   "source": [
    "# Integration of lakeFS with Dagster\n",
    "\n",
    "## Use Case: Isolating Dagster job run and atomic promotion to production"
   ]
  },
  {
   "cell_type": "markdown",
   "id": "8e917997-c245-478a-b2fe-7635bd95a374",
   "metadata": {},
   "source": [
    "## Versioning Information"
   ]
  },
  {
   "cell_type": "code",
   "execution_count": null,
   "id": "fbb2a976-333f-4163-b349-9a89d58167f5",
   "metadata": {},
   "outputs": [],
   "source": [
    "newBranch = \"dagster_demo_existing_dag\""
   ]
  },
  {
   "cell_type": "markdown",
   "id": "600074d2-4e21-4869-8097-5adda495bac7",
   "metadata": {},
   "source": [
    "## Run [Common Setup](../Common/CommonSetup.ipynb) tasks here"
   ]
  },
  {
   "cell_type": "code",
   "execution_count": null,
   "id": "84f62c48-3917-4dfe-b836-3efcfc3cfe3d",
   "metadata": {},
   "outputs": [],
   "source": [
    "%run ./jobs/Common/CommonSetup.ipynb"
   ]
  },
  {
   "cell_type": "markdown",
   "id": "fa725bfe-a585-4934-95ac-eb5e360d8752",
   "metadata": {},
   "source": [
    "## Import Python packages"
   ]
  },
  {
   "cell_type": "code",
   "execution_count": null,
   "id": "984b5ca0-05fb-402f-8e3c-f3f8db8b3028",
   "metadata": {},
   "outputs": [],
   "source": [
    "from jobs.Existing_DAG.lakefs_wrapper_dag import lakefs_wrapper_dag"
   ]
  }
 ],
 "metadata": {
  "kernelspec": {
   "display_name": "Python 3 (ipykernel)",
   "language": "python",
   "name": "python3"
  },
  "language_info": {
   "codemirror_mode": {
    "name": "ipython",
    "version": 3
   },
   "file_extension": ".py",
   "mimetype": "text/x-python",
   "name": "python",
   "nbconvert_exporter": "python",
   "pygments_lexer": "ipython3",
   "version": "3.10.4"
  }
 },
 "nbformat": 4,
 "nbformat_minor": 5
}
