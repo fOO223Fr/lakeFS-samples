{
 "cells": [
  {
   "cell_type": "markdown",
   "id": "aa57f546-d5f8-4735-9157-42a9ea85de34",
   "metadata": {},
   "source": [
    "# lakeFS Demo\n",
    "\n",
    "## Use Case: Version Control of multi-buckets pipelines"
   ]
  },
  {
   "cell_type": "markdown",
   "id": "cfd3e12d-be3e-4a7d-864a-196c6ec1e941",
   "metadata": {},
   "source": [
    "![Multi-bucket Pipelines](./Images/MultiBucketsPipelines/MultiBucketsPipelines.png)"
   ]
  },
  {
   "cell_type": "markdown",
   "id": "e8eac777-7904-46c3-b242-e1a31b31d171",
   "metadata": {},
   "source": [
    "## Prerequisites\n",
    "\n",
    "##### 1. This Notebook requires connecting to a lakeFS Server.\n",
    "##### You can either install lakeFS Server locally(https://docs.lakefs.io/quickstart.html), or spin up for free on the lakeFS cloud (https://lakefs.cloud).\n",
    "##### 2. Access to buckets (or creating buckets) on your object store. You will need a minimum of 3 buckets (bronze, silver and gold) for each environment (dev, qa and prod).\n",
    "##### Bucket names can be lakefs-dev-bronze, lakefs-dev-silver, lakefs-dev-gold, lakefs-qa-bronze, lakefs-qa-silver, lakefs-qa-gold, lakefs-prod-bronze, lakefs-prod-silver, lakefs-prod-gold"
   ]
  },
  {
   "cell_type": "markdown",
   "id": "164052e0-176e-4367-99be-9e4939a1ee2b",
   "metadata": {},
   "source": [
    "## Change the environment variable. It can be either dev, qa or prod.\n",
    "\n",
    "## Also, change your lakeFS Server credentials for that environment"
   ]
  },
  {
   "cell_type": "code",
   "execution_count": null,
   "id": "e6c13379-da71-4eab-9ca0-d3b301ab8249",
   "metadata": {},
   "outputs": [],
   "source": [
    "environment = 'dev'\n",
    "lakefsEndPoint = '<lakeFS Endpoint URL>' # e.g. 'https://username.aws_region_name.lakefscloud.io' without a '/' at the end\n",
    "lakefsAccessKey = '<lakeFS Access Key>'\n",
    "lakefsSecretKey = '<lakeFS Secret Key>'"
   ]
  },
  {
   "cell_type": "markdown",
   "id": "ac0ae16c-b33f-472c-a674-8c48a8e1f9e3",
   "metadata": {},
   "source": [
    "## Storage Information for the Bronze (landing / raw) repo\n",
    "#### Change the Storage Namespace to a location in the bucket you’ve configured. The storage namespace is a location in the underlying storage where data for this repository will be stored."
   ]
  },
  {
   "cell_type": "code",
   "execution_count": null,
   "id": "b9c4e5f9-1ba3-44bf-8b17-d53cf8f3b794",
   "metadata": {},
   "outputs": [],
   "source": [
    "bronzeRepo = environment + \"-bronze\"\n",
    "bronzeRepoStorageNamespace = 's3://lakefs-' + environment + '-bronze'"
   ]
  },
  {
   "cell_type": "markdown",
   "id": "ca3ae228-fe65-48e1-a526-5ca4151b52d5",
   "metadata": {},
   "source": [
    "## Storage Information for the silver repo\n",
    "#### Change the Storage Namespace to a location in the bucket you’ve configured. The storage namespace is a location in the underlying storage where data for this repository will be stored."
   ]
  },
  {
   "cell_type": "code",
   "execution_count": null,
   "id": "2402e90f-460b-4e82-9ab4-55999c23011b",
   "metadata": {},
   "outputs": [],
   "source": [
    "silverRepo = environment + \"-silver\"\n",
    "silverRepoStorageNamespace = 's3://lakefs-' + environment + '-silver'"
   ]
  },
  {
   "cell_type": "markdown",
   "id": "cbd3fc83-31d6-4d96-97e4-df2ce25a6594",
   "metadata": {},
   "source": [
    "## Storage Information for the Gold (curated / final) bucket"
   ]
  },
  {
   "cell_type": "code",
   "execution_count": null,
   "id": "1d930ba7-e1f8-4400-a7f6-ae14cc208be1",
   "metadata": {},
   "outputs": [],
   "source": [
    "goldBucketNmae = 's3://lakefs-' + environment + '-gold'"
   ]
  },
  {
   "cell_type": "markdown",
   "id": "2ff4ef72-1288-44c2-855c-7e114d3dccc1",
   "metadata": {},
   "source": [
    "## Versioning Information"
   ]
  },
  {
   "cell_type": "code",
   "execution_count": null,
   "id": "afb1924a-3d87-4c44-949a-f650f73215ca",
   "metadata": {},
   "outputs": [],
   "source": [
    "mainBranch = \"main\"\n",
    "bronzeIngestionBranch = \"bronze-ingestion\"\n",
    "silverIngestionBranch = \"silver-ingestion\"\n",
    "silverDataPath = \"silver_data\"\n",
    "fileName = \"lakefs_test.csv\""
   ]
  },
  {
   "cell_type": "markdown",
   "id": "4825e68b-3cdb-4348-9108-05ff6d1a6603",
   "metadata": {},
   "source": [
    "## Import Python packages"
   ]
  },
  {
   "cell_type": "code",
   "execution_count": null,
   "id": "81ddb190-c162-4277-bee9-4dd2a8d80d38",
   "metadata": {},
   "outputs": [],
   "source": [
    "import os\n",
    "import lakefs_client\n",
    "from lakefs_client import models\n",
    "from lakefs_client.client import LakeFSClient\n",
    "from pyspark.context import SparkContext\n",
    "from pyspark.sql.session import SparkSession"
   ]
  },
  {
   "cell_type": "markdown",
   "id": "50035096-41d7-4da0-b937-a655f0c9bc62",
   "metadata": {},
   "source": [
    "## Working with the lakeFS Python client API"
   ]
  },
  {
   "cell_type": "code",
   "execution_count": null,
   "id": "0c7d7d58-295a-4e9a-981e-6cb140cc0035",
   "metadata": {},
   "outputs": [],
   "source": [
    "%xmode Minimal\n",
    "if not 'client' in locals():\n",
    "    # lakeFS credentials and endpoint\n",
    "    configuration = lakefs_client.Configuration()\n",
    "    configuration.username = lakefsAccessKey\n",
    "    configuration.password = lakefsSecretKey\n",
    "    configuration.host = lakefsEndPoint\n",
    "\n",
    "    client = LakeFSClient(configuration)\n",
    "    print(\"Created lakeFS client.\")"
   ]
  },
  {
   "cell_type": "markdown",
   "id": "2703ec85-618d-4183-a195-be06383fd4fb",
   "metadata": {},
   "source": [
    "## Verify user for Python client"
   ]
  },
  {
   "cell_type": "code",
   "execution_count": null,
   "id": "08117df8-9f49-4bf1-a65c-1e096abb6a65",
   "metadata": {},
   "outputs": [],
   "source": [
    "client.auth.get_current_user()"
   ]
  },
  {
   "cell_type": "markdown",
   "id": "344aeba6-88b7-4ca4-8663-f0e7f50afcb4",
   "metadata": {},
   "source": [
    "## Create Bronze (landing / raw) repo"
   ]
  },
  {
   "cell_type": "code",
   "execution_count": null,
   "id": "185ec7f8-5311-4417-b7f0-97119d60378b",
   "metadata": {},
   "outputs": [],
   "source": [
    "client.repositories.create_repository(\n",
    "    repository_creation=models.RepositoryCreation(\n",
    "        name=bronzeRepo,\n",
    "        storage_namespace=bronzeRepoStorageNamespace,\n",
    "        default_branch=mainBranch))"
   ]
  },
  {
   "cell_type": "markdown",
   "id": "f7aa82d6-8dad-422d-9a70-b2fdd7aa50a1",
   "metadata": {},
   "source": [
    "## Create silver repo"
   ]
  },
  {
   "cell_type": "code",
   "execution_count": null,
   "id": "ec13c10e-a9ff-4b41-94ad-f3be5a3bc9ad",
   "metadata": {},
   "outputs": [],
   "source": [
    "client.repositories.create_repository(\n",
    "    repository_creation=models.RepositoryCreation(\n",
    "        name=silverRepo,\n",
    "        storage_namespace=silverRepoStorageNamespace,\n",
    "        default_branch=mainBranch))"
   ]
  },
  {
   "cell_type": "markdown",
   "id": "8c3bfa3a-8d44-4384-aaae-657355122a47",
   "metadata": {},
   "source": [
    "## Create Ingestion branch in the Bronze repo"
   ]
  },
  {
   "cell_type": "code",
   "execution_count": null,
   "id": "982e7bbe-fc0a-446b-88a6-d4a2b27fe702",
   "metadata": {},
   "outputs": [],
   "source": [
    "client.branches.create_branch(\n",
    "    repository=bronzeRepo,\n",
    "    branch_creation=models.BranchCreation(\n",
    "        name=bronzeIngestionBranch,\n",
    "        source=mainBranch))"
   ]
  },
  {
   "cell_type": "markdown",
   "id": "61ecfb65-c4ce-41f1-8a05-b60b58b3859b",
   "metadata": {},
   "source": [
    "## Upload a file to the Ingestion branch in the Bronze repo"
   ]
  },
  {
   "cell_type": "code",
   "execution_count": null,
   "id": "15155243-ba86-4ef3-a517-ce3378f940d0",
   "metadata": {},
   "outputs": [],
   "source": [
    "contentToUpload = open(os.path.expanduser('~')+'/'+fileName, 'rb') # Only a single file per upload which must be named \\\\\\\"content\\\\\\\"\n",
    "client.objects.upload_object(\n",
    "    repository=bronzeRepo,\n",
    "    branch=bronzeIngestionBranch,\n",
    "    path=fileName, content=contentToUpload)"
   ]
  },
  {
   "cell_type": "markdown",
   "id": "41b9beda-1e9a-4548-84bd-236985705b0f",
   "metadata": {},
   "source": [
    "## Commit changes and attach data classification, source and target in the metadata"
   ]
  },
  {
   "cell_type": "code",
   "execution_count": null,
   "id": "dd137848-b6ac-4d79-8f27-bd500fba08c2",
   "metadata": {},
   "outputs": [],
   "source": [
    "dataClassification = 'raw-green'\n",
    "source = 'bronze'\n",
    "target = lakefsEndPoint + '/repositories/' + bronzeRepo + '/object?ref=' + bronzeIngestionBranch + '&path=' + fileName\n",
    "\n",
    "client.commits.commit(\n",
    "    repository=bronzeRepo,\n",
    "    branch=bronzeIngestionBranch,\n",
    "    commit_creation=models.CommitCreation(\n",
    "        message='Added my first file in ' + bronzeRepo + ' repository!',\n",
    "        metadata={'using': 'python_api',\n",
    "                  'data classification': dataClassification,\n",
    "                  'source': source,\n",
    "                  'target': target}))"
   ]
  },
  {
   "cell_type": "markdown",
   "id": "bd26af74-6bb7-4ef8-b4c5-9565d8a66ee3",
   "metadata": {},
   "source": [
    "## Merge ingestion branch to the main branch if upload succeeds (atomic promotion to production)"
   ]
  },
  {
   "cell_type": "code",
   "execution_count": null,
   "id": "7c1778eb-682d-4a57-8de3-577248bde2f0",
   "metadata": {},
   "outputs": [],
   "source": [
    "client.refs.merge_into_branch(\n",
    "    repository=bronzeRepo,\n",
    "    source_ref=bronzeIngestionBranch, \n",
    "    destination_branch=mainBranch)"
   ]
  },
  {
   "cell_type": "markdown",
   "id": "eb341db6-dd3d-48d0-a515-c95fe149022e",
   "metadata": {},
   "source": [
    "## S3A Gateway configuration\n",
    "\n",
    "##### Note: lakeFS can be configured to work with Spark in two ways:\n",
    "###### * Access lakeFS using the S3A gateway https://docs.lakefs.io/integrations/spark.html#access-lakefs-using-the-s3a-gateway.\n",
    "###### * Access lakeFS using the lakeFS-specific Hadoop FileSystem https://docs.lakefs.io/integrations/spark.html#access-lakefs-using-the-lakefs-specific-hadoop-filesystem."
   ]
  },
  {
   "cell_type": "code",
   "execution_count": null,
   "id": "60c2b95f-7a00-402a-86f7-3dc63d3d5095",
   "metadata": {},
   "outputs": [],
   "source": [
    "sc = SparkContext.getOrCreate()\n",
    "spark = SparkSession(sc)\n",
    "\n",
    "sc._jsc.hadoopConfiguration().set(\"fs.s3a.access.key\", lakefsAccessKey)\n",
    "sc._jsc.hadoopConfiguration().set(\"fs.s3a.secret.key\", lakefsSecretKey)\n",
    "sc._jsc.hadoopConfiguration().set(\"fs.s3a.endpoint\", lakefsEndPoint)\n",
    "sc._jsc.hadoopConfiguration().set(\"fs.s3a.path.style.access\", \"true\")"
   ]
  },
  {
   "cell_type": "markdown",
   "id": "c46df0d7-3ef3-4016-b227-c4a7e60f5771",
   "metadata": {},
   "source": [
    "## Reading data from the Main branch of the Bronze repo by using an S3A Gateway"
   ]
  },
  {
   "cell_type": "code",
   "execution_count": null,
   "id": "765cd354-832e-4b06-9417-405dc7bda4e6",
   "metadata": {},
   "outputs": [],
   "source": [
    "dataPath = f\"s3a://{bronzeRepo}/{mainBranch}/{fileName}\"\n",
    "\n",
    "df = spark.read.csv(dataPath)\n",
    "df.show()"
   ]
  },
  {
   "cell_type": "markdown",
   "id": "e03a6535-cfe7-428a-b602-52a3840e8de2",
   "metadata": {},
   "source": [
    "## Get commit information from the Bronze (landing / raw) repo for the source file"
   ]
  },
  {
   "cell_type": "code",
   "execution_count": null,
   "id": "07558cba-4c71-4bed-8c91-e2d4f76a9656",
   "metadata": {},
   "outputs": [],
   "source": [
    "bronzeCommits = client.refs.log_commits(repository=bronzeRepo, ref=mainBranch, amount=1, objects=[fileName])\n",
    "print(bronzeCommits.results)"
   ]
  },
  {
   "cell_type": "markdown",
   "id": "7b78583b-efa1-4f6b-8bd5-7fd9895c9d28",
   "metadata": {},
   "source": [
    "## Create Ingestion branch in the silver repo"
   ]
  },
  {
   "cell_type": "code",
   "execution_count": null,
   "id": "7eb696f7-c1cf-4f7f-ab84-5da402bd8c4a",
   "metadata": {},
   "outputs": [],
   "source": [
    "client.branches.create_branch(\n",
    "    repository=silverRepo,\n",
    "    branch_creation=models.BranchCreation(\n",
    "        name=silverIngestionBranch,\n",
    "        source=mainBranch))"
   ]
  },
  {
   "cell_type": "markdown",
   "id": "59900208-6366-454d-bc10-65b06c613a52",
   "metadata": {},
   "source": [
    "## Partition the data and write to Ingestion branch of the silver (Stage / Transformed) repo"
   ]
  },
  {
   "cell_type": "code",
   "execution_count": null,
   "id": "92b7103b-c550-442a-822e-589657fd3079",
   "metadata": {},
   "outputs": [],
   "source": [
    "newDataPath = f\"s3a://{silverRepo}/{silverIngestionBranch}/{silverDataPath}\"\n",
    "\n",
    "df.write.partitionBy(\"_c0\").mode(\"overwrite\").csv(newDataPath)"
   ]
  },
  {
   "cell_type": "markdown",
   "id": "347ef53f-3902-47d7-abe5-e15db10a3d96",
   "metadata": {},
   "source": [
    "## Commit changes and attach data classification, source, source commit and target in the metadata"
   ]
  },
  {
   "cell_type": "code",
   "execution_count": null,
   "id": "9cf4faeb-1055-4b1c-a63c-b3ecb91cc2d3",
   "metadata": {},
   "outputs": [],
   "source": [
    "dataClassification = 'transformed-green'\n",
    "source = lakefsEndPoint + '/repositories/' + bronzeRepo + '/object?ref=' + mainBranch + '&path=' + fileName\n",
    "source_commit =  lakefsEndPoint + '/repositories/' + bronzeRepo + '/commits/' + bronzeCommits.results[0].id\n",
    "target = lakefsEndPoint + '/repositories/' + silverRepo + '/objects?ref=' + silverIngestionBranch + '&path=' + silverDataPath + '/'\n",
    "\n",
    "client.commits.commit(\n",
    "    repository=silverRepo,\n",
    "    branch=silverIngestionBranch,\n",
    "    commit_creation=models.CommitCreation(\n",
    "        message='Added transformed data in ' + silverRepo + ' repository!',\n",
    "        metadata={'using': 'python_api',\n",
    "                 'data classification': dataClassification,\n",
    "                  'source': source,\n",
    "                  'source_commit': source_commit,\n",
    "                  'target': target}))"
   ]
  },
  {
   "cell_type": "markdown",
   "id": "0269feba-80dd-4ddc-871a-67a0b0197a23",
   "metadata": {},
   "source": [
    "## Merge ingestion branch to the main branch in the silver repo if the ETL succeeds (atomic promotion to production)"
   ]
  },
  {
   "cell_type": "code",
   "execution_count": null,
   "id": "d74c001f-2ced-4492-af30-e58bfee8653a",
   "metadata": {},
   "outputs": [],
   "source": [
    "client.refs.merge_into_branch(\n",
    "    repository=silverRepo,\n",
    "    source_ref=silverIngestionBranch, \n",
    "    destination_branch=mainBranch)"
   ]
  },
  {
   "cell_type": "markdown",
   "id": "b852e50c-cce5-4201-a949-a0f73a97a7cc",
   "metadata": {},
   "source": [
    "## Export Data\n",
    "### Exporting data from lakeFS can be done in various ways, but one simple method is to use Docker: https://docs.lakefs.io/howto/export.html\n",
    "#### Change AWS access key and secret key\n",
    "#### Run printed command in the macOS Terminal or Windows Command Prompt"
   ]
  },
  {
   "cell_type": "code",
   "execution_count": null,
   "id": "f7afa2fd-dd36-4960-8615-bb28bf15b795",
   "metadata": {},
   "outputs": [],
   "source": [
    "print(\n",
    "'docker run -e LAKEFS_ACCESS_KEY_ID=' + lakefsAccessKey + ' \\\n",
    "-e LAKEFS_SECRET_ACCESS_KEY=' + lakefsSecretKey + ' \\\n",
    "-e LAKEFS_ENDPOINT=' + lakefsEndPoint + ' \\\n",
    "-e AWS_ACCESS_KEY_ID=aaaaaaaaaaaaa \\\n",
    "-e AWS_SECRET_ACCESS_KEY=bbbbbbbbbbbbbbbbbb \\\n",
    "-it treeverse/lakefs-rclone-export:latest ' + environment + '-silver ' + goldBucketNmae + '/main/ --branch=main'\n",
    ")"
   ]
  },
  {
   "cell_type": "markdown",
   "id": "09cfd057-897b-4b23-8600-c5a95b6daaf7",
   "metadata": {},
   "source": [
    "## More Questions?\n",
    "\n",
    "###### Join the lakeFS Slack group - https://lakefs.io/slack"
   ]
  },
  {
   "cell_type": "code",
   "execution_count": null,
   "id": "ba6b2ee9-59fa-47a4-826d-a08d13e957a6",
   "metadata": {},
   "outputs": [],
   "source": []
  }
 ],
 "metadata": {
  "kernelspec": {
   "display_name": "Python 3 (ipykernel)",
   "language": "python",
   "name": "python3"
  },
  "language_info": {
   "codemirror_mode": {
    "name": "ipython",
    "version": 3
   },
   "file_extension": ".py",
   "mimetype": "text/x-python",
   "name": "python",
   "nbconvert_exporter": "python",
   "pygments_lexer": "ipython3",
   "version": "3.10.4"
  }
 },
 "nbformat": 4,
 "nbformat_minor": 5
}
