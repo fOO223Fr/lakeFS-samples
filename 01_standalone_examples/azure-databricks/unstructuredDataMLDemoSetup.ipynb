{
 "cells": [
  {
   "cell_type": "code",
   "execution_count": 0,
   "metadata": {
    "application/vnd.databricks.v1+cell": {
     "cellMetadata": {},
     "inputWidgets": {},
     "nuid": "f925363c-0b07-4fd9-bc89-70bfd407af61",
     "showTitle": false,
     "title": ""
    }
   },
   "outputs": [],
   "source": [
    "%xmode Minimal\n",
    "if not 'client' in locals():\n",
    "    import lakefs_client\n",
    "    from lakefs_client import models\n",
    "    from lakefs_client.client import LakeFSClient\n",
    "\n",
    "    # lakeFS credentials and endpoint\n",
    "    configuration = lakefs_client.Configuration()\n",
    "    configuration.username = lakefsAccessKey\n",
    "    configuration.password = lakefsSecretKey\n",
    "    configuration.host = lakefsEndPoint\n",
    "\n",
    "    client = LakeFSClient(configuration)\n",
    "    print(\"Created lakeFS client.\")"
   ]
  },
  {
   "cell_type": "code",
   "execution_count": 0,
   "metadata": {
    "application/vnd.databricks.v1+cell": {
     "cellMetadata": {},
     "inputWidgets": {},
     "nuid": "69de2572-8a3c-4eed-bb14-9f055f4b0e27",
     "showTitle": false,
     "title": ""
    }
   },
   "outputs": [],
   "source": [
    "def import_objects(repo, branch, paths, commitMessage, commitMetadata):\n",
    "    import time\n",
    "\n",
    "    # Start Import\n",
    "    import_api = client.__dict__[\"import\"]\n",
    "    commit = models.CommitCreation(message=commitMessage,metadata=commitMetadata)\n",
    "    import_creation = models.ImportCreation(paths=paths, commit=commit)\n",
    "    create_resp = import_api.import_start(repo, branch, import_creation)\n",
    "\n",
    "    # Wait for import to finish\n",
    "    while True:\n",
    "        status_resp = import_api.import_status(repo, branch, create_resp.id)\n",
    "        print(status_resp)\n",
    "        if hasattr(status_resp, \"Error in import\"):\n",
    "            raise Exception(status_resp.err)\n",
    "        if status_resp.completed:\n",
    "            print(\"Import completed Successfully. Data imported into branch:\", branch)\n",
    "            break\n",
    "        time.sleep(3)"
   ]
  },
  {
   "cell_type": "code",
   "execution_count": 0,
   "metadata": {
    "application/vnd.databricks.v1+cell": {
     "cellMetadata": {},
     "inputWidgets": {},
     "nuid": "1dfdb51a-368b-4c30-8481-78b257543960",
     "showTitle": false,
     "title": ""
    }
   },
   "outputs": [],
   "source": [
    "print(\"Verifying lakeFS credentials\")\n",
    "client.config.get_lake_fs_version()\n",
    "print(\"lakeFS credentials verified\")"
   ]
  },
  {
   "cell_type": "code",
   "execution_count": 0,
   "metadata": {
    "application/vnd.databricks.v1+cell": {
     "cellMetadata": {},
     "inputWidgets": {},
     "nuid": "16818220-669d-4840-adc4-8492e3047f23",
     "showTitle": false,
     "title": ""
    }
   },
   "outputs": [],
   "source": [
    "from lakefs_client.exceptions import NotFoundException\n",
    "\n",
    "try:\n",
    "    repo_info=client.repositories.get_repository(repo)\n",
    "    print(f\"Found existing repo {repo_info.id} using storage namespace {repo_info.storage_namespace}\")\n",
    "except NotFoundException as f:\n",
    "    print(f\"Repository {repo} does not exist, so going to try and create it now.\")\n",
    "    try:\n",
    "        repo_info=client.repositories.create_repository(repository_creation=models.RepositoryCreation(name=repo,\n",
    "                                                                                                storage_namespace=f\"{storageNamespace}\"))\n",
    "        print(f\"Created new repo {repo_info.id} using storage namespace {repo_info.storage_namespace}\")\n",
    "    except lakefs_client.ApiException as e:\n",
    "        print(f\"Error creating repo {repo}. Error is {e}\")\n",
    "        os._exit(00)\n",
    "except lakefs_client.ApiException as e:\n",
    "    print(f\"Error getting repo {repo}: {e}\")\n",
    "    os._exit(00)"
   ]
  },
  {
   "cell_type": "code",
   "execution_count": 0,
   "metadata": {
    "application/vnd.databricks.v1+cell": {
     "cellMetadata": {},
     "inputWidgets": {},
     "nuid": "e1f848be-e5b7-442e-b8c7-eb50ef7e64a9",
     "showTitle": false,
     "title": ""
    }
   },
   "outputs": [],
   "source": [
    "client.branches.create_branch(\n",
    "    repository=repo,\n",
    "    branch_creation=models.BranchCreation(\n",
    "        name=emptyBranch,\n",
    "        source=mainBranch))"
   ]
  }
 ],
 "metadata": {
  "application/vnd.databricks.v1+notebook": {
   "dashboards": [],
   "language": "python",
   "notebookMetadata": {
    "pythonIndentUnit": 4
   },
   "notebookName": "unstructuredDataMLDemoSetup",
   "widgets": {}
  },
  "kernelspec": {
   "display_name": "Python 3 (ipykernel)",
   "language": "python",
   "name": "python3"
  },
  "language_info": {
   "codemirror_mode": {
    "name": "ipython",
    "version": 3
   },
   "file_extension": ".py",
   "mimetype": "text/x-python",
   "name": "python",
   "nbconvert_exporter": "python",
   "pygments_lexer": "ipython3",
   "version": "3.10.4"
  }
 },
 "nbformat": 4,
 "nbformat_minor": 0
}
