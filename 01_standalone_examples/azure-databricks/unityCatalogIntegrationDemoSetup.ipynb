{
 "cells": [
  {
   "cell_type": "markdown",
   "metadata": {
    "application/vnd.databricks.v1+cell": {
     "cellMetadata": {},
     "inputWidgets": {},
     "nuid": "93e14b38-127e-4335-b16a-eec4a5faf7e8",
     "showTitle": false,
     "title": ""
    }
   },
   "source": [
    "##### Change your lakeFS credentials"
   ]
  },
  {
   "cell_type": "code",
   "execution_count": 0,
   "metadata": {
    "application/vnd.databricks.v1+cell": {
     "cellMetadata": {
      "byteLimit": 2048000,
      "rowLimit": 10000
     },
     "inputWidgets": {},
     "nuid": "eb1f730d-1d41-4965-90c9-3b31423006e2",
     "showTitle": false,
     "title": ""
    }
   },
   "outputs": [],
   "source": [
    "import lakefs\n",
    "from lakefs.client import Client\n",
    "\n",
    "lakefsEndPoint = '<lakeFS Endpoint URL>'\n",
    "lakefsAccessKey = '<lakeFS Access Key>'\n",
    "lakefsSecretKey = '<lakeFS Secret Key>'\n",
    "\n",
    "clt = Client(\n",
    "   host=lakefsEndPoint,\n",
    "   username=lakefsAccessKey,\n",
    "   password=lakefsSecretKey,\n",
    ")"
   ]
  },
  {
   "cell_type": "markdown",
   "metadata": {
    "application/vnd.databricks.v1+cell": {
     "cellMetadata": {},
     "inputWidgets": {},
     "nuid": "289f6255-cd2e-4e3e-a149-913c1280b6d9",
     "showTitle": false,
     "title": ""
    }
   },
   "source": [
    "##### You can change lakeFS repo name"
   ]
  },
  {
   "cell_type": "code",
   "execution_count": 0,
   "metadata": {
    "application/vnd.databricks.v1+cell": {
     "cellMetadata": {
      "byteLimit": 2048000,
      "rowLimit": 10000
     },
     "inputWidgets": {},
     "nuid": "9e812abe-d6bb-4e47-9e58-056d663c5398",
     "showTitle": false,
     "title": ""
    }
   },
   "outputs": [],
   "source": [
    "repositoryName = \"unity-catalog-demo\""
   ]
  },
  {
   "cell_type": "markdown",
   "metadata": {
    "application/vnd.databricks.v1+cell": {
     "cellMetadata": {},
     "inputWidgets": {},
     "nuid": "674ec755-bc68-42cf-8ddb-729067598526",
     "showTitle": false,
     "title": ""
    }
   },
   "source": [
    "##### Versioning Information"
   ]
  },
  {
   "cell_type": "code",
   "execution_count": 0,
   "metadata": {
    "application/vnd.databricks.v1+cell": {
     "cellMetadata": {
      "byteLimit": 2048000,
      "rowLimit": 10000
     },
     "inputWidgets": {},
     "nuid": "7f71b737-baac-46fa-9476-81a808aac2c8",
     "showTitle": false,
     "title": ""
    }
   },
   "outputs": [],
   "source": [
    "sourceBranch = \"main\"\n",
    "newBranch = \"dev\"\n",
    "table_name = \"famous_people\"\n",
    "storageNamespace = 'https://storage-account-name.blob.core.windows.net/storage-container-name/' + repositoryName\n",
    "luaScriptName = \"scripts/unity_export.lua\""
   ]
  },
  {
   "cell_type": "markdown",
   "metadata": {
    "application/vnd.databricks.v1+cell": {
     "cellMetadata": {},
     "inputWidgets": {},
     "nuid": "76101ab6-88be-4e5d-8a18-487aa5891f21",
     "showTitle": false,
     "title": ""
    }
   },
   "source": [
    "##### Create lakeFS Python client"
   ]
  },
  {
   "cell_type": "markdown",
   "metadata": {
    "application/vnd.databricks.v1+cell": {
     "cellMetadata": {},
     "inputWidgets": {},
     "nuid": "f5b553a1-9f34-4a1f-93e1-812fdc630c65",
     "showTitle": false,
     "title": ""
    }
   },
   "source": [
    "##### Create lakeFS repository"
   ]
  },
  {
   "cell_type": "code",
   "execution_count": 0,
   "metadata": {
    "application/vnd.databricks.v1+cell": {
     "cellMetadata": {
      "byteLimit": 2048000,
      "rowLimit": 10000
     },
     "inputWidgets": {},
     "nuid": "ab6fd02e-2309-417a-8f72-3c5d478a5a5e",
     "showTitle": false,
     "title": ""
    }
   },
   "outputs": [],
   "source": [
    "repo = lakefs.Repository(\n",
    "  repositoryName,\n",
    "  client=clt).create(\n",
    "    storage_namespace=storageNamespace,\n",
    "    default_branch=sourceBranch,\n",
    "    exist_ok=True)\n",
    "branchMain = repo.branch(sourceBranch)\n",
    "print(repo)"
   ]
  },
  {
   "cell_type": "markdown",
   "metadata": {
    "application/vnd.databricks.v1+cell": {
     "cellMetadata": {},
     "inputWidgets": {},
     "nuid": "e55f2dbd-6b9e-4e50-b7ce-cd8d811c400f",
     "showTitle": false,
     "title": ""
    }
   },
   "source": [
    "##### Change Databricks information"
   ]
  },
  {
   "cell_type": "code",
   "execution_count": 0,
   "metadata": {
    "application/vnd.databricks.v1+cell": {
     "cellMetadata": {
      "byteLimit": 2048000,
      "rowLimit": 10000
     },
     "inputWidgets": {},
     "nuid": "6a16df6f-f5b8-4cc5-b856-1353868381bd",
     "showTitle": false,
     "title": ""
    }
   },
   "outputs": [],
   "source": [
    "databricks_host = 'https://<instance-name>.cloud.databricks.com'\n",
    "databricks_token = '<Databricks personal access token>'\n",
    "warehouse_id = '<Databricks SQL Warehouse ID>'\n",
    "unity_catalog_name = 'lakefs_unity_catalog_demo'"
   ]
  },
  {
   "cell_type": "code",
   "execution_count": 0,
   "metadata": {
    "application/vnd.databricks.v1+cell": {
     "cellMetadata": {},
     "inputWidgets": {},
     "nuid": "38a1b509-9f3d-40a2-a5fd-059ad1651d66",
     "showTitle": false,
     "title": ""
    }
   },
   "outputs": [],
   "source": []
  }
 ],
 "metadata": {
  "application/vnd.databricks.v1+notebook": {
   "dashboards": [],
   "language": "python",
   "notebookMetadata": {
    "mostRecentlyExecutedCommandWithImplicitDF": {
     "commandId": -1,
     "dataframes": [
      "_sqldf"
     ]
    },
    "pythonIndentUnit": 4
   },
   "notebookName": "unityCatalogIntegrationDemoSetup",
   "widgets": {}
  }
 },
 "nbformat": 4,
 "nbformat_minor": 0
}
