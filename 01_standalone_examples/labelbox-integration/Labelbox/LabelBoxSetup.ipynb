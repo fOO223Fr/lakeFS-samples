{
 "cells": [
  {
   "cell_type": "markdown",
   "id": "8ba3e2fa-47db-4668-8426-c9fb612b4136",
   "metadata": {},
   "source": [
    "# Integration of lakeFS with Labelbox\n",
    "\n",
    "## Use Case: ML Reproducibility"
   ]
  },
  {
   "cell_type": "markdown",
   "id": "9f3f8456-55df-4049-9a8f-72e536ad2ec4",
   "metadata": {},
   "source": [
    "## Setup Task: Import required Python packages"
   ]
  },
  {
   "cell_type": "code",
   "execution_count": null,
   "id": "cbc28cf0-9a6d-4bf0-8dd8-0fd49f996216",
   "metadata": {},
   "outputs": [],
   "source": [
    "%xmode Minimal\n",
    "import os\n",
    "import requests\n",
    "from pathlib import Path\n",
    "import os\n",
    "import pandas as pd\n",
    "import labelbox\n",
    "import datetime\n",
    "from tabulate import tabulate\n",
    "from uuid import uuid4 ## to generate unique IDs\n",
    "import json\n",
    "from labelbox.schema.ontology import OntologyBuilder, Tool, Classification,Option\n",
    "import random\n",
    "from labelbox.data.annotation_types import (\n",
    "    Label,\n",
    "    Point,\n",
    "    LabelList,\n",
    "    ImageData,\n",
    "    Rectangle,\n",
    "    ObjectAnnotation,\n",
    ")\n",
    "from labelbox.data.serialization import NDJsonConverter\n",
    "import time\n",
    "from labelbox.schema.annotation_import import LabelImport"
   ]
  },
  {
   "cell_type": "markdown",
   "id": "ed1259ef-d6d6-48d5-80ab-9c23ce15de8c",
   "metadata": {},
   "source": [
    "## Setup Task: lakeFS Upload Objects Function"
   ]
  },
  {
   "cell_type": "code",
   "execution_count": null,
   "id": "9eb0dbf1-6115-43ec-80ce-36ee3547e07e",
   "metadata": {},
   "outputs": [],
   "source": [
    "def upload_files(repo, branch, path, files):\n",
    "    for file in files:\n",
    "        print(file)\n",
    "        contentToUpload = open(file, 'rb') # Only a single file per upload which must be named \\\\\\\"content\\\\\\\"\n",
    "        lakefs.objects.upload_object(\n",
    "            repository=repo,\n",
    "            branch=branch,\n",
    "            path=path+'/'+os.path.basename(file), content=contentToUpload)"
   ]
  },
  {
   "cell_type": "markdown",
   "id": "1aee258c-e939-41c6-bf5f-f456333ffac0",
   "metadata": {},
   "source": [
    "## Setup Task: lakeFS Import Function"
   ]
  },
  {
   "cell_type": "code",
   "execution_count": null,
   "id": "614bd876-8e13-4ecf-a6fc-c9442d5345c7",
   "metadata": {},
   "outputs": [],
   "source": [
    "def lakefs_import(repo, branch, paths, commitMessage):\n",
    "    create_resp = lakefs.import_api.import_start(repo_name, branch, ImportCreation(paths, CommitCreation(message=commitMessage)))\n",
    "\n",
    "    # Wait for import to finish\n",
    "    while True:\n",
    "        status_resp = lakefs.import_api.import_status(repo_name, branch, create_resp.id)\n",
    "        print(status_resp)\n",
    "        if hasattr(status_resp, \"Error in import\"):\n",
    "            raise Exception(status_resp.err)\n",
    "        if status_resp.completed:\n",
    "            print(\"Import completed Successfully. Data imported into branch:\", branch)\n",
    "            break\n",
    "        time.sleep(2)"
   ]
  },
  {
   "cell_type": "markdown",
   "id": "64be33a9-e80f-43db-a7a0-9ffe22649d49",
   "metadata": {},
   "source": [
    "## Setup Task: Create S3 client"
   ]
  },
  {
   "cell_type": "code",
   "execution_count": null,
   "id": "903271f5-ff5c-4b25-9d64-517a75b95ff1",
   "metadata": {},
   "outputs": [],
   "source": [
    "import boto3\n",
    "s3 = boto3.client('s3',\n",
    "    endpoint_url='https://s3.' + awsRegion + '.amazonaws.com',\n",
    "    aws_access_key_id=aws_access_key_id,\n",
    "    aws_secret_access_key=aws_secret_access_key)"
   ]
  },
  {
   "cell_type": "markdown",
   "id": "56b28561-2878-4299-b566-3039b6e605ef",
   "metadata": {},
   "source": [
    "## Setup Task: Create lakeFS Python client"
   ]
  },
  {
   "cell_type": "code",
   "execution_count": null,
   "id": "986ef787-48df-490a-8f11-b3d93c312d4d",
   "metadata": {},
   "outputs": [],
   "source": [
    "import lakefs_client\n",
    "from lakefs_client.models import *\n",
    "from lakefs_client.client import LakeFSClient\n",
    "\n",
    "# lakeFS credentials and endpoint\n",
    "configuration = lakefs_client.Configuration()\n",
    "configuration.username = lakefsAccessKey\n",
    "configuration.password = lakefsSecretKey\n",
    "configuration.host = lakefsEndPoint\n",
    "\n",
    "lakefs = LakeFSClient(configuration)"
   ]
  },
  {
   "cell_type": "markdown",
   "id": "79c90697-d708-495d-88aa-77a20c5c5ca8",
   "metadata": {},
   "source": [
    "## Setup Task: Verify lakeFS credentials by getting lakeFS version"
   ]
  },
  {
   "cell_type": "code",
   "execution_count": null,
   "id": "9eeb210c-1bb4-4c50-855b-67c1d7fff4ff",
   "metadata": {},
   "outputs": [],
   "source": [
    "print(\"Verifying lakeFS credentials…\")\n",
    "try:\n",
    "    v=lakefs.config.get_config()\n",
    "except:\n",
    "    print(\"🛑 failed to get lakeFS version\")\n",
    "else:\n",
    "    print(f\"…✅lakeFS credentials verified\\n\\nℹ️lakeFS version {v['version_config']['version']}\")"
   ]
  },
  {
   "cell_type": "markdown",
   "id": "02910e35-b487-414e-b587-10458e4f3db6",
   "metadata": {},
   "source": [
    "## Setup Task: Define lakeFS Repository"
   ]
  },
  {
   "cell_type": "code",
   "execution_count": null,
   "id": "54c0c3f9-e69c-4922-b1e3-5ac3694f171b",
   "metadata": {},
   "outputs": [],
   "source": [
    "from lakefs_client.exceptions import NotFoundException\n",
    "\n",
    "try:\n",
    "    repo=lakefs.repositories.get_repository(repo_name)\n",
    "    print(f\"Found existing repo {repo.id} using storage namespace {repo.storage_namespace}\")\n",
    "except NotFoundException as f:\n",
    "    print(f\"Repository {repo_name} does not exist, so going to try and create it now.\")\n",
    "    try:\n",
    "        repo=lakefs.repositories.create_repository(repository_creation=RepositoryCreation(name=repo_name,\n",
    "                                                                                                storage_namespace=f\"{storageNamespace}/{repo_name}\"))\n",
    "        print(f\"Created new repo {repo.id} using storage namespace {repo.storage_namespace}\")\n",
    "    except lakefs_client.ApiException as e:\n",
    "        print(f\"Error creating repo {repo_name}. Error is {e}\")\n",
    "        os._exit(00)\n",
    "except lakefs_client.ApiException as e:\n",
    "    print(f\"Error getting repo {repo_name}: {e}\")\n",
    "    os._exit(00)"
   ]
  },
  {
   "cell_type": "markdown",
   "id": "e9f8f1c2-65d7-4d03-b68b-064d3194672c",
   "metadata": {},
   "source": [
    "## Setup Task: S3A Gateway configuration\n",
    "\n",
    "##### Note: lakeFS can be configured to work with Spark in two ways:\n",
    "###### * Access lakeFS using the S3A gateway https://docs.lakefs.io/integrations/spark.html#access-lakefs-using-the-s3a-gateway.\n",
    "###### * Access lakeFS using the lakeFS-specific Hadoop FileSystem https://docs.lakefs.io/integrations/spark.html#access-lakefs-using-the-lakefs-specific-hadoop-filesystem."
   ]
  },
  {
   "cell_type": "code",
   "execution_count": null,
   "id": "fb9da6d9-94e9-4625-b65e-5035021e1a18",
   "metadata": {},
   "outputs": [],
   "source": [
    "from pyspark.sql import SparkSession\n",
    "spark = SparkSession.builder.appName(\"lakeFS / Jupyter\") \\\n",
    "        .config(\"spark.hadoop.fs.s3.impl\", \"org.apache.hadoop.fs.s3a.S3AFileSystem\") \\\n",
    "        .config(\"spark.hadoop.fs.s3a.endpoint\", lakefsEndPoint) \\\n",
    "        .config(\"spark.hadoop.fs.s3a.path.style.access\", \"true\") \\\n",
    "        .config(\"spark.hadoop.fs.s3a.access.key\", lakefsAccessKey) \\\n",
    "        .config(\"spark.hadoop.fs.s3a.secret.key\", lakefsSecretKey) \\\n",
    "        .getOrCreate()\n",
    "spark.sparkContext.setLogLevel(\"INFO\")\n",
    "\n",
    "spark"
   ]
  },
  {
   "cell_type": "markdown",
   "id": "0b16dcdd-12cb-445c-89c2-b34640ac562c",
   "metadata": {},
   "source": [
    "## Setup Task: Create Labelbox Python client"
   ]
  },
  {
   "cell_type": "code",
   "execution_count": null,
   "id": "9122a925-d080-401f-b666-b556323cb25b",
   "metadata": {},
   "outputs": [],
   "source": [
    "lb_client = labelbox.Client(LB_API_KEY)"
   ]
  }
 ],
 "metadata": {
  "kernelspec": {
   "display_name": "Python 3 (ipykernel)",
   "language": "python",
   "name": "python3"
  },
  "language_info": {
   "codemirror_mode": {
    "name": "ipython",
    "version": 3
   },
   "file_extension": ".py",
   "mimetype": "text/x-python",
   "name": "python",
   "nbconvert_exporter": "python",
   "pygments_lexer": "ipython3",
   "version": "3.10.4"
  }
 },
 "nbformat": 4,
 "nbformat_minor": 5
}
