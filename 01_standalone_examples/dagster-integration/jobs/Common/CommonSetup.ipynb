{
 "cells": [
  {
   "attachments": {},
   "cell_type": "markdown",
   "id": "9e6a1032-0006-4fa0-9b1d-0763dd11cbc2",
   "metadata": {},
   "source": [
    "# Integration of lakeFS with Dagster"
   ]
  },
  {
   "attachments": {},
   "cell_type": "markdown",
   "id": "ccd6a6d7-13f5-49cb-a633-430ba94405fb",
   "metadata": {},
   "source": [
    "## Versioning Information"
   ]
  },
  {
   "cell_type": "code",
   "execution_count": null,
   "id": "c953d734-f3f3-4550-94bf-c859bdecac02",
   "metadata": {},
   "outputs": [],
   "source": [
    "sourceBranch = \"main\""
   ]
  },
  {
   "attachments": {},
   "cell_type": "markdown",
   "id": "730d08b8-3114-4eb1-9412-ec3341110868",
   "metadata": {},
   "source": [
    "## Import Python packages"
   ]
  },
  {
   "cell_type": "code",
   "execution_count": null,
   "id": "318af35b-8198-4724-b099-8d34f92807dd",
   "metadata": {},
   "outputs": [],
   "source": [
    "import datetime\n",
    "import os"
   ]
  },
  {
   "attachments": {},
   "cell_type": "markdown",
   "id": "93883def-2d59-4320-ad47-9a62796b466b",
   "metadata": {},
   "source": [
    "## Set environment variables"
   ]
  },
  {
   "cell_type": "code",
   "execution_count": null,
   "id": "4c53220b-1d7f-4f28-9833-dac79ab1524f",
   "metadata": {},
   "outputs": [],
   "source": [
    "os.environ[\"LAKEFS_ENDPOINT\"] = lakefsEndPoint\n",
    "os.environ[\"LAKEFS_CREDENTIALS_ACCESS_KEY_ID\"] = lakefsAccessKey\n",
    "os.environ[\"LAKEFS_CREDENTIALS_SECRET_ACCESS_KEY\"] = lakefsSecretKey"
   ]
  },
  {
   "attachments": {},
   "cell_type": "markdown",
   "id": "b481e285-e58c-427b-bf85-ea09ae9c3277",
   "metadata": {},
   "source": [
    "## Working with the lakeFS Python client API\n",
    "\n",
    "###### Note: To learn more about lakeFS Python integration visit https://docs.lakefs.io/integrations/python.html"
   ]
  },
  {
   "cell_type": "code",
   "execution_count": null,
   "id": "5a83c4b1-c8f7-4dd6-b24a-83f17958384c",
   "metadata": {},
   "outputs": [],
   "source": [
    "%xmode Minimal\n",
    "if not 'lakefs' in locals():\n",
    "    import lakefs_client\n",
    "    from lakefs_client.models import *\n",
    "    from lakefs_client.client import LakeFSClient\n",
    "\n",
    "    # lakeFS credentials and endpoint\n",
    "    configuration = lakefs_client.Configuration()\n",
    "    configuration.username = lakefsAccessKey\n",
    "    configuration.password = lakefsSecretKey\n",
    "    configuration.host = lakefsEndPoint\n",
    "\n",
    "    lakefs = LakeFSClient(configuration)\n",
    "    print(\"Created lakeFS client.\")"
   ]
  },
  {
   "attachments": {},
   "cell_type": "markdown",
   "id": "974a9467",
   "metadata": {},
   "source": [
    "#### Verify lakeFS credentials by getting lakeFS version"
   ]
  },
  {
   "cell_type": "code",
   "execution_count": null,
   "id": "b65aa3d5",
   "metadata": {},
   "outputs": [],
   "source": [
    "print(\"Verifying lakeFS credentials…\")\n",
    "try:\n",
    "    v=lakefs.config.get_lake_fs_version()\n",
    "except:\n",
    "    print(\"🛑 failed to get lakeFS version\")\n",
    "else:\n",
    "    print(f\"…✅lakeFS credentials verified\\n\\nℹ️lakeFS version {v.version}\")"
   ]
  },
  {
   "attachments": {},
   "cell_type": "markdown",
   "id": "f9a4957c-898f-4b04-a8ac-58c3b6017f49",
   "metadata": {},
   "source": [
    "## Create Repository"
   ]
  },
  {
   "cell_type": "code",
   "execution_count": null,
   "id": "4cc1ca8a-4a0b-41d7-99f5-289fe4897471",
   "metadata": {},
   "outputs": [],
   "source": [
    "from lakefs_client.exceptions import NotFoundException\n",
    "\n",
    "try:\n",
    "    repo=lakefs.repositories.get_repository(repo_name)\n",
    "    print(f\"Found existing repo {repo.id} using storage namespace {repo.storage_namespace}\")\n",
    "except NotFoundException as f:\n",
    "    print(f\"Repository {repo_name} does not exist, so going to try and create it now.\")\n",
    "    try:\n",
    "        repo=lakefs.repositories.create_repository(repository_creation=RepositoryCreation(name=repo_name,\n",
    "                                                                                                storage_namespace=f\"{storageNamespace}\"))\n",
    "        print(f\"Created new repo {repo.id} using storage namespace {repo.storage_namespace}\")\n",
    "    except lakefs_client.ApiException as e:\n",
    "        print(f\"Error creating repo {repo_name}. Error is {e}\")\n",
    "        os._exit(00)\n",
    "except lakefs_client.ApiException as e:\n",
    "    print(f\"Error getting repo {repo_name}: {e}\")\n",
    "    os._exit(00)"
   ]
  },
  {
   "attachments": {},
   "cell_type": "markdown",
   "id": "09fe13bb-3cbf-4334-b3e0-1a775d9b515a",
   "metadata": {},
   "source": [
    "## Start Dagit UI"
   ]
  },
  {
   "cell_type": "code",
   "execution_count": null,
   "id": "c49ca482-269b-4805-a6fe-cf559e0daf6b",
   "metadata": {},
   "outputs": [],
   "source": [
    "%%script bash --bg --out script_out --err script_error\n",
    "dagit -h 0.0.0.0 -p 3000\n",
    "echo \"Dagit UI is running\""
   ]
  }
 ],
 "metadata": {
  "kernelspec": {
   "display_name": "Python 3 (ipykernel)",
   "language": "python",
   "name": "python3"
  },
  "language_info": {
   "codemirror_mode": {
    "name": "ipython",
    "version": 3
   },
   "file_extension": ".py",
   "mimetype": "text/x-python",
   "name": "python",
   "nbconvert_exporter": "python",
   "pygments_lexer": "ipython3",
   "version": "3.10.4"
  }
 },
 "nbformat": 4,
 "nbformat_minor": 5
}
