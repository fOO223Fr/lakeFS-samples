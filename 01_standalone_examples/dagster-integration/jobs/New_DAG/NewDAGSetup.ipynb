{
 "cells": [
  {
   "cell_type": "markdown",
   "id": "afce65a0-694f-4a9f-8a9c-14a6cc28d45a",
   "metadata": {},
   "source": [
    "# Integration of lakeFS with Dagster\n",
    "\n",
    "## Use Case: Troubleshooting production issues"
   ]
  },
  {
   "cell_type": "markdown",
   "id": "3fb97a7f-1f1c-4c27-a087-6cecd223c281",
   "metadata": {},
   "source": [
    "## Versioning Information"
   ]
  },
  {
   "cell_type": "code",
   "execution_count": null,
   "id": "2ddb7b84-8a18-4779-aaf1-39a313ec83da",
   "metadata": {},
   "outputs": [],
   "source": [
    "fileName = \"lakefs_test.csv\"\n",
    "newBranch = \"dagster_demo_new_dag\"\n",
    "newPath = \"partitioned_data\""
   ]
  },
  {
   "cell_type": "markdown",
   "id": "a88af9f6-85e0-474f-bcc2-fdbca4d87d18",
   "metadata": {},
   "source": [
    "## Run [Common Setup](../Common/CommonSetup.ipynb) tasks here"
   ]
  },
  {
   "cell_type": "code",
   "execution_count": null,
   "id": "31513711-6b40-4baf-9183-6dbb16aec087",
   "metadata": {},
   "outputs": [],
   "source": [
    "%run ./jobs/Common/CommonSetup.ipynb"
   ]
  },
  {
   "cell_type": "markdown",
   "id": "3ffa7bcc-0cc9-4d53-a019-46ba01146900",
   "metadata": {},
   "source": [
    "## Import Python packages"
   ]
  },
  {
   "cell_type": "code",
   "execution_count": null,
   "id": "42abd6a2-8719-4d40-a558-aaff3e50d3bf",
   "metadata": {},
   "outputs": [],
   "source": [
    "from jobs.New_DAG.lakefs_new_dag import lakefs_new_dag"
   ]
  }
 ],
 "metadata": {
  "kernelspec": {
   "display_name": "Python 3 (ipykernel)",
   "language": "python",
   "name": "python3"
  },
  "language_info": {
   "codemirror_mode": {
    "name": "ipython",
    "version": 3
   },
   "file_extension": ".py",
   "mimetype": "text/x-python",
   "name": "python",
   "nbconvert_exporter": "python",
   "pygments_lexer": "ipython3",
   "version": "3.10.4"
  }
 },
 "nbformat": 4,
 "nbformat_minor": 5
}
