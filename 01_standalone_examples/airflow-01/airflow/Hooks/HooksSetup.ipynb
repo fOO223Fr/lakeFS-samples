{
 "cells": [
  {
   "cell_type": "markdown",
   "id": "9b2c8fa0-1702-411a-b11c-3190679bf31c",
   "metadata": {},
   "source": [
    "# Integration of lakeFS with Airflow via Hooks\n",
    "\n",
    "## Use Case: Isolated Ingestion & ETL Environment"
   ]
  },
  {
   "cell_type": "markdown",
   "id": "4c8b7afa-ff1a-4e34-8f9e-76d34da039e1",
   "metadata": {},
   "source": [
    "## Run [Common Setup](../Common/CommonSetup.ipynb) tasks here"
   ]
  },
  {
   "cell_type": "code",
   "execution_count": null,
   "id": "2e62dcc8-097a-4541-893a-3d682ed19db4",
   "metadata": {},
   "outputs": [],
   "source": [
    "%run ./airflow/Common/CommonSetup.ipynb"
   ]
  },
  {
   "cell_type": "markdown",
   "id": "7021c36a-4a47-41c5-a000-b5708d53ee33",
   "metadata": {},
   "source": [
    "## Set Airflow variables which are used by the demo workflow"
   ]
  },
  {
   "cell_type": "code",
   "execution_count": null,
   "id": "7012d111-e45b-4030-96da-6f270437fef5",
   "metadata": {},
   "outputs": [],
   "source": [
    "! airflow variables set sourceBranch $newBranch\n",
    "! airflow variables set newBranch $airflowBranch\n",
    "! airflow variables set newPath $newPath\n",
    "! airflow variables set successFileName $successFileName\n",
    "\n",
    "filePath = \"~\"\n",
    "! airflow variables set filePath $filePath\n",
    "\n",
    "fileName = \"lakefs_test.csv\"\n",
    "! airflow variables set fileName $fileName"
   ]
  },
  {
   "cell_type": "markdown",
   "id": "a6b6792e-b1be-4c26-90cd-e9d54924354f",
   "metadata": {},
   "source": [
    "## Copy DAG programs to Airflow DAGs directory and sync to Airflow database"
   ]
  },
  {
   "cell_type": "code",
   "execution_count": null,
   "id": "4f31409a-f75c-4b2d-97ad-f82eb18dd776",
   "metadata": {},
   "outputs": [],
   "source": [
    "! cp ./airflow/Hooks/lakefs_hooks_post_commit_dag.py ./airflow/dags\n",
    "! cp ./airflow/Hooks/lakefs_hooks_pre_merge_dag.py ./airflow/dags\n",
    "\n",
    "dagbag = DagBag(include_examples=False)\n",
    "dagbag.sync_to_db()"
   ]
  },
  {
   "cell_type": "markdown",
   "id": "7c43fcb5-96c1-4b91-8ab4-0f943bd5343c",
   "metadata": {},
   "source": [
    "## Unpause Airflow DAGs"
   ]
  },
  {
   "cell_type": "code",
   "execution_count": null,
   "id": "f083dbcb-0a5c-42dd-8408-82e9baa41774",
   "metadata": {},
   "outputs": [],
   "source": [
    "! airflow dags unpause lakefs_hooks_post_commit_dag\n",
    "! airflow dags unpause lakefs_hooks_pre_merge_dag"
   ]
  },
  {
   "cell_type": "code",
   "execution_count": null,
   "id": "e8baac0b-ee59-4611-a227-49cad78d0797",
   "metadata": {},
   "outputs": [],
   "source": []
  }
 ],
 "metadata": {
  "kernelspec": {
   "display_name": "Python 3 (ipykernel)",
   "language": "python",
   "name": "python3"
  },
  "language_info": {
   "codemirror_mode": {
    "name": "ipython",
    "version": 3
   },
   "file_extension": ".py",
   "mimetype": "text/x-python",
   "name": "python",
   "nbconvert_exporter": "python",
   "pygments_lexer": "ipython3",
   "version": "3.10.4"
  }
 },
 "nbformat": 4,
 "nbformat_minor": 5
}
