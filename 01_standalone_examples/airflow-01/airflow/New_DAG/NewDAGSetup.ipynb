{
 "cells": [
  {
   "cell_type": "markdown",
   "id": "9b2c8fa0-1702-411a-b11c-3190679bf31c",
   "metadata": {},
   "source": [
    "# [Integration of lakeFS with Airflow](https://docs.lakefs.io/integrations/airflow.html)\n",
    "\n",
    "## Use Case: Troubleshooting production issues"
   ]
  },
  {
   "cell_type": "markdown",
   "id": "1a5fabae-9a00-43f3-8549-3f43e5b7fbab",
   "metadata": {},
   "source": [
    "## Run [Common Setup](../Common/CommonSetup.ipynb) tasks here"
   ]
  },
  {
   "cell_type": "code",
   "execution_count": null,
   "id": "0699c4d2-4fc9-48c2-9da5-bdedfcdb8f5d",
   "metadata": {},
   "outputs": [],
   "source": [
    "%run ./airflow/Common/CommonSetup.ipynb"
   ]
  },
  {
   "cell_type": "markdown",
   "id": "113d0e32-140a-43c5-8c4d-fe08b8b963eb",
   "metadata": {},
   "source": [
    "## Set Airflow variables which are used by the demo workflow"
   ]
  },
  {
   "cell_type": "code",
   "execution_count": null,
   "id": "cc1ccd19-3f52-4239-9c3d-90d575a86383",
   "metadata": {},
   "outputs": [],
   "source": [
    "filePath = \"~\"\n",
    "! airflow variables set filePath $filePath\n",
    "\n",
    "fileName = \"lakefs_test.csv\"\n",
    "! airflow variables set fileName $fileName\n",
    "\n",
    "! airflow variables set newPath $newPath"
   ]
  },
  {
   "cell_type": "markdown",
   "id": "84b8d71c-4155-4a13-a6b6-45977d94ae3a",
   "metadata": {},
   "source": [
    "## Copy DAG programs to Airflow DAGs directory and sync to Airflow database"
   ]
  },
  {
   "cell_type": "code",
   "execution_count": null,
   "id": "77833995-13d4-4470-bce6-5f0cb98756b9",
   "metadata": {},
   "outputs": [],
   "source": [
    "! cp ./airflow/New_DAG/lakefs_new_dag.py ./airflow/dags\n",
    "\n",
    "dagbag = DagBag(include_examples=False)\n",
    "dagbag.sync_to_db()"
   ]
  }
 ],
 "metadata": {
  "kernelspec": {
   "display_name": "Python 3 (ipykernel)",
   "language": "python",
   "name": "python3"
  },
  "language_info": {
   "codemirror_mode": {
    "name": "ipython",
    "version": 3
   },
   "file_extension": ".py",
   "mimetype": "text/x-python",
   "name": "python",
   "nbconvert_exporter": "python",
   "pygments_lexer": "ipython3",
   "version": "3.10.4"
  }
 },
 "nbformat": 4,
 "nbformat_minor": 5
}
