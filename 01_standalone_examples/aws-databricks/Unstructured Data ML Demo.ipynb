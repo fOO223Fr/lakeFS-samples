{
 "cells": [
  {
   "cell_type": "markdown",
   "metadata": {
    "application/vnd.databricks.v1+cell": {
     "cellMetadata": {},
     "inputWidgets": {},
     "nuid": "55e23ec6-15f6-47e5-9e77-9d89d0fbd26f",
     "showTitle": false,
     "title": ""
    }
   },
   "source": [
    "# Isolated Reproducible Unstructured Datasets for ML"
   ]
  },
  {
   "cell_type": "markdown",
   "metadata": {
    "application/vnd.databricks.v1+cell": {
     "cellMetadata": {},
     "inputWidgets": {},
     "nuid": "3ceb066b-464a-4292-8a3c-433c5898b523",
     "showTitle": false,
     "title": ""
    }
   },
   "source": [
    "### Prerequisites\n",
    "\n",
    "####### This Notebook requires connecting to a lakeFS Server. \n",
    "####### To spin up lakeFS quickly - use the [lakeFS Cloud](https://lakefs.cloud) which provides lakeFS server on-demand with a single click; \n",
    "####### Or, alternatively, refer to [lakeFS Quickstart doc](https://docs.lakefs.io/quickstart/installing.html)."
   ]
  },
  {
   "cell_type": "markdown",
   "metadata": {
    "application/vnd.databricks.v1+cell": {
     "cellMetadata": {},
     "inputWidgets": {},
     "nuid": "587719a9-2504-49a7-8fee-29b4a89c4a66",
     "showTitle": false,
     "title": ""
    }
   },
   "source": [
    "## Setup Task: Download Images and Annotations datasets used for this demo and upload to a S3 bucket: [http://vision.stanford.edu/aditya86/ImageNetDogs/](http://vision.stanford.edu/aditya86/ImageNetDogs/)\n",
    "#### Change sample-dog-images-bucket-name"
   ]
  },
  {
   "cell_type": "code",
   "execution_count": 0,
   "metadata": {
    "application/vnd.databricks.v1+cell": {
     "cellMetadata": {
      "byteLimit": 2048000,
      "rowLimit": 10000
     },
     "inputWidgets": {},
     "nuid": "83434ec3-7b28-4efb-be22-2988d8f257ba",
     "showTitle": false,
     "title": ""
    }
   },
   "outputs": [],
   "source": [
    "bucketURLforImages = 's3://sample-dog-images-bucket-name'"
   ]
  },
  {
   "cell_type": "markdown",
   "metadata": {
    "application/vnd.databricks.v1+cell": {
     "cellMetadata": {},
     "inputWidgets": {},
     "nuid": "64a1df50-d886-4349-8841-437a089c79ed",
     "showTitle": false,
     "title": ""
    }
   },
   "source": [
    "## Setup Task: Download [changed Images and Annotations datasets](https://github.com/treeverse/lakeFS-samples/tree/main/01_standalone_examples/aws-databricks/data/stanforddogsdataset/changed) and upload to a different S3 bucket.\n",
    "#### Change storage-account-name and sample-dog-images-changed-container-name"
   ]
  },
  {
   "cell_type": "code",
   "execution_count": 0,
   "metadata": {
    "application/vnd.databricks.v1+cell": {
     "cellMetadata": {
      "byteLimit": 2048000,
      "rowLimit": 10000
     },
     "inputWidgets": {},
     "nuid": "8f55fbdc-f813-4615-b4cf-dc6bd0be298c",
     "showTitle": false,
     "title": ""
    }
   },
   "outputs": [],
   "source": [
    "bucketURLforChangedImages = 's3://sample-dog-images-changed-bucket-name'"
   ]
  },
  {
   "cell_type": "markdown",
   "metadata": {
    "application/vnd.databricks.v1+cell": {
     "cellMetadata": {},
     "inputWidgets": {},
     "nuid": "a27ff889-b943-4ac4-af19-d8543bc60903",
     "showTitle": false,
     "title": ""
    }
   },
   "source": [
    "## Setup Task: Change your lakeFS credentials"
   ]
  },
  {
   "cell_type": "code",
   "execution_count": 0,
   "metadata": {
    "application/vnd.databricks.v1+cell": {
     "cellMetadata": {
      "byteLimit": 2048000,
      "rowLimit": 10000
     },
     "inputWidgets": {},
     "nuid": "29f64ec6-66da-4f1a-a5bc-1542144937aa",
     "showTitle": false,
     "title": ""
    }
   },
   "outputs": [],
   "source": [
    "lakefsEndPoint = 'https://YourEndPoint/' # e.g. 'https://username.azure_region_name.lakefscloud.io'\n",
    "lakefsAccessKey = 'AKIAlakeFSAccessKey'\n",
    "lakefsSecretKey = 'lakeFSSecretKey'"
   ]
  },
  {
   "cell_type": "markdown",
   "metadata": {
    "application/vnd.databricks.v1+cell": {
     "cellMetadata": {},
     "inputWidgets": {},
     "nuid": "9f0302ae-bd36-48dc-abe2-3e7e8c995ca5",
     "showTitle": false,
     "title": ""
    }
   },
   "source": [
    "## Setup Task: You can change lakeFS repo name"
   ]
  },
  {
   "cell_type": "code",
   "execution_count": 0,
   "metadata": {
    "application/vnd.databricks.v1+cell": {
     "cellMetadata": {
      "byteLimit": 2048000,
      "rowLimit": 10000
     },
     "inputWidgets": {},
     "nuid": "0f83548d-b7ee-4451-b384-a09f76eb94c1",
     "showTitle": false,
     "title": ""
    }
   },
   "outputs": [],
   "source": [
    "repo = \"images-repo\""
   ]
  },
  {
   "cell_type": "markdown",
   "metadata": {
    "application/vnd.databricks.v1+cell": {
     "cellMetadata": {},
     "inputWidgets": {},
     "nuid": "ccdd4fb0-0045-4461-b532-1523d32fc6fe",
     "showTitle": false,
     "title": ""
    }
   },
   "source": [
    "## Setup Task: Storage Information\n",
    "#### Change the Storage Namespace to a location you’ve configured. The storage namespace is a location in the underlying storage where data for this repository will be stored."
   ]
  },
  {
   "cell_type": "code",
   "execution_count": 0,
   "metadata": {
    "application/vnd.databricks.v1+cell": {
     "cellMetadata": {
      "byteLimit": 2048000,
      "rowLimit": 10000
     },
     "inputWidgets": {},
     "nuid": "f587a25d-dade-46fd-bfa1-6b7f27c99b26",
     "showTitle": false,
     "title": ""
    }
   },
   "outputs": [],
   "source": [
    "import random\n",
    "storageNamespace = 's3://lakefs-repository-bucket-name/'+repo+'/'+str(random.randint(1,100000000))"
   ]
  },
  {
   "cell_type": "markdown",
   "metadata": {
    "application/vnd.databricks.v1+cell": {
     "cellMetadata": {},
     "inputWidgets": {},
     "nuid": "d09d76ca-48c6-45b2-8cf6-53f4cd7b1429",
     "showTitle": false,
     "title": ""
    }
   },
   "source": [
    "## Define variables"
   ]
  },
  {
   "cell_type": "code",
   "execution_count": 0,
   "metadata": {
    "application/vnd.databricks.v1+cell": {
     "cellMetadata": {
      "byteLimit": 2048000,
      "rowLimit": 10000
     },
     "inputWidgets": {},
     "nuid": "d627bbb6-39dc-4617-bb78-4754fb281e3d",
     "showTitle": false,
     "title": ""
    }
   },
   "outputs": [],
   "source": [
    "mainBranch = \"main\"\n",
    "emptyBranch = \"empty\"\n",
    "AnnotationsFolderName = \"Annotations\"\n",
    "ImagesFolderName = \"Images\"\n",
    "\n",
    "AfghanHoundSourcePath = \"n02088094-Afghan_hound\"\n",
    "AfghanHoundFileName = \"n02088094-Afghan_hound/n02088094_115.jpg\"\n",
    "WalkerHoundSourcePath = \"n02089867-Walker_hound\"\n",
    "WalkerHoundFileName = \"n02089867-Walker_hound/n02089867_24.jpg\""
   ]
  },
  {
   "cell_type": "markdown",
   "metadata": {
    "application/vnd.databricks.v1+cell": {
     "cellMetadata": {},
     "inputWidgets": {},
     "nuid": "4f6a9de9-acd9-47b3-9130-caf6c8983ba3",
     "showTitle": false,
     "title": ""
    }
   },
   "source": [
    "## Setup Task: Run additional [Setup](./?o=8376305627582670#notebook/3797698953092686) tasks here"
   ]
  },
  {
   "cell_type": "code",
   "execution_count": 0,
   "metadata": {
    "application/vnd.databricks.v1+cell": {
     "cellMetadata": {
      "byteLimit": 2048000,
      "rowLimit": 10000
     },
     "inputWidgets": {},
     "nuid": "37495c43-8dcf-4fb2-9494-b8f1d49ac109",
     "showTitle": false,
     "title": ""
    }
   },
   "outputs": [],
   "source": [
    "%run ./unstructuredDataMLDemoSetup"
   ]
  },
  {
   "cell_type": "markdown",
   "metadata": {
    "application/vnd.databricks.v1+cell": {
     "cellMetadata": {},
     "inputWidgets": {},
     "nuid": "418cb3d8-fe33-4439-8761-28ba3fb8bda6",
     "showTitle": false,
     "title": ""
    }
   },
   "source": [
    "## Setup Task: Import Images and Annotations datasets to lakeFS repository"
   ]
  },
  {
   "cell_type": "code",
   "execution_count": 0,
   "metadata": {
    "application/vnd.databricks.v1+cell": {
     "cellMetadata": {
      "byteLimit": 2048000,
      "rowLimit": 10000
     },
     "inputWidgets": {},
     "nuid": "063224b6-15d2-455f-9692-cf706fbd6f14",
     "showTitle": false,
     "title": ""
    }
   },
   "outputs": [],
   "source": [
    "from lakefs_client import models\n",
    "paths=[\n",
    "    models.ImportLocation(type=\"common_prefix\", path=bucketURLforImages, destination=\"\"),\n",
    "]\n",
    "commitMessage='Imported all annotations and images'\n",
    "commitMetadata={'version': '1.0'}\n",
    "import_objects(repo, mainBranch, paths, commitMessage, commitMetadata)"
   ]
  },
  {
   "cell_type": "markdown",
   "metadata": {
    "application/vnd.databricks.v1+cell": {
     "cellMetadata": {},
     "inputWidgets": {},
     "nuid": "018d8dc8-cd9a-4de7-919b-1ed827f5736c",
     "showTitle": false,
     "title": ""
    }
   },
   "source": [
    "# Project Starts"
   ]
  },
  {
   "cell_type": "markdown",
   "metadata": {
    "application/vnd.databricks.v1+cell": {
     "cellMetadata": {},
     "inputWidgets": {},
     "nuid": "82d57784-39df-4815-8625-89820e433ad6",
     "showTitle": false,
     "title": ""
    }
   },
   "source": [
    "## Project label and version information"
   ]
  },
  {
   "cell_type": "code",
   "execution_count": 0,
   "metadata": {
    "application/vnd.databricks.v1+cell": {
     "cellMetadata": {
      "byteLimit": 2048000,
      "rowLimit": 10000
     },
     "inputWidgets": {},
     "nuid": "54ba80db-3f5c-47a6-a66e-e1b94ffc5b80",
     "showTitle": false,
     "title": ""
    }
   },
   "outputs": [],
   "source": [
    "classLabel = \"_hound\"\n",
    "version = \"v1\""
   ]
  },
  {
   "cell_type": "markdown",
   "metadata": {
    "application/vnd.databricks.v1+cell": {
     "cellMetadata": {},
     "inputWidgets": {},
     "nuid": "6e960542-3d48-4c68-b72f-f01e1bc835b6",
     "showTitle": false,
     "title": ""
    }
   },
   "source": [
    "## Create empty Project v1 branch"
   ]
  },
  {
   "cell_type": "code",
   "execution_count": 0,
   "metadata": {
    "application/vnd.databricks.v1+cell": {
     "cellMetadata": {
      "byteLimit": 2048000,
      "rowLimit": 10000
     },
     "inputWidgets": {},
     "nuid": "3a90bc7f-5819-4516-9317-d00b6abf3cf7",
     "showTitle": false,
     "title": ""
    }
   },
   "outputs": [],
   "source": [
    "projectBranchV1 = \"project\"+classLabel+\"_\"+version\n",
    "\n",
    "client.branches.create_branch(\n",
    "    repository=repo,\n",
    "    branch_creation=models.BranchCreation(\n",
    "        name=projectBranchV1,\n",
    "        source=emptyBranch))"
   ]
  },
  {
   "cell_type": "markdown",
   "metadata": {
    "application/vnd.databricks.v1+cell": {
     "cellMetadata": {},
     "inputWidgets": {},
     "nuid": "946fe7e8-8588-49a3-9687-cf027985e60d",
     "showTitle": false,
     "title": ""
    }
   },
   "source": [
    "## Get list of all Annotation folders"
   ]
  },
  {
   "cell_type": "code",
   "execution_count": 0,
   "metadata": {
    "application/vnd.databricks.v1+cell": {
     "cellMetadata": {
      "byteLimit": 2048000,
      "rowLimit": 10000
     },
     "inputWidgets": {},
     "nuid": "3d8db7a5-2e69-47df-98eb-b70d3078c416",
     "showTitle": false,
     "title": ""
    }
   },
   "outputs": [],
   "source": [
    "AnnotationsFolders = client.objects.list_objects(\n",
    "    repository=repo,\n",
    "    ref=mainBranch,\n",
    "    prefix=AnnotationsFolderName+'/',\n",
    "    delimiter='/')"
   ]
  },
  {
   "cell_type": "markdown",
   "metadata": {
    "application/vnd.databricks.v1+cell": {
     "cellMetadata": {},
     "inputWidgets": {},
     "nuid": "ca1c52ba-1300-4d39-ac98-10ba0c452e75",
     "showTitle": false,
     "title": ""
    }
   },
   "source": [
    "## Import all annotation and images for a particular class label"
   ]
  },
  {
   "cell_type": "code",
   "execution_count": 0,
   "metadata": {
    "application/vnd.databricks.v1+cell": {
     "cellMetadata": {
      "byteLimit": 2048000,
      "rowLimit": 10000
     },
     "inputWidgets": {},
     "nuid": "fb71de25-3eab-4609-9b78-880b5bbefc31",
     "showTitle": false,
     "title": ""
    }
   },
   "outputs": [],
   "source": [
    "paths=[]\n",
    "\n",
    "for AnnotationsFolder in AnnotationsFolders.results:\n",
    "    \n",
    "    # If folder name ends with classLabel\n",
    "    if AnnotationsFolder['path'].endswith(classLabel+'/'):\n",
    "        print(\"Importing annotation and images in folder: \" + AnnotationsFolder['path'])\n",
    "                                         \n",
    "        paths.append(models.ImportLocation(type=\"common_prefix\", path=bucketURLforImages+'/'+AnnotationsFolder['path'], destination=AnnotationsFolder['path']))\n",
    "        paths.append(models.ImportLocation(type=\"common_prefix\", path=bucketURLforImages+'/'+AnnotationsFolder['path'].replace(AnnotationsFolderName, ImagesFolderName),\n",
    "                                           destination=AnnotationsFolder['path'].replace(AnnotationsFolderName, ImagesFolderName)))\n",
    "\n",
    "commitMessage='Imported annotation and images for class label ending with '+classLabel\n",
    "commitMetadata={'classLabel': classLabel,'version': version}\n",
    "import_objects(repo, projectBranchV1, paths, commitMessage, commitMetadata)"
   ]
  },
  {
   "cell_type": "markdown",
   "metadata": {
    "application/vnd.databricks.v1+cell": {
     "cellMetadata": {},
     "inputWidgets": {},
     "nuid": "2f37ec0d-e29a-475b-9749-fdbe934022c3",
     "showTitle": false,
     "title": ""
    }
   },
   "source": [
    "## Some of images changed"
   ]
  },
  {
   "cell_type": "markdown",
   "metadata": {
    "application/vnd.databricks.v1+cell": {
     "cellMetadata": {},
     "inputWidgets": {},
     "nuid": "a548566a-3ba9-4408-bfbb-c834bdb7043c",
     "showTitle": false,
     "title": ""
    }
   },
   "source": [
    "## Changed images"
   ]
  },
  {
   "cell_type": "markdown",
   "metadata": {
    "application/vnd.databricks.v1+cell": {
     "cellMetadata": {},
     "inputWidgets": {},
     "nuid": "557e8b10-3155-4729-867f-c55f430e0f32",
     "showTitle": false,
     "title": ""
    }
   },
   "source": [
    "<img src=\"https://raw.githubusercontent.com/treeverse/lakeFS-samples/main/01_standalone_examples/azure-databricks/data/stanforddogsdataset/changed/Images/n02088094-Afghan_hound/n02088094_26.jpg\" width=150/>\n",
    "<img src=\"https://raw.githubusercontent.com/treeverse/lakeFS-samples/main/01_standalone_examples/azure-databricks/data/stanforddogsdataset/changed/Images/n02088094-Afghan_hound/n02088094_60.jpg\" width=330/>\n",
    "<img src=\"https://raw.githubusercontent.com/treeverse/lakeFS-samples/main/01_standalone_examples/azure-databricks/data/stanforddogsdataset/changed/Images/n02088094-Afghan_hound/n02088094_93.jpg\" width=310/>\n",
    "<img src=\"https://raw.githubusercontent.com/treeverse/lakeFS-samples/main/01_standalone_examples/azure-databricks/data/stanforddogsdataset/changed/Images/n02088094-Afghan_hound/n02088094_115.jpg\" width=310/>"
   ]
  },
  {
   "cell_type": "markdown",
   "metadata": {
    "application/vnd.databricks.v1+cell": {
     "cellMetadata": {},
     "inputWidgets": {},
     "nuid": "4938f948-d92d-46f6-92b9-1e5b3a525f8e",
     "showTitle": false,
     "title": ""
    }
   },
   "source": [
    "## Upload changed annotations and images"
   ]
  },
  {
   "cell_type": "code",
   "execution_count": 0,
   "metadata": {
    "application/vnd.databricks.v1+cell": {
     "cellMetadata": {
      "byteLimit": 2048000,
      "rowLimit": 10000
     },
     "inputWidgets": {},
     "nuid": "1d76ff4c-1f4d-4305-91c2-736a9156638b",
     "showTitle": false,
     "title": ""
    }
   },
   "outputs": [],
   "source": [
    "paths=[\n",
    "    models.ImportLocation(type=\"common_prefix\", path=bucketURLforChangedImages+'/'+AnnotationsFolderName+'/'+AfghanHoundSourcePath, destination=AnnotationsFolderName),\n",
    "    models.ImportLocation(type=\"common_prefix\", path=bucketURLforChangedImages+'/'+ImagesFolderName+'/'+AfghanHoundSourcePath, destination=ImagesFolderName),\n",
    "]\n",
    "commitMessage='Uploaded changed annotation and images for class label ending with '+classLabel+' and version '+version\n",
    "commitMetadata={'classLabel': classLabel, 'version': version}\n",
    "import_objects(repo, projectBranchV1, paths, commitMessage, commitMetadata)"
   ]
  },
  {
   "cell_type": "markdown",
   "metadata": {
    "application/vnd.databricks.v1+cell": {
     "cellMetadata": {},
     "inputWidgets": {},
     "nuid": "18308b4c-be8d-4930-9d9f-9fe7f128083d",
     "showTitle": false,
     "title": ""
    }
   },
   "source": [
    "## Get stats for image on main branch"
   ]
  },
  {
   "cell_type": "code",
   "execution_count": 0,
   "metadata": {
    "application/vnd.databricks.v1+cell": {
     "cellMetadata": {
      "byteLimit": 2048000,
      "rowLimit": 10000
     },
     "inputWidgets": {},
     "nuid": "7cb25132-6e18-4758-af4b-24e24b54d4e9",
     "showTitle": false,
     "title": ""
    }
   },
   "outputs": [],
   "source": [
    "client.objects.stat_object(\n",
    "    repository=repo,\n",
    "    ref=mainBranch,\n",
    "    path=ImagesFolderName+'/'+AfghanHoundFileName)"
   ]
  },
  {
   "cell_type": "markdown",
   "metadata": {
    "application/vnd.databricks.v1+cell": {
     "cellMetadata": {},
     "inputWidgets": {},
     "nuid": "0309436d-965f-42c8-b20a-89c099c28779",
     "showTitle": false,
     "title": ""
    }
   },
   "source": [
    "## Get stats for image on project branch"
   ]
  },
  {
   "cell_type": "code",
   "execution_count": 0,
   "metadata": {
    "application/vnd.databricks.v1+cell": {
     "cellMetadata": {
      "byteLimit": 2048000,
      "rowLimit": 10000
     },
     "inputWidgets": {},
     "nuid": "517dc072-4de7-4dcf-8f5c-d36cef61c2c9",
     "showTitle": false,
     "title": ""
    }
   },
   "outputs": [],
   "source": [
    "client.objects.stat_object(\n",
    "    repository=repo,\n",
    "    ref=projectBranchV1,\n",
    "    path=ImagesFolderName+'/'+AfghanHoundFileName)"
   ]
  },
  {
   "cell_type": "markdown",
   "metadata": {
    "application/vnd.databricks.v1+cell": {
     "cellMetadata": {},
     "inputWidgets": {},
     "nuid": "447be178-db3d-4bba-82ca-357e8fcc1970",
     "showTitle": false,
     "title": ""
    }
   },
   "source": [
    "## Add v1 tag for future use. You can also run your model by using this tag."
   ]
  },
  {
   "cell_type": "code",
   "execution_count": 0,
   "metadata": {
    "application/vnd.databricks.v1+cell": {
     "cellMetadata": {
      "byteLimit": 2048000,
      "rowLimit": 10000
     },
     "inputWidgets": {},
     "nuid": "f2354cb7-de0b-4534-ba6a-26752c1005c2",
     "showTitle": false,
     "title": ""
    }
   },
   "outputs": [],
   "source": [
    "import datetime\n",
    "tagV1 = datetime.datetime.now().strftime(\"%Y_%m_%d\")+f\"_{projectBranchV1}\"\n",
    "\n",
    "client.tags.create_tag(\n",
    "    repository=repo,\n",
    "    tag_creation=models.TagCreation(\n",
    "        id=tagV1, \n",
    "        ref=projectBranchV1))"
   ]
  },
  {
   "cell_type": "markdown",
   "metadata": {
    "application/vnd.databricks.v1+cell": {
     "cellMetadata": {},
     "inputWidgets": {},
     "nuid": "bbafe0a3-bd06-4a61-9d4c-255d5e68240d",
     "showTitle": false,
     "title": ""
    }
   },
   "source": [
    "## Create Project v2 branch sourced from v1 branch"
   ]
  },
  {
   "cell_type": "code",
   "execution_count": 0,
   "metadata": {
    "application/vnd.databricks.v1+cell": {
     "cellMetadata": {
      "byteLimit": 2048000,
      "rowLimit": 10000
     },
     "inputWidgets": {},
     "nuid": "7c10b1ba-b83a-4506-abd2-f5c0c854fc76",
     "showTitle": false,
     "title": ""
    }
   },
   "outputs": [],
   "source": [
    "version = \"v2\""
   ]
  },
  {
   "cell_type": "code",
   "execution_count": 0,
   "metadata": {
    "application/vnd.databricks.v1+cell": {
     "cellMetadata": {
      "byteLimit": 2048000,
      "rowLimit": 10000
     },
     "inputWidgets": {},
     "nuid": "8778ebfc-a040-4a0c-a393-c08447357c58",
     "showTitle": false,
     "title": ""
    }
   },
   "outputs": [],
   "source": [
    "projectBranchV2 = \"project\"+classLabel+\"_\"+version\n",
    "\n",
    "client.branches.create_branch(\n",
    "    repository=repo,\n",
    "    branch_creation=models.BranchCreation(\n",
    "        name=projectBranchV2,\n",
    "        source=projectBranchV1))"
   ]
  },
  {
   "cell_type": "markdown",
   "metadata": {
    "application/vnd.databricks.v1+cell": {
     "cellMetadata": {},
     "inputWidgets": {},
     "nuid": "3730a830-66ce-43a2-a66d-f44a1865004e",
     "showTitle": false,
     "title": ""
    }
   },
   "source": [
    "## Some of images changed"
   ]
  },
  {
   "cell_type": "markdown",
   "metadata": {
    "application/vnd.databricks.v1+cell": {
     "cellMetadata": {},
     "inputWidgets": {},
     "nuid": "0f68d863-22c4-493d-8028-951005f1d6bb",
     "showTitle": false,
     "title": ""
    }
   },
   "source": [
    "## Changed images"
   ]
  },
  {
   "cell_type": "markdown",
   "metadata": {
    "application/vnd.databricks.v1+cell": {
     "cellMetadata": {},
     "inputWidgets": {},
     "nuid": "d11b1a2f-b0d7-4fba-859d-205380e1553f",
     "showTitle": false,
     "title": ""
    }
   },
   "source": [
    "<img src=\"https://raw.githubusercontent.com/treeverse/lakeFS-samples/main/01_standalone_examples/azure-databricks/data/stanforddogsdataset/changed/Images/n02089867-Walker_hound/n02089867_24.jpg\" width=150/>\n",
    "<img src=\"https://raw.githubusercontent.com/treeverse/lakeFS-samples/main/01_standalone_examples/azure-databricks/data/stanforddogsdataset/changed/Images/n02089867-Walker_hound/n02089867_31.jpg\" width=295/>\n",
    "<img src=\"https://raw.githubusercontent.com/treeverse/lakeFS-samples/main/01_standalone_examples/azure-databricks/data/stanforddogsdataset/changed/Images/n02089867-Walker_hound/n02089867_42.jpg\" width=295/>\n",
    "<img src=\"https://raw.githubusercontent.com/treeverse/lakeFS-samples/main/01_standalone_examples/azure-databricks/data/stanforddogsdataset/changed/Images/n02089867-Walker_hound/n02089867_55.jpg\" width=295/>\n",
    "<img src=\"https://raw.githubusercontent.com/treeverse/lakeFS-samples/main/01_standalone_examples/azure-databricks/data/stanforddogsdataset/changed/Images/n02089867-Walker_hound/n02089867_90.jpg\" width=295/>"
   ]
  },
  {
   "cell_type": "markdown",
   "metadata": {
    "application/vnd.databricks.v1+cell": {
     "cellMetadata": {},
     "inputWidgets": {},
     "nuid": "df7bba40-4d6c-4f58-8c50-260a49299904",
     "showTitle": false,
     "title": ""
    }
   },
   "source": [
    "## Upload changed annotations and images"
   ]
  },
  {
   "cell_type": "code",
   "execution_count": 0,
   "metadata": {
    "application/vnd.databricks.v1+cell": {
     "cellMetadata": {
      "byteLimit": 2048000,
      "rowLimit": 10000
     },
     "inputWidgets": {},
     "nuid": "44dbb4f5-88f6-46f7-ac77-cf7bc191f128",
     "showTitle": false,
     "title": ""
    }
   },
   "outputs": [],
   "source": [
    "paths=[\n",
    "    models.ImportLocation(type=\"common_prefix\", path=bucketURLforChangedImages+'/'+AnnotationsFolderName+'/'+WalkerHoundSourcePath, destination=AnnotationsFolderName),\n",
    "    models.ImportLocation(type=\"common_prefix\", path=bucketURLforChangedImages+'/'+ImagesFolderName+'/'+WalkerHoundSourcePath, destination=ImagesFolderName),\n",
    "]\n",
    "commitMessage='Uploaded changed annotation and images for class label ending with '+classLabel+' and version '+version\n",
    "commitMetadata={'classLabel': classLabel, 'version': version}\n",
    "import_objects(repo, projectBranchV2, paths, commitMessage, commitMetadata)"
   ]
  },
  {
   "cell_type": "markdown",
   "metadata": {
    "application/vnd.databricks.v1+cell": {
     "cellMetadata": {},
     "inputWidgets": {},
     "nuid": "1ccb99e0-455f-47d7-bac0-1aba2173bfdb",
     "showTitle": false,
     "title": ""
    }
   },
   "source": [
    "## Review commit log"
   ]
  },
  {
   "cell_type": "code",
   "execution_count": 0,
   "metadata": {
    "application/vnd.databricks.v1+cell": {
     "cellMetadata": {
      "byteLimit": 2048000,
      "rowLimit": 10000
     },
     "inputWidgets": {},
     "nuid": "76debfc4-99c5-4bbf-aa1a-0ad975d6380b",
     "showTitle": false,
     "title": ""
    }
   },
   "outputs": [],
   "source": [
    "results = map(\n",
    "    lambda n:[n.message,n.metadata,n.id],\n",
    "    client.refs.log_commits(\n",
    "        repository=repo,\n",
    "        ref=projectBranchV2).results)\n",
    "\n",
    "from tabulate import tabulate\n",
    "print(tabulate(\n",
    "    results,\n",
    "    headers=['Message','Metadata','Commit Id']))"
   ]
  },
  {
   "cell_type": "markdown",
   "metadata": {
    "application/vnd.databricks.v1+cell": {
     "cellMetadata": {},
     "inputWidgets": {},
     "nuid": "372d22ff-677f-44e5-9422-b2035dd36ba6",
     "showTitle": false,
     "title": ""
    }
   },
   "source": [
    "## Add v2 tag for future use. You can also run your model by using this tag."
   ]
  },
  {
   "cell_type": "code",
   "execution_count": 0,
   "metadata": {
    "application/vnd.databricks.v1+cell": {
     "cellMetadata": {
      "byteLimit": 2048000,
      "rowLimit": 10000
     },
     "inputWidgets": {},
     "nuid": "08e4cc12-b4cd-4fa0-bd3b-d2c33ec3ffa7",
     "showTitle": false,
     "title": ""
    }
   },
   "outputs": [],
   "source": [
    "tagV2 = datetime.datetime.now().strftime(\"%Y_%m_%d\")+f\"_{projectBranchV2}\"\n",
    "\n",
    "client.tags.create_tag(\n",
    "    repository=repo,\n",
    "    tag_creation=models.TagCreation(\n",
    "        id=tagV2, \n",
    "        ref=projectBranchV2))"
   ]
  },
  {
   "cell_type": "markdown",
   "metadata": {
    "application/vnd.databricks.v1+cell": {
     "cellMetadata": {},
     "inputWidgets": {},
     "nuid": "374b1846-0d11-4acd-bcb8-5be7e030afa0",
     "showTitle": false,
     "title": ""
    }
   },
   "source": [
    "## Get image stats using v1 tag"
   ]
  },
  {
   "cell_type": "code",
   "execution_count": 0,
   "metadata": {
    "application/vnd.databricks.v1+cell": {
     "cellMetadata": {
      "byteLimit": 2048000,
      "rowLimit": 10000
     },
     "inputWidgets": {},
     "nuid": "e79cd809-7f4c-4793-8814-37f116241a30",
     "showTitle": false,
     "title": ""
    }
   },
   "outputs": [],
   "source": [
    "client.objects.stat_object(\n",
    "    repository=repo,\n",
    "    ref=tagV1,\n",
    "    path=ImagesFolderName+'/'+WalkerHoundFileName)"
   ]
  },
  {
   "cell_type": "markdown",
   "metadata": {
    "application/vnd.databricks.v1+cell": {
     "cellMetadata": {},
     "inputWidgets": {},
     "nuid": "c4be8ee8-c917-4fd3-bf0c-4a85166f27d0",
     "showTitle": false,
     "title": ""
    }
   },
   "source": [
    "## Get image stats using v2 tag"
   ]
  },
  {
   "cell_type": "code",
   "execution_count": 0,
   "metadata": {
    "application/vnd.databricks.v1+cell": {
     "cellMetadata": {
      "byteLimit": 2048000,
      "rowLimit": 10000
     },
     "inputWidgets": {},
     "nuid": "7bc46884-db3d-438c-b915-e5b2863d38c2",
     "showTitle": false,
     "title": ""
    }
   },
   "outputs": [],
   "source": [
    "client.objects.stat_object(\n",
    "    repository=repo,\n",
    "    ref=tagV2,\n",
    "    path=ImagesFolderName+'/'+WalkerHoundFileName)"
   ]
  },
  {
   "cell_type": "markdown",
   "metadata": {
    "application/vnd.databricks.v1+cell": {
     "cellMetadata": {},
     "inputWidgets": {},
     "nuid": "0ff138b8-a7a6-461c-bf25-6f4f372e2985",
     "showTitle": false,
     "title": ""
    }
   },
   "source": [
    "## Diff between v1 and v2 project branch"
   ]
  },
  {
   "cell_type": "code",
   "execution_count": 0,
   "metadata": {
    "application/vnd.databricks.v1+cell": {
     "cellMetadata": {
      "byteLimit": 2048000,
      "rowLimit": 10000
     },
     "inputWidgets": {},
     "nuid": "b66021ba-97cb-4dda-a69b-bf17c90c045b",
     "showTitle": false,
     "title": ""
    }
   },
   "outputs": [],
   "source": [
    "results = map(\n",
    "    lambda n:[n.path,n.path_type,n.size_bytes,n.type],\n",
    "    client.refs.diff_refs(\n",
    "        repository=repo,\n",
    "        left_ref=projectBranchV1,\n",
    "        right_ref=projectBranchV2).results)\n",
    "\n",
    "from tabulate import tabulate\n",
    "print(tabulate(\n",
    "    results,\n",
    "    headers=['Path','Path Type','Size(Bytes)','Type']))"
   ]
  },
  {
   "cell_type": "markdown",
   "metadata": {
    "application/vnd.databricks.v1+cell": {
     "cellMetadata": {},
     "inputWidgets": {},
     "nuid": "574e9af0-34f6-4822-8a35-c9487fe77553",
     "showTitle": false,
     "title": ""
    }
   },
   "source": [
    "## If you made mistakes then you can atomically rollback all changes\n",
    "\n",
    "### Rollback changes in v2 branch by using v2 tag"
   ]
  },
  {
   "cell_type": "code",
   "execution_count": 0,
   "metadata": {
    "application/vnd.databricks.v1+cell": {
     "cellMetadata": {
      "byteLimit": 2048000,
      "rowLimit": 10000
     },
     "inputWidgets": {},
     "nuid": "2c3ba57f-71ee-4471-bad4-06b879f26514",
     "showTitle": false,
     "title": ""
    }
   },
   "outputs": [],
   "source": [
    "client.branches.revert_branch(\n",
    "    repository=repo,\n",
    "    branch=projectBranchV2, \n",
    "    revert_creation=models.RevertCreation(\n",
    "        ref=tagV2, parent_number=1))"
   ]
  },
  {
   "cell_type": "markdown",
   "metadata": {
    "application/vnd.databricks.v1+cell": {
     "cellMetadata": {},
     "inputWidgets": {},
     "nuid": "ea0c8d0f-e552-47c5-a047-657008ffa82c",
     "showTitle": false,
     "title": ""
    }
   },
   "source": [
    "## Diff between v1 and v2 project branch"
   ]
  },
  {
   "cell_type": "code",
   "execution_count": 0,
   "metadata": {
    "application/vnd.databricks.v1+cell": {
     "cellMetadata": {
      "byteLimit": 2048000,
      "rowLimit": 10000
     },
     "inputWidgets": {},
     "nuid": "cf3676a2-3761-475f-9981-2a405a79b4fc",
     "showTitle": false,
     "title": ""
    }
   },
   "outputs": [],
   "source": [
    "results = map(\n",
    "    lambda n:[n.path,n.path_type,n.size_bytes,n.type],\n",
    "    client.refs.diff_refs(\n",
    "        repository=repo,\n",
    "        left_ref=projectBranchV1,\n",
    "        right_ref=projectBranchV2).results)\n",
    "\n",
    "from tabulate import tabulate\n",
    "print(tabulate(\n",
    "    results,\n",
    "    headers=['Path','Path Type','Size(Bytes)','Type']))"
   ]
  },
  {
   "cell_type": "markdown",
   "metadata": {
    "application/vnd.databricks.v1+cell": {
     "cellMetadata": {},
     "inputWidgets": {},
     "nuid": "9be7eea4-81ff-4b68-a6f3-d08635973975",
     "showTitle": false,
     "title": ""
    }
   },
   "source": [
    "# Project Completes"
   ]
  },
  {
   "cell_type": "markdown",
   "metadata": {
    "application/vnd.databricks.v1+cell": {
     "cellMetadata": {},
     "inputWidgets": {},
     "nuid": "952ad19d-83c2-444d-9009-fff6852255d3",
     "showTitle": false,
     "title": ""
    }
   },
   "source": [
    "## More Questions?\n",
    "\n",
    "###### Join the [lakeFS Slack group](https://lakefs.io/slack)"
   ]
  }
 ],
 "metadata": {
  "application/vnd.databricks.v1+notebook": {
   "dashboards": [],
   "language": "python",
   "notebookMetadata": {
    "pythonIndentUnit": 4
   },
   "notebookName": "Unstructured Data ML Demo",
   "widgets": {}
  },
  "kernelspec": {
   "display_name": "Python 3 (ipykernel)",
   "language": "python",
   "name": "python3"
  },
  "language_info": {
   "codemirror_mode": {
    "name": "ipython",
    "version": 3
   },
   "file_extension": ".py",
   "mimetype": "text/x-python",
   "name": "python",
   "nbconvert_exporter": "python",
   "pygments_lexer": "ipython3",
   "version": "3.10.4"
  }
 },
 "nbformat": 4,
 "nbformat_minor": 0
}
