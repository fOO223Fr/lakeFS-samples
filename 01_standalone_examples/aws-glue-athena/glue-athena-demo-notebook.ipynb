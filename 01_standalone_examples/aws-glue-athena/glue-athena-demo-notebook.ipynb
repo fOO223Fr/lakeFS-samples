{
	"metadata": {
		"kernelspec": {
			"name": "glue_pyspark",
			"display_name": "Glue PySpark",
			"language": "python"
		},
		"language_info": {
			"name": "Python_Glue_Session",
			"mimetype": "text/x-python",
			"codemirror_mode": {
				"name": "python",
				"version": 3
			},
			"pygments_lexer": "python3",
			"file_extension": ".py"
		}
	},
	"nbformat_minor": 5,
	"nbformat": 4,
	"cells": [
		{
			"cell_type": "markdown",
			"source": "# Integration of lakeFS with Glue Catalog and Athena\n\n[📚 Docs](https://docs.lakefs.io/integrations/glue_hive_metastore.html)",
			"metadata": {},
			"id": "c0941866-5ab1-46c6-ae4e-3ae228311623"
		},
		{
			"cell_type": "markdown",
			"source": "## Use Case: Isolated Dev/Test Environments",
			"metadata": {
				"tags": []
			},
			"id": "29105bda-b8b6-4bff-aaa8-7eadbacc7923"
		},
		{
			"cell_type": "markdown",
			"source": "## Config",
			"metadata": {
				"tags": []
			},
			"id": "531dde95-2a5b-4625-becf-55aaf9c496ec"
		},
		{
			"cell_type": "markdown",
			"source": "### Glue session configuration",
			"metadata": {},
			"id": "e64203a5-f381-4ded-b77c-12d1255d9625"
		},
		{
			"cell_type": "code",
			"source": "%stop_session\n%session_id_prefix 'hive-notebook-demo'\n%idle_timeout 120\n%glue_version 4.0\n%worker_type G.1X\n%number_of_workers 2\n\n%additional_python_modules 'lakefs-client'",
			"metadata": {
				"trusted": true,
				"tags": []
			},
			"execution_count": null,
			"outputs": [],
			"id": "6721d3eb-5fa2-4310-9e11-fdc9056912d2"
		},
		{
			"cell_type": "markdown",
			"source": "### lakeFS endpoint and credentials",
			"metadata": {},
			"id": "61c5aea5-5195-4caa-a535-95b9bab8a1be"
		},
		{
			"cell_type": "code",
			"source": "lakefsEndPoint = '<lakeFS Endpoint URL>' # e.g. 'https://username.aws_region_name.lakefscloud.io' \nlakefsAccessKey = '<lakeFS Access Key>'\nlakefsSecretKey = '<lakeFS Secret Key>'",
			"metadata": {
				"trusted": true,
				"tags": []
			},
			"execution_count": null,
			"outputs": [],
			"id": "79a78d9a-10b0-4ffa-b501-213876abe1ad"
		},
		{
			"cell_type": "markdown",
			"source": "### Object Storage",
			"metadata": {
				"tags": []
			},
			"id": "31ca7f50-bd3d-4a86-a4ed-30066b42c971"
		},
		{
			"cell_type": "code",
			"source": "storageNamespace = 's3://<Bucket Name>' # e.g. 's3://bucket'",
			"metadata": {
				"trusted": true,
				"tags": []
			},
			"execution_count": null,
			"outputs": [],
			"id": "f6a5b298-1879-4441-a607-0e64289bf90e"
		},
		{
			"cell_type": "markdown",
			"source": "### Glue Catalog Information",
			"metadata": {},
			"id": "5943c930-837a-452b-9a50-7a60f7d2ec9c"
		},
		{
			"cell_type": "code",
			"source": "glueDatabaseName = \"glue_hive_demo\" # This notebook will create this database\nglueCatalogId = \"<Glue Catalog ID or AWS Account ID>\"",
			"metadata": {
				"trusted": true,
				"tags": []
			},
			"execution_count": null,
			"outputs": [],
			"id": "bcca1120-7b55-48dc-809a-0d241b2b4048"
		},
		{
			"cell_type": "markdown",
			"source": "### Athena Information",
			"metadata": {},
			"id": "9157c75f-97fa-406c-b7a3-435f9dad4f40"
		},
		{
			"cell_type": "code",
			"source": "awsRegion = '<AWS Region>' # e.g. 'us-east-1'\nBucketNameForAthenaOutput = '<Bucket Name to store Athena Output>'\nFolderNameForAthenaOutput = 'lakefs-glue-demo'",
			"metadata": {
				"trusted": true,
				"tags": []
			},
			"execution_count": null,
			"outputs": [],
			"id": "db9a490a-ee18-4241-9cb9-58c9c684eeb1"
		},
		{
			"cell_type": "markdown",
			"source": "### Install and configure lakectl (lakeFS command-line tool): https://docs.lakefs.io/reference/cli.html",
			"metadata": {},
			"id": "71929b1b-04c4-4bca-9eeb-49fffe382331"
		},
		{
			"cell_type": "markdown",
			"source": "### Add following in .lakectl.yaml (change AWS region and profile name)",
			"metadata": {},
			"id": "571aedaf-a7e6-41e8-82a6-8dd7315986fc"
		},
		{
			"cell_type": "code",
			"source": "metastore:\n  type: glue\n  glue:\n    region: <AWS Region>\n    profile: <Profile Name for AWS CLI>",
			"metadata": {
				"trusted": true,
				"tags": []
			},
			"execution_count": null,
			"outputs": [],
			"id": "d9561833-d619-4c21-abbf-7db8e0ecf3d0"
		},
		{
			"cell_type": "markdown",
			"source": "---",
			"metadata": {},
			"id": "853dd30d-ec0e-4302-9dd2-97c4fa21257e"
		},
		{
			"cell_type": "markdown",
			"source": "## Setup\n\n**(you shouldn't need to change anything in this section, just run it)**",
			"metadata": {
				"tags": []
			},
			"id": "7e8191ce-2e9a-4eda-a107-ae99659a5397"
		},
		{
			"cell_type": "code",
			"source": "repo_name = \"glue-hive-demo\"",
			"metadata": {
				"trusted": true,
				"tags": []
			},
			"execution_count": null,
			"outputs": [],
			"id": "a45fbab3-5f98-46ad-8e12-9021ed2bf81a"
		},
		{
			"cell_type": "markdown",
			"source": "### Create lakeFSClient",
			"metadata": {
				"tags": []
			},
			"id": "eaa5bb3f-7432-4637-bc8e-68159bdcb969"
		},
		{
			"cell_type": "code",
			"source": "import lakefs_client\nfrom lakefs_client.models import *\nfrom lakefs_client.client import LakeFSClient\n\n# lakeFS credentials and endpoint\nconfiguration = lakefs_client.Configuration()\nconfiguration.username = lakefsAccessKey\nconfiguration.password = lakefsSecretKey\nconfiguration.host = lakefsEndPoint\n\nlakefs = LakeFSClient(configuration)",
			"metadata": {
				"trusted": true,
				"tags": []
			},
			"execution_count": null,
			"outputs": [],
			"id": "4795b1e7-761e-4f7a-840b-982f99ff3c6a"
		},
		{
			"cell_type": "markdown",
			"source": "### Define lakeFS Repository",
			"metadata": {},
			"id": "e1c3ca40-a690-4885-90f9-fc7c069c66c5"
		},
		{
			"cell_type": "code",
			"source": "from lakefs_client.exceptions import NotFoundException\n\ntry:\n    repo=lakefs.repositories.get_repository(repo_name)\n    print(f\"Found existing repo {repo.id} using storage namespace {repo.storage_namespace}\")\nexcept NotFoundException as f:\n    print(f\"Repository {repo_name} does not exist, so going to try and create it now.\")\n    try:\n        repo=lakefs.repositories.create_repository(repository_creation=RepositoryCreation(name=repo_name,\n                                                                                                storage_namespace=f\"{storageNamespace}/{repo_name}\"))\n        print(f\"Created new repo {repo.id} using storage namespace {repo.storage_namespace}\")\n    except lakefs_client.ApiException as e:\n        print(f\"Error creating repo {repo_name}. Error is {e}\")\n        os._exit(00)\nexcept lakefs_client.ApiException as e:\n    print(f\"Error getting repo {repo_name}: {e}\")\n    os._exit(00)",
			"metadata": {
				"trusted": true,
				"tags": []
			},
			"execution_count": null,
			"outputs": [],
			"id": "384aa4d3-038a-4a56-b30e-c536e3911478"
		},
		{
			"cell_type": "markdown",
			"source": "### Set up Spark",
			"metadata": {},
			"id": "f0a012b1-a70b-4d76-b433-94d9f4610a61"
		},
		{
			"cell_type": "code",
			"source": "spark.sparkContext._jsc.hadoopConfiguration().set(\"fs.s3.impl\",\"org.apache.hadoop.fs.s3a.S3AFileSystem\")\nspark.sparkContext._jsc.hadoopConfiguration().set(\"fs.s3a.secret.key\",lakefsSecretKey)\nspark.sparkContext._jsc.hadoopConfiguration().set(\"fs.s3a.endpoint\",lakefsEndPoint)\nspark.sparkContext._jsc.hadoopConfiguration().set(\"fs.s3a.access.key\",lakefsAccessKey)\nspark.sparkContext._jsc.hadoopConfiguration().set(\"fs.s3a.path.style.access\",\"true\")",
			"metadata": {
				"trusted": true,
				"tags": []
			},
			"execution_count": null,
			"outputs": [],
			"id": "e2066714-11ca-422f-b809-053ca6d6add5"
		},
		{
			"cell_type": "markdown",
			"source": "### Import some libraries",
			"metadata": {},
			"id": "e296a82a-8bf4-47c5-8f70-ddcdd63e7557"
		},
		{
			"cell_type": "code",
			"source": "from pyspark.sql.types import ByteType, IntegerType, LongType, StringType, StructType, StructField\nfrom pyspark.sql.functions import *",
			"metadata": {
				"trusted": true,
				"tags": []
			},
			"execution_count": null,
			"outputs": [],
			"id": "4af4efb6-1207-491f-a37b-e8d030c2ecf1"
		},
		{
			"cell_type": "markdown",
			"source": "### Versioning Information",
			"metadata": {},
			"id": "843fd92b-bb0b-462c-b1c7-0eea5e403396"
		},
		{
			"cell_type": "code",
			"source": "mainBranch = \"main\"\nglueTestBranch = \"glue_test_branch\"\ncustomersTable = \"customers\"\nordersTable = \"orders\"",
			"metadata": {
				"trusted": true,
				"tags": []
			},
			"execution_count": null,
			"outputs": [],
			"id": "557e4076-0019-4c67-bb35-e08aa3467e7d"
		},
		{
			"cell_type": "markdown",
			"source": "### Create Glue Database",
			"metadata": {},
			"id": "4b50eb2c-d309-4654-bbf1-eb9f711f7957"
		},
		{
			"cell_type": "code",
			"source": "spark.sql(f\"CREATE DATABASE IF NOT EXISTS {glueDatabaseName}\").show()",
			"metadata": {
				"trusted": true,
				"tags": []
			},
			"execution_count": null,
			"outputs": [],
			"id": "2e57435e-d05e-4d9f-8082-c149874381ec"
		},
		{
			"cell_type": "markdown",
			"source": "### Define some helper functions",
			"metadata": {},
			"id": "1c05db5e-a09c-44b9-8cac-1c34aaa5e552"
		},
		{
			"cell_type": "code",
			"source": "def print_diff_refs(diff_refs):\n    results = map(\n        lambda n:[n.path,n.path_type,n.size_bytes,n.type],\n        diff_refs.results)\n    return results",
			"metadata": {
				"trusted": true,
				"tags": []
			},
			"execution_count": null,
			"outputs": [],
			"id": "f6375c6e-de1e-4abb-86d2-e53397606aed"
		},
		{
			"cell_type": "code",
			"source": "import boto3\nimport pandas as pd\n\ns3 = boto3.resource('s3')\ns3_client = boto3.client('s3')\nathena_client = boto3.client(service_name='athena', region_name=awsRegion)\n\ndef run_query(client, query):\n    response = client.start_query_execution(\n        QueryString=query,\n        QueryExecutionContext={ 'Database': glueDatabaseName },\n        ResultConfiguration={ 'OutputLocation': 's3://{}/{}/'.format(BucketNameForAthenaOutput, FolderNameForAthenaOutput) },\n    )\n    return response\n\ndef validate_query(client, query_id):\n    resp = [\"FAILED\", \"SUCCEEDED\", \"CANCELLED\"]\n    response = client.get_query_execution(QueryExecutionId=query_id)\n    # wait until query finishes\n    while response[\"QueryExecution\"][\"Status\"][\"State\"] not in resp:\n        response = client.get_query_execution(QueryExecutionId=query_id)\n\n    return response[\"QueryExecution\"][\"Status\"][\"State\"]\n\ndef execute_athena_query(query):\n    print('start query: {}\\n'.format(query))\n    qe = run_query(athena_client, query)\n    qstate = validate_query(athena_client, qe[\"QueryExecutionId\"])\n    print('query state: {}\\n'.format(qstate))\n\n    file_name = \"{}/{}.csv\".format(FolderNameForAthenaOutput, qe[\"QueryExecutionId\"])\n    obj = s3_client.get_object(Bucket=BucketNameForAthenaOutput, Key=file_name)\n    return pd.read_csv(obj['Body'])",
			"metadata": {
				"trusted": true,
				"tags": []
			},
			"execution_count": null,
			"outputs": [],
			"id": "a9d5cdf4-4ac4-4e8d-8698-96dd4d417dd1"
		},
		{
			"cell_type": "markdown",
			"source": "### Define CUSTOMER.csv data file schema",
			"metadata": {},
			"id": "2377bae1-0cc2-4334-b36c-41fd17c93eba"
		},
		{
			"cell_type": "code",
			"source": "customersSchema = StructType([\n  StructField(\"Customer_ID\", IntegerType(), False),\n  StructField(\"Country\", StringType(), False),\n  StructField(\"Gender\", StringType(), False),\n  StructField(\"Personal_ID\", IntegerType(), True),\n  StructField(\"Customer_Name\", StringType(), False),\n  StructField(\"Customer_FirstName\", StringType(), False),\n  StructField(\"Customer_LastName\", StringType(), False),\n  StructField(\"Birth_Date\", StringType(), False),\n  StructField(\"Customer_Address\", StringType(), False),\n  StructField(\"Street_ID\", LongType(), False),\n  StructField(\"Street_Number\", IntegerType(), False),\n  StructField(\"Customer_Type_ID\", IntegerType(), False)\n])",
			"metadata": {
				"trusted": true,
				"tags": []
			},
			"execution_count": null,
			"outputs": [],
			"id": "0e42f399-19b7-4def-9988-916a7f8ba067"
		},
		{
			"cell_type": "code",
			"source": "customersSchemaForGlue = \"Customer_ID int, \\\n  Country string, \\\n  Gender string, \\\n  Personal_ID int, \\\n  Customer_Name string, \\\n  Customer_FirstName string, \\\n  Customer_LastName string, \\\n  Birth_Date string, \\\n  Customer_Address string, \\\n  Street_ID long, \\\n  Street_Number int, \\\n  Customer_Type_ID int\"",
			"metadata": {
				"trusted": true,
				"tags": []
			},
			"execution_count": null,
			"outputs": [],
			"id": "881f8291-2243-4dd3-b907-f2c66ea20563"
		},
		{
			"cell_type": "markdown",
			"source": "### Define ORDER_FACT.csv data file schema",
			"metadata": {},
			"id": "cd6c69ac-32a2-4efa-bcc5-8bf5aa8fe867"
		},
		{
			"cell_type": "code",
			"source": "ordersSchema = StructType([\n  StructField(\"Customer_ID\", IntegerType(), False),\n  StructField(\"Employee_ID\", IntegerType(), False),\n  StructField(\"Street_ID\", LongType(), False),\n  StructField(\"Order_Date\", StringType(), False),\n  StructField(\"Delivery_Date\", StringType(), False),\n  StructField(\"Order_ID\", LongType(), True),\n  StructField(\"Order_Type\", ByteType(), False),\n  StructField(\"Product_ID\", LongType(), False),\n  StructField(\"Quantity\", ByteType(), False),\n  StructField(\"Total_Retail_Price\", StringType(), False),\n  StructField(\"CostPrice_Per_Unit\", StringType(), False),\n  StructField(\"Discount\", LongType(), False)\n])",
			"metadata": {
				"trusted": true,
				"tags": []
			},
			"execution_count": null,
			"outputs": [],
			"id": "6076bbcf-3bb2-4261-944a-0796304dea89"
		},
		{
			"cell_type": "code",
			"source": "ordersSchemaForGlue = \"Customer_ID int, \\\n  Employee_ID int, \\\n  Street_ID long, \\\n  Order_Date string, \\\n  Delivery_Date string, \\\n  Order_ID long, \\\n  Order_Type int, \\\n  Product_ID long, \\\n  Quantity int, \\\n  Total_Retail_Price string, \\\n  CostPrice_Per_Unit string, \\\n  Discount long\"",
			"metadata": {
				"trusted": true,
				"tags": []
			},
			"execution_count": null,
			"outputs": [],
			"id": "38cefab1-6b14-4a5f-9695-4c54ed13280a"
		},
		{
			"cell_type": "markdown",
			"source": "---",
			"metadata": {},
			"id": "25ea2edb-6c7e-46b9-9aea-fa15952cf3cb"
		},
		{
			"cell_type": "markdown",
			"source": "# Main demo starts here 🚦 👇🏻",
			"metadata": {},
			"id": "406d9862-c34a-4281-80dc-32d15dc446b3"
		},
		{
			"cell_type": "markdown",
			"source": "For this demo - we'll be utilizing a dataset - [Orion Star - Sports and outdoors RDBMS dataset](https://www.kaggle.com/datasets/chethanp11/orion-star-sports-and-outdoors-rdbms-dataset) from [Kaggle](https://www.kaggle.com/).",
			"metadata": {},
			"id": "cbc87fa4-3d84-4c13-a612-b2f14d15d4e6"
		},
		{
			"cell_type": "markdown",
			"source": "## Run following command on your computer to clone lakeFS samples repo along with sample data used by this notebook:",
			"metadata": {},
			"id": "d70fb771-6b77-4905-924e-439329b03716"
		},
		{
			"cell_type": "markdown",
			"source": "### git clone https://github.com/treeverse/lakeFS-samples.git",
			"metadata": {},
			"id": "93deb103-a2df-4a0e-85c7-9c6570d84b26"
		},
		{
			"cell_type": "markdown",
			"source": "## Print the command and run it on your computer to upload sample data to lakeFS repository",
			"metadata": {},
			"id": "d3979d6e-de31-43d0-b12d-b9b33580cb64"
		},
		{
			"cell_type": "code",
			"source": "print(f\"cd lakeFS-samples && lakectl fs upload -s ./data/OrionStar lakefs://{repo.id}/main/ --recursive && lakectl commit lakefs://{repo.id}/main -m 'Uploaded sample data'\")",
			"metadata": {
				"trusted": true,
				"tags": []
			},
			"execution_count": null,
			"outputs": [],
			"id": "fffbd19b-38c6-44e3-ae7e-e28fcd86bdeb"
		},
		{
			"cell_type": "markdown",
			"source": "## Create Customers table in the main branch (using [CUSTOMER.csv](./data/samples/OrionStar/CUSTOMER.csv) file)",
			"metadata": {},
			"id": "b1577257-81b2-4971-bafb-5aabfd1e603e"
		},
		{
			"cell_type": "code",
			"source": "customersTablePath = f\"s3a://{repo.id}/{mainBranch}/{customersTable}\"\nprint(customersTablePath)",
			"metadata": {
				"trusted": true,
				"tags": []
			},
			"execution_count": null,
			"outputs": [],
			"id": "7229f90d-accb-4f8f-9713-50cd7c8044b5"
		},
		{
			"cell_type": "markdown",
			"source": "#### Register table in Glue catalog",
			"metadata": {},
			"id": "c944ce0b-10ea-4990-9f02-a92354c9849c"
		},
		{
			"cell_type": "code",
			"source": "spark.sql(f\" \\\n          CREATE EXTERNAL TABLE IF NOT EXISTS {glueDatabaseName}.{customersTable}( \\\n              {customersSchemaForGlue} \\\n          ) \\\n          LOCATION \\\n              '{customersTablePath}' \\\n          \").show()",
			"metadata": {
				"trusted": true,
				"tags": []
			},
			"execution_count": null,
			"outputs": [],
			"id": "be4d39f9-4ef8-4d25-8885-d2a661a027e8"
		},
		{
			"cell_type": "markdown",
			"source": "#### Read CSV file and create Hive table",
			"metadata": {},
			"id": "be593469-8b0a-4a66-ac45-0d77c74808e4"
		},
		{
			"cell_type": "code",
			"source": "df = spark.read.csv(f\"s3a://{repo.id}/{mainBranch}/data/OrionStar/CUSTOMER.csv\",header=True,schema=customersSchema)\ndf.write.format(\"hive\").mode(\"append\").saveAsTable(f\"{glueDatabaseName}.{customersTable}\")\ndf.show(10)",
			"metadata": {
				"trusted": true,
				"tags": []
			},
			"execution_count": null,
			"outputs": [],
			"id": "b3eecdfe-ecf0-4947-9feb-acfae738842f"
		},
		{
			"cell_type": "markdown",
			"source": "## Create Orders delta table in the main branch (using [ORDER_FACT.csv](./data/samples/OrionStar/ORDER_FACT.csv) file)",
			"metadata": {},
			"id": "68e404d3-982f-48d3-a96c-b8bf566dab68"
		},
		{
			"cell_type": "code",
			"source": "ordersTablePath = f\"s3a://{repo.id}/{mainBranch}/{ordersTable}\"\nprint(ordersTablePath)",
			"metadata": {
				"trusted": true,
				"tags": []
			},
			"execution_count": null,
			"outputs": [],
			"id": "7b3008da-edc3-41c8-810c-4761ddb414d3"
		},
		{
			"cell_type": "markdown",
			"source": "#### Register table in Glue catalog",
			"metadata": {},
			"id": "413169c4-9335-45b8-912f-6ec050fb541c"
		},
		{
			"cell_type": "code",
			"source": "spark.sql(f\" \\\n          CREATE EXTERNAL TABLE IF NOT EXISTS {glueDatabaseName}.{ordersTable}( \\\n              {ordersSchemaForGlue} \\\n          ) \\\n          LOCATION \\\n              '{ordersTablePath}' \\\n          \").show()",
			"metadata": {
				"trusted": true,
				"tags": []
			},
			"execution_count": null,
			"outputs": [],
			"id": "2ac48dc5-f841-4c06-9156-55b4bd4d606f"
		},
		{
			"cell_type": "markdown",
			"source": "#### Read CSV file and create Hive table",
			"metadata": {},
			"id": "f29db171-c720-47b8-9f85-dfde73318df1"
		},
		{
			"cell_type": "code",
			"source": "df = spark.read.csv(f\"s3a://{repo.id}/{mainBranch}/data/OrionStar/ORDER_FACT.csv\",header=True,schema=ordersSchema)\ndf.write.format(\"hive\").mode(\"append\").saveAsTable(f\"{glueDatabaseName}.{ordersTable}\")\ndf.show(10)",
			"metadata": {
				"trusted": true,
				"tags": []
			},
			"execution_count": null,
			"outputs": [],
			"id": "172e822c-efb9-4879-b8a6-dd6879f6cf23"
		},
		{
			"cell_type": "markdown",
			"source": "## Commit changes and attach some metadata",
			"metadata": {},
			"id": "b763c2a9-561c-447c-ae2b-0b8fa13fedb0"
		},
		{
			"cell_type": "code",
			"source": "lakefs.commits.commit(\n    repository=repo.id,\n    branch=mainBranch,\n    commit_creation=CommitCreation(\n        message='Added customers and orders Delta tables!', \n        metadata={'using': 'python_api'}))",
			"metadata": {
				"trusted": true,
				"tags": []
			},
			"execution_count": null,
			"outputs": [],
			"id": "d87a83ee-8547-4ed0-81a6-637f6f01838d"
		},
		{
			"cell_type": "markdown",
			"source": "## Print the commands and run it on your computer to create symlink so you can query the tables via Athena",
			"metadata": {},
			"id": "e3eadb6c-68ca-435f-968e-6194f2843231"
		},
		{
			"cell_type": "code",
			"source": "print(f\"lakectl metastore create-symlink \\\n--repo {repo.id} \\\n--branch {mainBranch} \\\n--path {customersTable} \\\n--from-client-type glue \\\n--catalog-id {glueCatalogId} \\\n--from-schema {glueDatabaseName} \\\n--from-table {customersTable} \\\n--to-schema {glueDatabaseName} \\\n--to-table {customersTable} \\\n\")",
			"metadata": {
				"trusted": true,
				"tags": []
			},
			"execution_count": null,
			"outputs": [],
			"id": "4b80a926-36ee-4786-8cd0-d030fb501109"
		},
		{
			"cell_type": "code",
			"source": "print(f\"lakectl metastore create-symlink \\\n--repo {repo.id} \\\n--branch {mainBranch} \\\n--path {ordersTable} \\\n--from-client-type glue \\\n--catalog-id {glueCatalogId} \\\n--from-schema {glueDatabaseName} \\\n--from-table {ordersTable} \\\n--to-schema {glueDatabaseName} \\\n--to-table {ordersTable} \\\n\")",
			"metadata": {
				"trusted": true,
				"tags": []
			},
			"execution_count": null,
			"outputs": [],
			"id": "8337d885-048c-45a7-ac1d-81b337e21903"
		},
		{
			"cell_type": "markdown",
			"source": "## Execute Athena query to read the data",
			"metadata": {},
			"id": "f1ad229b-51da-4c1b-82d7-d30916a287ce"
		},
		{
			"cell_type": "code",
			"source": "print(execute_athena_query(f'SELECT * FROM \"{glueDatabaseName}\".\"{customersTable}\"'))",
			"metadata": {
				"trusted": true,
				"tags": []
			},
			"execution_count": null,
			"outputs": [],
			"id": "1ae488a3-61a8-4380-a220-35b68064b418"
		},
		{
			"cell_type": "markdown",
			"source": "# 🟢 ETL Job Starts",
			"metadata": {},
			"id": "63ec287f-b340-43be-983f-fad43b024ac5"
		},
		{
			"cell_type": "markdown",
			"source": "## Create a new branch",
			"metadata": {},
			"id": "5fa6a1a9-70c2-4416-b860-97aa1c2a6dfa"
		},
		{
			"cell_type": "code",
			"source": "lakefs.branches.create_branch(\n    repository=repo.id, \n    branch_creation=BranchCreation(\n        name=glueTestBranch, source=mainBranch))",
			"metadata": {
				"trusted": true,
				"tags": []
			},
			"execution_count": null,
			"outputs": [],
			"id": "9d7daab4-0479-4635-9d8b-9985298a9098"
		},
		{
			"cell_type": "markdown",
			"source": "### Create Glue Database for the new brach",
			"metadata": {},
			"id": "fcf3ef86-c103-4de9-b04c-b6ac61751e4e"
		},
		{
			"cell_type": "code",
			"source": "spark.sql(f\"CREATE DATABASE IF NOT EXISTS {glueDatabaseName}_{glueTestBranch}\").show()",
			"metadata": {
				"trusted": true,
				"tags": []
			},
			"execution_count": null,
			"outputs": [],
			"id": "b03f0eef-ba6b-423d-b225-49b5dc7958c0"
		},
		{
			"cell_type": "markdown",
			"source": "## Create external tables for the new branch",
			"metadata": {},
			"id": "4a03cb9f-a949-460a-b47d-ebd2ff10f068"
		},
		{
			"cell_type": "code",
			"source": "customersTablePathETLBranch = f\"s3a://{repo.id}/{glueTestBranch}/{customersTable}\"\nprint(customersTablePathETLBranch)",
			"metadata": {
				"trusted": true,
				"tags": []
			},
			"execution_count": null,
			"outputs": [],
			"id": "cad37266-068c-419f-83f2-74ad35a35ffc"
		},
		{
			"cell_type": "code",
			"source": "spark.sql(f\" \\\n          CREATE EXTERNAL TABLE IF NOT EXISTS {glueDatabaseName}_{glueTestBranch}.{customersTable}( \\\n              {customersSchemaForGlue} \\\n          ) \\\n          LOCATION \\\n              '{customersTablePathETLBranch}' \\\n          \").show()",
			"metadata": {
				"trusted": true,
				"tags": []
			},
			"execution_count": null,
			"outputs": [],
			"id": "e6addaf9-25fa-4c82-ad5a-b17821134aca"
		},
		{
			"cell_type": "code",
			"source": "ordersTablePathETLBranch = f\"s3a://{repo.id}/{glueTestBranch}/{ordersTable}\"\nprint(ordersTablePathETLBranch)",
			"metadata": {
				"trusted": true,
				"tags": []
			},
			"execution_count": null,
			"outputs": [],
			"id": "628b1a02-818e-4e3e-aecf-66583b84fef5"
		},
		{
			"cell_type": "code",
			"source": "spark.sql(f\" \\\n          CREATE EXTERNAL TABLE IF NOT EXISTS {glueDatabaseName}_{glueTestBranch}.{ordersTable}( \\\n              {ordersSchemaForGlue} \\\n          ) \\\n          LOCATION \\\n              '{ordersTablePathETLBranch}' \\\n          \").show()",
			"metadata": {
				"trusted": true,
				"tags": []
			},
			"execution_count": null,
			"outputs": [],
			"id": "e650579a-5f85-4a9b-ab52-811dad6708ba"
		},
		{
			"cell_type": "markdown",
			"source": "## Create symlink for the tables in the new branch",
			"metadata": {},
			"id": "36c647ed-f42f-4e6d-92f0-3326fee0991a"
		},
		{
			"cell_type": "code",
			"source": "print(f\"lakectl metastore create-symlink \\\n--repo {repo.id} \\\n--branch {glueTestBranch} \\\n--path {customersTable} \\\n--from-client-type glue \\\n--catalog-id {glueCatalogId} \\\n--from-schema {glueDatabaseName}_{glueTestBranch} \\\n--from-table {customersTable} \\\n--to-schema {glueDatabaseName}_{glueTestBranch} \\\n--to-table {customersTable} \\\n\")",
			"metadata": {
				"trusted": true,
				"tags": []
			},
			"execution_count": null,
			"outputs": [],
			"id": "cda755ee-45dd-443c-81ab-6f7c03fe7c1b"
		},
		{
			"cell_type": "code",
			"source": "print(f\"lakectl metastore create-symlink \\\n--repo {repo.id} \\\n--branch {glueTestBranch} \\\n--path {ordersTable} \\\n--from-client-type glue \\\n--catalog-id {glueCatalogId} \\\n--from-schema {glueDatabaseName}_{glueTestBranch} \\\n--from-table {ordersTable} \\\n--to-schema {glueDatabaseName}_{glueTestBranch} \\\n--to-table {ordersTable} \\\n\")",
			"metadata": {
				"trusted": true,
				"tags": []
			},
			"execution_count": null,
			"outputs": [],
			"id": "e7df70dc-d460-4769-b8fc-9654c7c17dd5"
		},
		{
			"cell_type": "markdown",
			"source": "## Execute Athena query to read the data from the new branch",
			"metadata": {},
			"id": "f7985acd-b71f-478d-899d-365452296727"
		},
		{
			"cell_type": "code",
			"source": "print(execute_athena_query(f'SELECT * FROM \"{glueDatabaseName}_{glueTestBranch}\".\"{customersTable}\"'))",
			"metadata": {
				"trusted": true,
				"tags": []
			},
			"execution_count": null,
			"outputs": [],
			"id": "452a9a5b-3a1d-45ca-87d7-3b0b0373bdc1"
		},
		{
			"cell_type": "markdown",
			"source": "## More Questions?\n\n###### Join the lakeFS Slack group - https://lakefs.io/slack",
			"metadata": {},
			"id": "557472bd-39ed-43d3-a00a-ed69ed8ab280"
		}
	]
}