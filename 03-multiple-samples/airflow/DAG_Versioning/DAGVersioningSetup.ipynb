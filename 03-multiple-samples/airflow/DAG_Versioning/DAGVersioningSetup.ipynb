{
 "cells": [
  {
   "cell_type": "markdown",
   "id": "9b2c8fa0-1702-411a-b11c-3190679bf31c",
   "metadata": {},
   "source": [
    "# Integration of lakeFS with Airflow via Hooks\n",
    "\n",
    "## Use Case: Versioning DAGs and running pipeline from hooks using a configurable version of DAGs"
   ]
  },
  {
   "cell_type": "markdown",
   "id": "f45932d7-2efe-4017-9fc3-822d92897884",
   "metadata": {},
   "source": [
    "## Versioning Information"
   ]
  },
  {
   "cell_type": "code",
   "execution_count": null,
   "id": "0acfaa39-dbac-4d1c-91ec-25428013b32c",
   "metadata": {},
   "outputs": [],
   "source": [
    "sourceBranch = \"main\"\n",
    "newBranch = \"version1\"\n",
    "fileName = \"lakefs_test.csv\"\n",
    "local_path = 'airflow/DAG_Versioning'\n",
    "dags_folder_on_lakefs = 'dags'\n",
    "data_folder_on_lakefs = 'data'\n",
    "actions_folder_on_lakefs = '_lakefs_actions'\n",
    "newPath = data_folder_on_lakefs + '/' + \"partitioned_data\"\n",
    "dag_name = 'lakefs_versioning_dag'\n",
    "dag_template_filename = 'lakefs_versioning_dag_template.py'\n",
    "dags_folder_on_github = 'https://raw.githubusercontent.com/treeverse/lakeFS-samples/main/03-multiple-samples/airflow/DAG_Versioning'"
   ]
  },
  {
   "cell_type": "markdown",
   "id": "d6fce752-bac6-4b94-bb9b-e07aadca396c",
   "metadata": {},
   "source": [
    "## Run [Common Setup](../Common/CommonSetup.ipynb) tasks here"
   ]
  },
  {
   "cell_type": "code",
   "execution_count": null,
   "id": "63e7809e-218b-435c-b5b2-caa3d76ceecb",
   "metadata": {},
   "outputs": [],
   "source": [
    "%run ./airflow/Common/CommonSetup.ipynb"
   ]
  },
  {
   "cell_type": "markdown",
   "id": "7a24fa50-8557-4a9e-8463-f093ce8d2bf9",
   "metadata": {},
   "source": [
    "## Import Python packages"
   ]
  },
  {
   "cell_type": "code",
   "execution_count": null,
   "id": "b8bfe84c-fce2-4be0-8314-073c6b9aa1d6",
   "metadata": {},
   "outputs": [],
   "source": [
    "# importing sys\n",
    "import sys\n",
    " \n",
    "# adding folder to the system path\n",
    "sys.path.insert(0, './'+local_path)\n",
    " \n",
    "from lakefs_create_dag import lakefs_create_dag"
   ]
  },
  {
   "cell_type": "markdown",
   "id": "c9a4729f-5f2e-4327-b79b-fbd78a2c0ad5",
   "metadata": {},
   "source": [
    "## Create Airflow connections for lakeFS"
   ]
  },
  {
   "cell_type": "code",
   "execution_count": null,
   "id": "1d346dbb-8259-4bf0-996b-04c334e46a11",
   "metadata": {},
   "outputs": [],
   "source": [
    "! airflow connections delete conn_http_github_dag_template\n",
    "httpConnectionCommand = 'airflow connections add conn_http_github_dag_template --conn-type=http --conn-host=' + dags_folder_on_github + '/' +dag_template_filename\n",
    "! $httpConnectionCommand > ./airflow/airflow-connection.txt\n",
    "with open(\"./airflow/airflow-connection.txt\", \"r\") as file:\n",
    "    last_line = file.readlines()[-1]\n",
    "print(last_line)"
   ]
  },
  {
   "cell_type": "markdown",
   "id": "7021c36a-4a47-41c5-a000-b5708d53ee33",
   "metadata": {},
   "source": [
    "## Set Airflow variables which are used by the demo workflow"
   ]
  },
  {
   "cell_type": "code",
   "execution_count": null,
   "id": "ced25d00-c2c5-4c72-8ab6-c6f6b8e62c64",
   "metadata": {},
   "outputs": [],
   "source": [
    "fileName_on_lakefs = data_folder_on_lakefs + '/' + fileName\n",
    "! airflow variables set fileName $fileName_on_lakefs\n",
    "! airflow variables set newPath $newPath\n",
    "! airflow variables set dags_folder_on_lakefs $dags_folder_on_lakefs\n",
    "! airflow variables set dag_name $dag_name\n",
    "! airflow variables set dag_template_filename $dag_template_filename\n",
    "! airflow variables set dags_folder_on_github $dags_folder_on_github"
   ]
  },
  {
   "cell_type": "markdown",
   "id": "8d7120e1-83ca-4c58-b1e1-cb83128c8b09",
   "metadata": {},
   "source": [
    "## Copy DAG programs to Airflow DAGs directory and sync to Airflow database"
   ]
  },
  {
   "cell_type": "code",
   "execution_count": null,
   "id": "9dfa830c-e7c7-4d7b-b6be-2716c894d5ad",
   "metadata": {},
   "outputs": [],
   "source": [
    "! cp ./airflow/DAG_Versioning/lakefs_create_dag_auto.py ./airflow/dags\n",
    "! cp ./airflow/DAG_Versioning/lakefs_delete_dag_auto.py ./airflow/dags\n",
    "! cp ./airflow/DAG_Versioning/lakefs_trigger_dag_auto.py ./airflow/dags\n",
    "\n",
    "dagbag = DagBag(include_examples=False)\n",
    "dagbag.sync_to_db()"
   ]
  },
  {
   "cell_type": "markdown",
   "id": "f32738a9-d669-4845-a5c3-b4c5f8af78fb",
   "metadata": {},
   "source": [
    "## Unpause Airflow DAGs"
   ]
  },
  {
   "cell_type": "code",
   "execution_count": null,
   "id": "b6625b71-1665-4780-ae4f-1076fd2a8822",
   "metadata": {},
   "outputs": [],
   "source": [
    "! airflow dags unpause lakefs_create_dag\n",
    "! airflow dags unpause lakefs_delete_dag\n",
    "! airflow dags unpause lakefs_trigger_dag"
   ]
  }
 ],
 "metadata": {
  "kernelspec": {
   "display_name": "Python 3 (ipykernel)",
   "language": "python",
   "name": "python3"
  },
  "language_info": {
   "codemirror_mode": {
    "name": "ipython",
    "version": 3
   },
   "file_extension": ".py",
   "mimetype": "text/x-python",
   "name": "python",
   "nbconvert_exporter": "python",
   "pygments_lexer": "ipython3",
   "version": "3.10.4"
  }
 },
 "nbformat": 4,
 "nbformat_minor": 5
}
