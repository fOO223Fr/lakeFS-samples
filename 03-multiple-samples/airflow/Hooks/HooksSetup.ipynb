{
 "cells": [
  {
   "cell_type": "markdown",
   "id": "9b2c8fa0-1702-411a-b11c-3190679bf31c",
   "metadata": {},
   "source": [
    "# Integration of lakeFS with Airflow via Hooks\n",
    "\n",
    "## Use Case: Isolated Ingestion & ETL Environment"
   ]
  },
  {
   "cell_type": "markdown",
   "id": "4c8b7afa-ff1a-4e34-8f9e-76d34da039e1",
   "metadata": {},
   "source": [
    "## Run [Common Setup](../Common/CommonSetup.ipynb) tasks here"
   ]
  },
  {
   "cell_type": "code",
   "execution_count": null,
   "id": "2e62dcc8-097a-4541-893a-3d682ed19db4",
   "metadata": {},
   "outputs": [],
   "source": [
    "%run ./airflow/Common/CommonSetup.ipynb"
   ]
  },
  {
   "cell_type": "markdown",
   "id": "7021c36a-4a47-41c5-a000-b5708d53ee33",
   "metadata": {},
   "source": [
    "## Set Airflow variables which are used by the demo workflow"
   ]
  },
  {
   "cell_type": "code",
   "execution_count": null,
   "id": "7012d111-e45b-4030-96da-6f270437fef5",
   "metadata": {},
   "outputs": [],
   "source": [
    "! airflow variables set sourceBranch $newBranch\n",
    "! airflow variables set newBranch $airflowBranch\n",
    "! airflow variables set newPath $newPath\n",
    "! airflow variables set successFileName $successFileName\n",
    "\n",
    "filePath = \"~\"\n",
    "! airflow variables set filePath $filePath\n",
    "\n",
    "fileName = \"lakefs_test.csv\"\n",
    "! airflow variables set fileName $fileName"
   ]
  },
  {
   "cell_type": "markdown",
   "id": "a6b6792e-b1be-4c26-90cd-e9d54924354f",
   "metadata": {},
   "source": [
    "## Copy DAG programs to Airflow DAGs directory and sync to Airflow database"
   ]
  },
  {
   "cell_type": "code",
   "execution_count": 1,
   "id": "4f31409a-f75c-4b2d-97ad-f82eb18dd776",
   "metadata": {},
   "outputs": [
    {
     "name": "stdout",
     "output_type": "stream",
     "text": [
      "cp: cannot stat './airflow/Hooks/lakefs_hooks_post_commit_dag.py': No such file or directory\n",
      "cp: cannot stat './airflow/Hooks/lakefs_hooks_pre_merge_dag.py': No such file or directory\n",
      "[\u001b[34m2023-03-13 21:28:47,502\u001b[0m] {\u001b[34mdagbag.py:\u001b[0m538} INFO\u001b[0m - Filling up the DagBag from /home/jovyan/airflow/dags\u001b[0m\n",
      "[\u001b[34m2023-03-13 21:28:48,335\u001b[0m] {\u001b[34mdagbag.py:\u001b[0m506} ERROR\u001b[0m - Exception bagging dag: lakefs_hooks_post_commit_dag\u001b[0m\n",
      "Traceback (most recent call last):\n",
      "  File \"/opt/conda/lib/python3.10/site-packages/airflow/models/dagbag.py\", line 497, in _bag_dag\n",
      "    raise AirflowDagDuplicatedIdException(\n",
      "airflow.exceptions.AirflowDagDuplicatedIdException: Ignoring DAG lakefs_hooks_post_commit_dag from /home/jovyan/airflow/dags/.ipynb_checkpoints/lakefs_hooks_post_commit_dag-checkpoint.py - also found in /home/jovyan/airflow/dags/lakefs_hooks_post_commit_dag.py\n",
      "[\u001b[34m2023-03-13 21:28:48,337\u001b[0m] {\u001b[34mdagbag.py:\u001b[0m450} ERROR\u001b[0m - Failed to bag_dag: /home/jovyan/airflow/dags/.ipynb_checkpoints/lakefs_hooks_post_commit_dag-checkpoint.py\u001b[0m\n",
      "Traceback (most recent call last):\n",
      "  File \"/opt/conda/lib/python3.10/site-packages/airflow/models/dagbag.py\", line 438, in _process_modules\n",
      "    self.bag_dag(dag=dag, root_dag=dag)\n",
      "  File \"/opt/conda/lib/python3.10/site-packages/airflow/models/dagbag.py\", line 465, in bag_dag\n",
      "    self._bag_dag(dag=dag, root_dag=root_dag, recursive=True)\n",
      "  File \"/opt/conda/lib/python3.10/site-packages/airflow/models/dagbag.py\", line 497, in _bag_dag\n",
      "    raise AirflowDagDuplicatedIdException(\n",
      "airflow.exceptions.AirflowDagDuplicatedIdException: Ignoring DAG lakefs_hooks_post_commit_dag from /home/jovyan/airflow/dags/.ipynb_checkpoints/lakefs_hooks_post_commit_dag-checkpoint.py - also found in /home/jovyan/airflow/dags/lakefs_hooks_post_commit_dag.py\n",
      "[\u001b[34m2023-03-13 21:28:48,371\u001b[0m] {\u001b[34mdagbag.py:\u001b[0m506} ERROR\u001b[0m - Exception bagging dag: lakefs_hooks_pre_merge_dag\u001b[0m\n",
      "Traceback (most recent call last):\n",
      "  File \"/opt/conda/lib/python3.10/site-packages/airflow/models/dagbag.py\", line 497, in _bag_dag\n",
      "    raise AirflowDagDuplicatedIdException(\n",
      "airflow.exceptions.AirflowDagDuplicatedIdException: Ignoring DAG lakefs_hooks_pre_merge_dag from /home/jovyan/airflow/dags/.ipynb_checkpoints/lakefs_hooks_pre_merge_dag-checkpoint.py - also found in /home/jovyan/airflow/dags/lakefs_hooks_pre_merge_dag.py\n",
      "[\u001b[34m2023-03-13 21:28:48,372\u001b[0m] {\u001b[34mdagbag.py:\u001b[0m450} ERROR\u001b[0m - Failed to bag_dag: /home/jovyan/airflow/dags/.ipynb_checkpoints/lakefs_hooks_pre_merge_dag-checkpoint.py\u001b[0m\n",
      "Traceback (most recent call last):\n",
      "  File \"/opt/conda/lib/python3.10/site-packages/airflow/models/dagbag.py\", line 438, in _process_modules\n",
      "    self.bag_dag(dag=dag, root_dag=dag)\n",
      "  File \"/opt/conda/lib/python3.10/site-packages/airflow/models/dagbag.py\", line 465, in bag_dag\n",
      "    self._bag_dag(dag=dag, root_dag=root_dag, recursive=True)\n",
      "  File \"/opt/conda/lib/python3.10/site-packages/airflow/models/dagbag.py\", line 497, in _bag_dag\n",
      "    raise AirflowDagDuplicatedIdException(\n",
      "airflow.exceptions.AirflowDagDuplicatedIdException: Ignoring DAG lakefs_hooks_pre_merge_dag from /home/jovyan/airflow/dags/.ipynb_checkpoints/lakefs_hooks_pre_merge_dag-checkpoint.py - also found in /home/jovyan/airflow/dags/lakefs_hooks_pre_merge_dag.py\n",
      "[\u001b[34m2023-03-13 21:28:48,412\u001b[0m] {\u001b[34mdagbag.py:\u001b[0m343} ERROR\u001b[0m - Failed to import: /home/jovyan/airflow/dags/.ipynb_checkpoints/lakefs_new_dag-checkpoint.py\u001b[0m\n",
      "Traceback (most recent call last):\n",
      "  File \"/opt/conda/lib/python3.10/site-packages/airflow/models/dagbag.py\", line 339, in parse\n",
      "    loader.exec_module(new_module)\n",
      "  File \"<frozen importlib._bootstrap_external>\", line 883, in exec_module\n",
      "  File \"<frozen importlib._bootstrap>\", line 241, in _call_with_frames_removed\n",
      "  File \"/home/jovyan/airflow/dags/.ipynb_checkpoints/lakefs_new_dag-checkpoint.py\", line 495, in <module>\n",
      "    sample_workflow_dag = lakefs_new_dag()\n",
      "  File \"/opt/conda/lib/python3.10/site-packages/airflow/models/dag.py\", line 3555, in factory\n",
      "    f(**f_kwargs)\n",
      "  File \"/home/jovyan/airflow/dags/.ipynb_checkpoints/lakefs_new_dag-checkpoint.py\", line 144, in lakefs_new_dag\n",
      "    content=open(\n",
      "FileNotFoundError: [Errno 2] No such file or directory: 'lakefs_test.csv'\n",
      "[\u001b[34m2023-03-13 21:28:48,419\u001b[0m] {\u001b[34mdagbag.py:\u001b[0m506} ERROR\u001b[0m - Exception bagging dag: plugin_test_dag\u001b[0m\n",
      "Traceback (most recent call last):\n",
      "  File \"/opt/conda/lib/python3.10/site-packages/airflow/models/dagbag.py\", line 497, in _bag_dag\n",
      "    raise AirflowDagDuplicatedIdException(\n",
      "airflow.exceptions.AirflowDagDuplicatedIdException: Ignoring DAG plugin_test_dag from /home/jovyan/airflow/dags/.ipynb_checkpoints/plugin_test_dag-checkpoint.py - also found in /home/jovyan/airflow/dags/plugin_test_dag.py\n",
      "[\u001b[34m2023-03-13 21:28:48,420\u001b[0m] {\u001b[34mdagbag.py:\u001b[0m450} ERROR\u001b[0m - Failed to bag_dag: /home/jovyan/airflow/dags/.ipynb_checkpoints/plugin_test_dag-checkpoint.py\u001b[0m\n",
      "Traceback (most recent call last):\n",
      "  File \"/opt/conda/lib/python3.10/site-packages/airflow/models/dagbag.py\", line 438, in _process_modules\n",
      "    self.bag_dag(dag=dag, root_dag=dag)\n",
      "  File \"/opt/conda/lib/python3.10/site-packages/airflow/models/dagbag.py\", line 465, in bag_dag\n",
      "    self._bag_dag(dag=dag, root_dag=root_dag, recursive=True)\n",
      "  File \"/opt/conda/lib/python3.10/site-packages/airflow/models/dagbag.py\", line 497, in _bag_dag\n",
      "    raise AirflowDagDuplicatedIdException(\n",
      "airflow.exceptions.AirflowDagDuplicatedIdException: Ignoring DAG plugin_test_dag from /home/jovyan/airflow/dags/.ipynb_checkpoints/plugin_test_dag-checkpoint.py - also found in /home/jovyan/airflow/dags/plugin_test_dag.py\n",
      "[\u001b[34m2023-03-13 21:28:48,599\u001b[0m] {\u001b[34mdag.py:\u001b[0m2690} INFO\u001b[0m - Sync 6 DAGs\u001b[0m\n",
      "[\u001b[34m2023-03-13 21:28:48,625\u001b[0m] {\u001b[34mdag.py:\u001b[0m3437} INFO\u001b[0m - Setting next_dagrun for lakefs_hooks_post_commit_dag to None, run_after=None\u001b[0m\n",
      "[\u001b[34m2023-03-13 21:28:48,630\u001b[0m] {\u001b[34mdag.py:\u001b[0m3437} INFO\u001b[0m - Setting next_dagrun for lakefs_hooks_pre_merge_dag to None, run_after=None\u001b[0m\n",
      "[\u001b[34m2023-03-13 21:28:48,632\u001b[0m] {\u001b[34mdag.py:\u001b[0m3437} INFO\u001b[0m - Setting next_dagrun for lakefs_new_dag to None, run_after=None\u001b[0m\n",
      "[\u001b[34m2023-03-13 21:28:48,635\u001b[0m] {\u001b[34mdag.py:\u001b[0m3437} INFO\u001b[0m - Setting next_dagrun for lakefs_tutorial_taskflow_api_etl to None, run_after=None\u001b[0m\n",
      "[\u001b[34m2023-03-13 21:28:48,638\u001b[0m] {\u001b[34mdag.py:\u001b[0m3437} INFO\u001b[0m - Setting next_dagrun for lakefs_wrapper_dag to None, run_after=None\u001b[0m\n",
      "[\u001b[34m2023-03-13 21:28:48,642\u001b[0m] {\u001b[34mdag.py:\u001b[0m3437} INFO\u001b[0m - Setting next_dagrun for plugin_test_dag to None, run_after=None\u001b[0m\n"
     ]
    }
   ],
   "source": [
    "! cp ./airflow/Hooks/lakefs_hooks_post_commit_dag.py ./airflow/dags\n",
    "! cp ./airflow/Hooks/lakefs_hooks_pre_merge_dag.py ./airflow/dags\n",
    "\n",
    "dagbag = DagBag(include_examples=False)\n",
    "dagbag.sync_to_db()"
   ]
  },
  {
   "cell_type": "markdown",
   "id": "7c43fcb5-96c1-4b91-8ab4-0f943bd5343c",
   "metadata": {},
   "source": [
    "## Unpause Airflow DAGs"
   ]
  },
  {
   "cell_type": "code",
   "execution_count": 2,
   "id": "f083dbcb-0a5c-42dd-8408-82e9baa41774",
   "metadata": {},
   "outputs": [
    {
     "name": "stdout",
     "output_type": "stream",
     "text": [
      "Dag: lakefs_hooks_post_commit_dag, paused: False\n",
      "Dag: lakefs_hooks_pre_merge_dag, paused: False\n"
     ]
    }
   ],
   "source": [
    "! airflow dags unpause lakefs_hooks_post_commit_dag\n",
    "! airflow dags unpause lakefs_hooks_pre_merge_dag"
   ]
  },
  {
   "cell_type": "code",
   "execution_count": null,
   "id": "e8baac0b-ee59-4611-a227-49cad78d0797",
   "metadata": {},
   "outputs": [],
   "source": []
  }
 ],
 "metadata": {
  "kernelspec": {
   "display_name": "Python 3 (ipykernel)",
   "language": "python",
   "name": "python3"
  },
  "language_info": {
   "codemirror_mode": {
    "name": "ipython",
    "version": 3
   },
   "file_extension": ".py",
   "mimetype": "text/x-python",
   "name": "python",
   "nbconvert_exporter": "python",
   "pygments_lexer": "ipython3",
   "version": "3.10.4"
  }
 },
 "nbformat": 4,
 "nbformat_minor": 5
}
