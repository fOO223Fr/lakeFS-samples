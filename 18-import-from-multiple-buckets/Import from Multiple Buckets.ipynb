{
 "cells": [
  {
   "cell_type": "markdown",
   "id": "9b2c8fa0-1702-411a-b11c-3190679bf31c",
   "metadata": {},
   "source": [
    "# Import into a lakeFS repository from multiple paths"
   ]
  },
  {
   "cell_type": "markdown",
   "id": "ee1f1244-ba66-4560-9e0c-7b87660aff67",
   "metadata": {},
   "source": [
    "## Prerequisites\n",
    "\n",
    "###### This Notebook requires connecting to a lakeFS Server. \n",
    "###### To spin up lakeFS quickly - use lakeFS Cloud (https://lakefs.cloud) which provides lakeFS server on-demand with a single click; \n",
    "###### Or, alternatively, refer to lakeFS Quickstart doc (https://docs.lakefs.io/quickstart/installing.html)."
   ]
  },
  {
   "cell_type": "markdown",
   "id": "387f4469-9708-435d-bec9-c943fd87a0bf",
   "metadata": {},
   "source": [
    "## Change your lakeFS credentials"
   ]
  },
  {
   "cell_type": "code",
   "execution_count": null,
   "id": "dfa46799-5f86-4104-9447-d91328edbff4",
   "metadata": {},
   "outputs": [],
   "source": [
    "lakefsEndPoint = '<lakeFS Endpoint URL>' # e.g. 'https://username.aws_region_name.lakefscloud.io'\n",
    "lakefsAccessKey = '<lakeFS Access Key>'\n",
    "lakefsSecretKey = '<lakeFS Secret Key>'"
   ]
  },
  {
   "cell_type": "markdown",
   "id": "13d1c562-9899-4343-b887-c5c018ea79b0",
   "metadata": {},
   "source": [
    "## Storage Information\n",
    "#### Change the Storage Namespace to a location in the bucket you’ve configured. The storage namespace is a location in the underlying storage where data for this repository will be stored."
   ]
  },
  {
   "cell_type": "code",
   "execution_count": null,
   "id": "25b151c2-743d-43e1-9f2f-25482967c207",
   "metadata": {},
   "outputs": [],
   "source": [
    "storageNamespace = 's3://<S3 Bucket Name>/' # e.g. \"s3://username-lakefs-cloud/\""
   ]
  },
  {
   "cell_type": "markdown",
   "id": "c093db8e-68d9-409f-bde7-73ee4ceca5a5",
   "metadata": {},
   "source": [
    "## Environment Variable"
   ]
  },
  {
   "cell_type": "code",
   "execution_count": null,
   "id": "3b839850-5954-4631-8e7e-d0dee6d17dde",
   "metadata": {},
   "outputs": [],
   "source": [
    "sourceBranch = \"main\"\n",
    "repo = \"multi-bucket-import-repo\"\n",
    "\n",
    "# Import Sources and Destinations\n",
    "importSource1 = \"s3://\" # e.g. \"s3://sample-dog-images/Images/n02085620-Chihuahua/\"\n",
    "importSource2 = \"s3://\" # e.g. \"s3://sample-dog-images/Annotation/n02085620-Chihuahua/\"\n",
    "importDestination1 = \"\" # e.g. \"Images/\"\n",
    "importDestination2 = \"\" # e.g. \"Annotations/\""
   ]
  },
  {
   "cell_type": "markdown",
   "id": "a7ede096-1b84-4b59-bdd1-2608ced6be51",
   "metadata": {},
   "source": [
    "## Configuring the lakeFS Python client"
   ]
  },
  {
   "cell_type": "code",
   "execution_count": null,
   "id": "468e98e4-7e06-4373-b36b-f1763cc7755d",
   "metadata": {},
   "outputs": [],
   "source": [
    "%xmode Minimal\n",
    "import lakefs_client\n",
    "from lakefs_client import models\n",
    "from lakefs_client.client import LakeFSClient\n",
    "\n",
    "# lakeFS credentials and endpoint\n",
    "configuration = lakefs_client.Configuration()\n",
    "configuration.username = lakefsAccessKey\n",
    "configuration.password = lakefsSecretKey\n",
    "configuration.host = lakefsEndPoint\n",
    "\n",
    "client = LakeFSClient(configuration)"
   ]
  },
  {
   "cell_type": "markdown",
   "id": "2422d8af-c714-4d32-aa7b-eddfacbbddb4",
   "metadata": {},
   "source": [
    "## Creating a new lakeFS repository"
   ]
  },
  {
   "cell_type": "code",
   "execution_count": null,
   "id": "19a4d613-f76d-497d-844d-21aadf1fc50e",
   "metadata": {},
   "outputs": [],
   "source": [
    "client.repositories.create_repository(\n",
    "    repository_creation=models.RepositoryCreation(\n",
    "        name=repo,\n",
    "        storage_namespace=storageNamespace,\n",
    "        default_branch=sourceBranch))"
   ]
  },
  {
   "cell_type": "markdown",
   "id": "4176ff15-c1be-462e-8106-bd19a089cfff",
   "metadata": {},
   "source": [
    "## Import to a single repository from multiple paths"
   ]
  },
  {
   "cell_type": "code",
   "execution_count": null,
   "id": "1c7dc4b9-744f-493b-887d-6324dbd1cdcf",
   "metadata": {},
   "outputs": [],
   "source": [
    "import time\n",
    "\n",
    "# Start Import\n",
    "import_api = client.__dict__[\"import\"]\n",
    "commit = models.CommitCreation(message=\"import objects\", metadata={\"key\": \"value\"})\n",
    "paths=[\n",
    "    models.ImportLocation(type=\"common_prefix\", path=importSource1, destination=importDestination1),\n",
    "    models.ImportLocation(type=\"common_prefix\", path=importSource2, destination=importDestination2)\n",
    "]\n",
    "import_creation = models.ImportCreation(paths=paths, commit=commit)\n",
    "create_resp = import_api.import_start(repo, sourceBranch, import_creation)\n",
    "\n",
    "# Wait for import to finish\n",
    "while True:\n",
    "    status_resp = import_api.import_status(repo, sourceBranch, create_resp.id)\n",
    "    print(status_resp)\n",
    "    if hasattr(status_resp, \"Error in import\"):\n",
    "        raise Exception(status_resp.err)\n",
    "    if status_resp.completed:\n",
    "        print(\"Import completed Successfully. Data imported into branch:\", status_resp.import_branch)\n",
    "        break\n",
    "    time.sleep(2)"
   ]
  },
  {
   "cell_type": "markdown",
   "id": "ed1629fe-2b8d-442b-bb42-9a9e1779875e",
   "metadata": {},
   "source": [
    "## Merge import branch into main"
   ]
  },
  {
   "cell_type": "code",
   "execution_count": null,
   "id": "04a00a4a-652e-4d21-ac94-674201e10378",
   "metadata": {},
   "outputs": [],
   "source": [
    "client.refs.merge_into_branch(\n",
    "    repository=repo,\n",
    "    source_ref=status_resp.import_branch, \n",
    "    destination_branch=sourceBranch)"
   ]
  },
  {
   "cell_type": "markdown",
   "id": "765fc9c6-c8f2-4b75-8e5e-f7af1dcd6e36",
   "metadata": {},
   "source": [
    "## More Questions?\n",
    "\n",
    "###### Join the lakeFS Slack group - https://lakefs.io/slack"
   ]
  },
  {
   "cell_type": "code",
   "execution_count": null,
   "id": "ba58ce89-ac44-450d-89b7-f9f43cf8f4e0",
   "metadata": {},
   "outputs": [],
   "source": []
  }
 ],
 "metadata": {
  "kernelspec": {
   "display_name": "Python 3 (ipykernel)",
   "language": "python",
   "name": "python3"
  },
  "language_info": {
   "codemirror_mode": {
    "name": "ipython",
    "version": 3
   },
   "file_extension": ".py",
   "mimetype": "text/x-python",
   "name": "python",
   "nbconvert_exporter": "python",
   "pygments_lexer": "ipython3",
   "version": "3.10.4"
  }
 },
 "nbformat": 4,
 "nbformat_minor": 5
}
